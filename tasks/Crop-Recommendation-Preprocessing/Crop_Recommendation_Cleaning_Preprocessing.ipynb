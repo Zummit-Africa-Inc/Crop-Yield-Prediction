{
 "cells": [
  {
   "cell_type": "markdown",
   "metadata": {},
   "source": [
    "# Crop Recommendation Model"
   ]
  },
  {
   "cell_type": "markdown",
   "metadata": {},
   "source": [
    "Cleaning and preprocessing of crop historical data to prepare the dataset for building multiclassification models that can predict what crop type as the target variable based on the inputed conditions as the independent variable.\n",
    "\n",
    "Cleaning and preprocessing workflow involves checking out the properities of the features and the target variables, the distibutions of the features, checking for missing values and outliers and treating them and dealing with other preprocessing techniques that applies to the dataset.\n",
    "\n",
    "Thereafter the ML model used was lgbmclassifer, acheiving a $98%$ accuracy."
   ]
  },
  {
   "cell_type": "code",
   "execution_count": 1,
   "metadata": {
    "id": "KhUah30CHa8b"
   },
   "outputs": [],
   "source": [
    "import pandas as pd\n",
    "import numpy as np\n",
    "import matplotlib\n",
    "import matplotlib.pyplot as plt\n",
    "%matplotlib inline\n",
    "import seaborn as sns"
   ]
  },
  {
   "cell_type": "code",
   "execution_count": 2,
   "metadata": {
    "colab": {
     "base_uri": "https://localhost:8080/",
     "height": 206
    },
    "id": "3bS914gZY_xq",
    "outputId": "741e0dbf-5717-4af5-87fd-4048a4be5a93"
   },
   "outputs": [
    {
     "data": {
      "text/html": [
       "<div>\n",
       "<style scoped>\n",
       "    .dataframe tbody tr th:only-of-type {\n",
       "        vertical-align: middle;\n",
       "    }\n",
       "\n",
       "    .dataframe tbody tr th {\n",
       "        vertical-align: top;\n",
       "    }\n",
       "\n",
       "    .dataframe thead th {\n",
       "        text-align: right;\n",
       "    }\n",
       "</style>\n",
       "<table border=\"1\" class=\"dataframe\">\n",
       "  <thead>\n",
       "    <tr style=\"text-align: right;\">\n",
       "      <th></th>\n",
       "      <th>N</th>\n",
       "      <th>P</th>\n",
       "      <th>K</th>\n",
       "      <th>temperature</th>\n",
       "      <th>humidity</th>\n",
       "      <th>ph</th>\n",
       "      <th>rainfall</th>\n",
       "      <th>label</th>\n",
       "    </tr>\n",
       "  </thead>\n",
       "  <tbody>\n",
       "    <tr>\n",
       "      <th>0</th>\n",
       "      <td>90</td>\n",
       "      <td>42</td>\n",
       "      <td>43</td>\n",
       "      <td>20.879744</td>\n",
       "      <td>82.002744</td>\n",
       "      <td>6.502985</td>\n",
       "      <td>202.935536</td>\n",
       "      <td>rice</td>\n",
       "    </tr>\n",
       "    <tr>\n",
       "      <th>1</th>\n",
       "      <td>85</td>\n",
       "      <td>58</td>\n",
       "      <td>41</td>\n",
       "      <td>21.770462</td>\n",
       "      <td>80.319644</td>\n",
       "      <td>7.038096</td>\n",
       "      <td>226.655537</td>\n",
       "      <td>rice</td>\n",
       "    </tr>\n",
       "    <tr>\n",
       "      <th>2</th>\n",
       "      <td>60</td>\n",
       "      <td>55</td>\n",
       "      <td>44</td>\n",
       "      <td>23.004459</td>\n",
       "      <td>82.320763</td>\n",
       "      <td>7.840207</td>\n",
       "      <td>263.964248</td>\n",
       "      <td>rice</td>\n",
       "    </tr>\n",
       "    <tr>\n",
       "      <th>3</th>\n",
       "      <td>74</td>\n",
       "      <td>35</td>\n",
       "      <td>40</td>\n",
       "      <td>26.491096</td>\n",
       "      <td>80.158363</td>\n",
       "      <td>6.980401</td>\n",
       "      <td>242.864034</td>\n",
       "      <td>rice</td>\n",
       "    </tr>\n",
       "    <tr>\n",
       "      <th>4</th>\n",
       "      <td>78</td>\n",
       "      <td>42</td>\n",
       "      <td>42</td>\n",
       "      <td>20.130175</td>\n",
       "      <td>81.604873</td>\n",
       "      <td>7.628473</td>\n",
       "      <td>262.717340</td>\n",
       "      <td>rice</td>\n",
       "    </tr>\n",
       "  </tbody>\n",
       "</table>\n",
       "</div>"
      ],
      "text/plain": [
       "    N   P   K  temperature   humidity        ph    rainfall label\n",
       "0  90  42  43    20.879744  82.002744  6.502985  202.935536  rice\n",
       "1  85  58  41    21.770462  80.319644  7.038096  226.655537  rice\n",
       "2  60  55  44    23.004459  82.320763  7.840207  263.964248  rice\n",
       "3  74  35  40    26.491096  80.158363  6.980401  242.864034  rice\n",
       "4  78  42  42    20.130175  81.604873  7.628473  262.717340  rice"
      ]
     },
     "execution_count": 2,
     "metadata": {},
     "output_type": "execute_result"
    }
   ],
   "source": [
    "crop_df = pd.read_csv('C:/Users/USER/Desktop/Projects/Crop-Yield-Prediction/Data/data2/Crop_recommendation.csv')\n",
    "crop_df.head()"
   ]
  },
  {
   "cell_type": "code",
   "execution_count": 3,
   "metadata": {
    "colab": {
     "base_uri": "https://localhost:8080/"
    },
    "id": "YZlqH7FPZLa9",
    "outputId": "4321589f-ffa4-4ae9-c617-c893c75cb340"
   },
   "outputs": [
    {
     "data": {
      "text/plain": [
       "(2200, 8)"
      ]
     },
     "execution_count": 3,
     "metadata": {},
     "output_type": "execute_result"
    }
   ],
   "source": [
    "crop_df.shape"
   ]
  },
  {
   "cell_type": "code",
   "execution_count": 4,
   "metadata": {
    "colab": {
     "base_uri": "https://localhost:8080/"
    },
    "id": "lQ1eyZsNaSOu",
    "outputId": "f43c4491-1c31-43bd-80bd-4a325046803b"
   },
   "outputs": [
    {
     "name": "stdout",
     "output_type": "stream",
     "text": [
      "<class 'pandas.core.frame.DataFrame'>\n",
      "RangeIndex: 2200 entries, 0 to 2199\n",
      "Data columns (total 8 columns):\n",
      " #   Column       Non-Null Count  Dtype  \n",
      "---  ------       --------------  -----  \n",
      " 0   N            2200 non-null   int64  \n",
      " 1   P            2200 non-null   int64  \n",
      " 2   K            2200 non-null   int64  \n",
      " 3   temperature  2200 non-null   float64\n",
      " 4   humidity     2200 non-null   float64\n",
      " 5   ph           2200 non-null   float64\n",
      " 6   rainfall     2200 non-null   float64\n",
      " 7   label        2200 non-null   object \n",
      "dtypes: float64(4), int64(3), object(1)\n",
      "memory usage: 137.6+ KB\n"
     ]
    }
   ],
   "source": [
    "crop_df.info()"
   ]
  },
  {
   "cell_type": "code",
   "execution_count": 5,
   "metadata": {
    "colab": {
     "base_uri": "https://localhost:8080/"
    },
    "id": "TiizjERtab0a",
    "outputId": "2a9285cb-2307-4c2c-a2ff-ef329e8aa939"
   },
   "outputs": [
    {
     "data": {
      "text/plain": [
       "rice           100\n",
       "maize          100\n",
       "jute           100\n",
       "cotton         100\n",
       "coconut        100\n",
       "papaya         100\n",
       "orange         100\n",
       "apple          100\n",
       "muskmelon      100\n",
       "watermelon     100\n",
       "grapes         100\n",
       "mango          100\n",
       "banana         100\n",
       "pomegranate    100\n",
       "lentil         100\n",
       "blackgram      100\n",
       "mungbean       100\n",
       "mothbeans      100\n",
       "pigeonpeas     100\n",
       "kidneybeans    100\n",
       "chickpea       100\n",
       "coffee         100\n",
       "Name: label, dtype: int64"
      ]
     },
     "execution_count": 5,
     "metadata": {},
     "output_type": "execute_result"
    }
   ],
   "source": [
    "crop_df['label'].value_counts()"
   ]
  },
  {
   "cell_type": "code",
   "execution_count": 8,
   "metadata": {},
   "outputs": [
    {
     "data": {
      "text/plain": [
       "0"
      ]
     },
     "execution_count": 8,
     "metadata": {},
     "output_type": "execute_result"
    }
   ],
   "source": [
    "crop_df.duplicated().sum()"
   ]
  },
  {
   "cell_type": "code",
   "execution_count": 9,
   "metadata": {
    "id": "xVF8Knp5dKj_"
   },
   "outputs": [],
   "source": [
    "col = crop_df.columns"
   ]
  },
  {
   "cell_type": "code",
   "execution_count": 10,
   "metadata": {
    "colab": {
     "base_uri": "https://localhost:8080/"
    },
    "id": "YFYfGpgZdpJT",
    "outputId": "48f75168-ecdf-40d2-8811-9a7579d32da3"
   },
   "outputs": [
    {
     "data": {
      "text/plain": [
       "Index(['N', 'P', 'K', 'temperature', 'humidity', 'ph', 'rainfall', 'label'], dtype='object')"
      ]
     },
     "execution_count": 10,
     "metadata": {},
     "output_type": "execute_result"
    }
   ],
   "source": [
    "crop_df.columns"
   ]
  },
  {
   "cell_type": "code",
   "execution_count": 11,
   "metadata": {
    "colab": {
     "base_uri": "https://localhost:8080/",
     "height": 1000
    },
    "id": "kzY0RyF9beaV",
    "outputId": "c25d52bb-64bc-44aa-ca7e-1de6ec76a6ff"
   },
   "outputs": [
    {
     "data": {
      "image/png": "[encoded data removed]",
      "text/plain": [
       "<Figure size 432x288 with 1 Axes>"
      ]
     },
     "metadata": {
      "needs_background": "light"
     },
     "output_type": "display_data"
    },
    {
     "data": {
      "image/png": "[encoded data removed]",
      "text/plain": [
       "<Figure size 432x288 with 1 Axes>"
      ]
     },
     "metadata": {
      "needs_background": "light"
     },
     "output_type": "display_data"
    },
    {
     "data": {
      "image/png": "[encoded data removed]",
      "text/plain": [
       "<Figure size 432x288 with 1 Axes>"
      ]
     },
     "metadata": {
      "needs_background": "light"
     },
     "output_type": "display_data"
    },
    {
     "data": {
      "image/png": "[encoded data removed]",
      "text/plain": [
       "<Figure size 432x288 with 1 Axes>"
      ]
     },
     "metadata": {
      "needs_background": "light"
     },
     "output_type": "display_data"
    },
    {
     "data": {
      "image/png": "[encoded data removed]",
      "text/plain": [
       "<Figure size 432x288 with 1 Axes>"
      ]
     },
     "metadata": {
      "needs_background": "light"
     },
     "output_type": "display_data"
    },
    {
     "data": {
      "image/png": "[encoded data removed]",
      "text/plain": [
       "<Figure size 432x288 with 1 Axes>"
      ]
     },
     "metadata": {
      "needs_background": "light"
     },
     "output_type": "display_data"
    },
    {
     "data": {
      "image/png": "[encoded data removed]",
      "text/plain": [
       "<Figure size 432x288 with 1 Axes>"
      ]
     },
     "metadata": {
      "needs_background": "light"
     },
     "output_type": "display_data"
    }
   ],
   "source": [
    "for i in col: # Checking for the distribution of all independent features\n",
    "  if i != 'label':\n",
    "    crop_df[i].hist(bins=25)\n",
    "    plt.xlabel(i)\n",
    "    plt.ylabel(\"Count\")\n",
    "    plt.title(i)\n",
    "    plt.show()"
   ]
  },
  {
   "cell_type": "code",
   "execution_count": 12,
   "metadata": {
    "colab": {
     "base_uri": "https://localhost:8080/",
     "height": 1000
    },
    "id": "3ZbfbAdGdkfn",
    "outputId": "0022b9fc-44a1-4077-a10c-6990481a2e45"
   },
   "outputs": [
    {
     "data": {
      "image/png": "[encoded data removed]",
      "text/plain": [
       "<Figure size 432x288 with 1 Axes>"
      ]
     },
     "metadata": {
      "needs_background": "light"
     },
     "output_type": "display_data"
    },
    {
     "data": {
      "image/png": "[encoded data removed]",
      "text/plain": [
       "<Figure size 432x288 with 1 Axes>"
      ]
     },
     "metadata": {
      "needs_background": "light"
     },
     "output_type": "display_data"
    },
    {
     "data": {
      "image/png": "[encoded data removed]",
      "text/plain": [
       "<Figure size 432x288 with 1 Axes>"
      ]
     },
     "metadata": {
      "needs_background": "light"
     },
     "output_type": "display_data"
    },
    {
     "data": {
      "image/png": "[encoded data removed]",
      "text/plain": [
       "<Figure size 432x288 with 1 Axes>"
      ]
     },
     "metadata": {
      "needs_background": "light"
     },
     "output_type": "display_data"
    },
    {
     "data": {
      "image/png": "[encoded data removed]",
      "text/plain": [
       "<Figure size 432x288 with 1 Axes>"
      ]
     },
     "metadata": {
      "needs_background": "light"
     },
     "output_type": "display_data"
    },
    {
     "data": {
      "image/png": "[encoded data removed]",
      "text/plain": [
       "<Figure size 432x288 with 1 Axes>"
      ]
     },
     "metadata": {
      "needs_background": "light"
     },
     "output_type": "display_data"
    }
   ],
   "source": [
    "# The distribution plot from the features above have some noticeable biases because they are skewed and can be corrected with the log transformation.\n",
    "new_crop = crop_df.copy()\n",
    "cols = ['N', 'P', 'K', 'humidity', 'rainfall']\n",
    "for i in col:\n",
    "  if 0 in new_crop[i].unique() or i == 'label':\n",
    "    pass\n",
    "  else:\n",
    "    new_crop[i] = np.log2(new_crop[i])\n",
    "    new_crop[i].hist(bins=25)\n",
    "    plt.xlabel(i)\n",
    "    plt.ylabel(\"Count\")\n",
    "    plt.title(i)\n",
    "    plt.show()"
   ]
  },
  {
   "cell_type": "code",
   "execution_count": 13,
   "metadata": {
    "colab": {
     "base_uri": "https://localhost:8080/"
    },
    "id": "q3gPlfk9h0eY",
    "outputId": "cc06605a-7cf4-4de1-ec91-1489da7f7710"
   },
   "outputs": [
    {
     "data": {
      "text/plain": [
       "N              0\n",
       "P              0\n",
       "K              0\n",
       "temperature    0\n",
       "humidity       0\n",
       "ph             0\n",
       "rainfall       0\n",
       "label          0\n",
       "dtype: int64"
      ]
     },
     "execution_count": 13,
     "metadata": {},
     "output_type": "execute_result"
    }
   ],
   "source": [
    "crop_df.isna().sum()"
   ]
  },
  {
   "cell_type": "code",
   "execution_count": 14,
   "metadata": {
    "colab": {
     "base_uri": "https://localhost:8080/",
     "height": 1000
    },
    "id": "R-Q_OfcZlwX3",
    "outputId": "c9bba0ff-5dbb-468d-f582-c23e68ee46e7"
   },
   "outputs": [
    {
     "data": {
      "image/png": "[encoded data removed]",
      "text/plain": [
       "<Figure size 432x288 with 1 Axes>"
      ]
     },
     "metadata": {
      "needs_background": "light"
     },
     "output_type": "display_data"
    },
    {
     "data": {
      "image/png": "[encoded data removed]",
      "text/plain": [
       "<Figure size 432x288 with 1 Axes>"
      ]
     },
     "metadata": {
      "needs_background": "light"
     },
     "output_type": "display_data"
    },
    {
     "data": {
      "image/png": "[encoded data removed]",
      "text/plain": [
       "<Figure size 432x288 with 1 Axes>"
      ]
     },
     "metadata": {
      "needs_background": "light"
     },
     "output_type": "display_data"
    },
    {
     "data": {
      "image/png": "[encoded data removed]",
      "text/plain": [
       "<Figure size 432x288 with 1 Axes>"
      ]
     },
     "metadata": {
      "needs_background": "light"
     },
     "output_type": "display_data"
    },
    {
     "data": {
      "image/png": "[encoded data removed]",
      "text/plain": [
       "<Figure size 432x288 with 1 Axes>"
      ]
     },
     "metadata": {
      "needs_background": "light"
     },
     "output_type": "display_data"
    },
    {
     "data": {
      "image/png": "[encoded data removed]",
      "text/plain": [
       "<Figure size 432x288 with 1 Axes>"
      ]
     },
     "metadata": {
      "needs_background": "light"
     },
     "output_type": "display_data"
    },
    {
     "data": {
      "image/png": "[encoded data removed]",
      "text/plain": [
       "<Figure size 432x288 with 1 Axes>"
      ]
     },
     "metadata": {
      "needs_background": "light"
     },
     "output_type": "display_data"
    }
   ],
   "source": [
    "for i in col:\n",
    "    if i != 'label':\n",
    "        crop_df.boxplot(column=i)\n",
    "        plt.ylabel(i)\n",
    "        plt.title(i)\n",
    "        plt.show()"
   ]
  },
  {
   "cell_type": "code",
   "execution_count": 15,
   "metadata": {},
   "outputs": [
    {
     "data": {
      "text/plain": [
       "(2200, 8)"
      ]
     },
     "execution_count": 15,
     "metadata": {},
     "output_type": "execute_result"
    }
   ],
   "source": [
    "crop_df.shape"
   ]
  },
  {
   "cell_type": "code",
   "execution_count": 16,
   "metadata": {},
   "outputs": [],
   "source": [
    "from sklearn.preprocessing import MinMaxScaler"
   ]
  },
  {
   "cell_type": "code",
   "execution_count": 17,
   "metadata": {},
   "outputs": [],
   "source": [
    "X = crop_df.drop('label', axis=1)\n",
    "Y = crop_df['label']"
   ]
  },
  {
   "cell_type": "code",
   "execution_count": 21,
   "metadata": {},
   "outputs": [],
   "source": [
    "scaler = MinMaxScaler()\n",
    "X = scaler.fit_transform(X)"
   ]
  },
  {
   "cell_type": "code",
   "execution_count": 22,
   "metadata": {},
   "outputs": [],
   "source": [
    "# Save the scaler as a pickle file\n",
    "import pickle\n",
    "with open(\"scaler.pkl\", \"wb\") as f:\n",
    "    pickle.dump(scaler, f)"
   ]
  },
  {
   "cell_type": "code",
   "execution_count": 23,
   "metadata": {},
   "outputs": [
    {
     "data": {
      "text/plain": [
       "array([[0.64285714, 0.26428571, 0.19      , ..., 0.79026683, 0.46626364,\n",
       "        0.65645778],\n",
       "       [0.60714286, 0.37857143, 0.18      , ..., 0.77063285, 0.54948026,\n",
       "        0.74167459],\n",
       "       [0.42857143, 0.35714286, 0.195     , ..., 0.79397664, 0.67421877,\n",
       "        0.87571039],\n",
       "       ...,\n",
       "       [0.84285714, 0.2       , 0.125     , ..., 0.61788046, 0.44443315,\n",
       "        0.55007079],\n",
       "       [0.83571429, 0.19285714, 0.145     , ..., 0.44175991, 0.50604494,\n",
       "        0.38428046],\n",
       "       [0.74285714, 0.09285714, 0.125     , ..., 0.53822177, 0.50931694,\n",
       "        0.43372112]])"
      ]
     },
     "execution_count": 23,
     "metadata": {},
     "output_type": "execute_result"
    }
   ],
   "source": [
    "X"
   ]
  },
  {
   "cell_type": "code",
   "execution_count": 24,
   "metadata": {},
   "outputs": [],
   "source": [
    "from sklearn.model_selection import train_test_split\n",
    "X_train,X_test,Y_train,Y_test = train_test_split(X,Y,test_size=0.2,shuffle=True)"
   ]
  },
  {
   "cell_type": "code",
   "execution_count": 25,
   "metadata": {},
   "outputs": [
    {
     "data": {
      "text/plain": [
       "LGBMClassifier()"
      ]
     },
     "execution_count": 25,
     "metadata": {},
     "output_type": "execute_result"
    }
   ],
   "source": [
    "import lightgbm as lgb\n",
    "model = lgb.LGBMClassifier()\n",
    "model.fit(X_train, Y_train)"
   ]
  },
  {
   "cell_type": "code",
   "execution_count": 26,
   "metadata": {},
   "outputs": [],
   "source": [
    "from sklearn.metrics import accuracy_score"
   ]
  },
  {
   "cell_type": "code",
   "execution_count": 27,
   "metadata": {},
   "outputs": [],
   "source": [
    "Y_Pred = model.predict(X_test)"
   ]
  },
  {
   "cell_type": "code",
   "execution_count": 28,
   "metadata": {},
   "outputs": [
    {
     "name": "stdout",
     "output_type": "stream",
     "text": [
      "Accuracy Score:  0.9954545454545455\n",
      "Confusion Matrix:  [[20  0  0  0  0  0  0  0  0  0  0  0  0  0  0  0  0  0  0  0  0  0]\n",
      " [ 0 10  0  0  0  0  0  0  0  0  0  0  0  0  0  0  0  0  0  0  0  0]\n",
      " [ 0  0 24  0  0  0  0  0  0  0  0  0  0  0  0  0  0  0  0  0  0  0]\n",
      " [ 0  0  0 23  0  0  0  0  0  0  0  0  0  0  0  0  0  0  0  0  0  0]\n",
      " [ 0  0  0  0 19  0  0  0  0  0  0  0  0  0  0  0  0  0  0  0  0  0]\n",
      " [ 0  0  0  0  0 14  0  0  0  0  0  0  0  0  0  0  0  0  0  0  0  0]\n",
      " [ 0  0  0  0  0  0 26  0  0  0  0  0  0  0  0  0  0  0  0  0  0  0]\n",
      " [ 0  0  0  0  0  0  0 22  0  0  0  0  0  0  0  0  0  0  0  0  0  0]\n",
      " [ 0  0  0  0  0  0  0  0 18  0  0  0  0  0  0  0  0  0  0  0  1  0]\n",
      " [ 0  0  0  0  0  0  0  0  0 26  0  0  0  0  0  0  0  0  0  0  0  0]\n",
      " [ 0  0  0  0  0  0  0  0  0  0 27  0  0  0  0  0  0  0  0  0  0  0]\n",
      " [ 0  0  0  0  0  0  0  0  0  0  0 18  0  0  0  0  0  0  0  0  0  0]\n",
      " [ 0  0  0  0  0  0  0  0  0  0  0  0 15  0  0  0  0  0  0  0  0  0]\n",
      " [ 0  0  0  0  0  0  0  0  0  0  0  0  0 18  0  0  0  0  0  0  0  0]\n",
      " [ 0  0  0  0  0  0  0  0  0  0  0  0  0  0 22  0  0  0  0  0  0  0]\n",
      " [ 0  0  0  0  0  0  0  0  0  0  0  0  0  0  0 18  0  0  0  0  0  0]\n",
      " [ 0  0  0  0  0  0  0  0  0  0  0  0  0  0  0  0 20  0  0  0  0  0]\n",
      " [ 0  0  0  0  0  0  0  0  0  0  0  0  0  0  0  0  0 25  0  0  0  0]\n",
      " [ 0  0  0  0  0  0  0  0  0  0  0  0  0  0  0  0  0  0 16  0  0  0]\n",
      " [ 0  0  0  0  0  0  0  0  0  0  0  0  0  0  0  0  0  0  0 19  0  0]\n",
      " [ 0  0  0  0  0  0  0  0  1  0  0  0  0  0  0  0  0  0  0  0 18  0]\n",
      " [ 0  0  0  0  0  0  0  0  0  0  0  0  0  0  0  0  0  0  0  0  0 20]]\n"
     ]
    }
   ],
   "source": [
    "from sklearn.metrics import accuracy_score, confusion_matrix, classification_report\n",
    "accuracy = accuracy_score(Y_Pred, Y_test)\n",
    "ConfusionM = confusion_matrix(Y_test, Y_Pred)\n",
    "print(\"Accuracy Score: \", accuracy)\n",
    "print(\"Confusion Matrix: \", ConfusionM)"
   ]
  },
  {
   "cell_type": "code",
   "execution_count": 29,
   "metadata": {},
   "outputs": [
    {
     "name": "stdout",
     "output_type": "stream",
     "text": [
      "              precision    recall  f1-score   support\n",
      "\n",
      "       apple       1.00      1.00      1.00        20\n",
      "      banana       1.00      1.00      1.00        10\n",
      "   blackgram       1.00      1.00      1.00        24\n",
      "    chickpea       1.00      1.00      1.00        23\n",
      "     coconut       1.00      1.00      1.00        19\n",
      "      coffee       1.00      1.00      1.00        14\n",
      "      cotton       1.00      1.00      1.00        26\n",
      "      grapes       1.00      1.00      1.00        22\n",
      "        jute       0.95      0.95      0.95        19\n",
      " kidneybeans       1.00      1.00      1.00        26\n",
      "      lentil       1.00      1.00      1.00        27\n",
      "       maize       1.00      1.00      1.00        18\n",
      "       mango       1.00      1.00      1.00        15\n",
      "   mothbeans       1.00      1.00      1.00        18\n",
      "    mungbean       1.00      1.00      1.00        22\n",
      "   muskmelon       1.00      1.00      1.00        18\n",
      "      orange       1.00      1.00      1.00        20\n",
      "      papaya       1.00      1.00      1.00        25\n",
      "  pigeonpeas       1.00      1.00      1.00        16\n",
      " pomegranate       1.00      1.00      1.00        19\n",
      "        rice       0.95      0.95      0.95        19\n",
      "  watermelon       1.00      1.00      1.00        20\n",
      "\n",
      "    accuracy                           1.00       440\n",
      "   macro avg       1.00      1.00      1.00       440\n",
      "weighted avg       1.00      1.00      1.00       440\n",
      "\n"
     ]
    }
   ],
   "source": [
    "print(classification_report(Y_test, Y_Pred))"
   ]
  },
  {
   "cell_type": "code",
   "execution_count": 30,
   "metadata": {},
   "outputs": [
    {
     "data": {
      "text/plain": [
       "'cotton'"
      ]
     },
     "execution_count": 30,
     "metadata": {},
     "output_type": "execute_result"
    }
   ],
   "source": [
    "Y_test.iloc[1]"
   ]
  },
  {
   "cell_type": "code",
   "execution_count": 31,
   "metadata": {},
   "outputs": [
    {
     "data": {
      "text/plain": [
       "'orange'"
      ]
     },
     "execution_count": 31,
     "metadata": {},
     "output_type": "execute_result"
    }
   ],
   "source": [
    "Y_Pred[0]"
   ]
  },
  {
   "cell_type": "code",
   "execution_count": 32,
   "metadata": {},
   "outputs": [
    {
     "name": "stdout",
     "output_type": "stream",
     "text": [
      "The Predicted crop orange should be same as the real crop orange\n",
      "The Predicted crop cotton should be same as the real crop cotton\n",
      "The Predicted crop jute should be same as the real crop jute\n",
      "The Predicted crop lentil should be same as the real crop lentil\n",
      "The Predicted crop rice should be same as the real crop rice\n",
      "The Predicted crop blackgram should be same as the real crop blackgram\n",
      "The Predicted crop apple should be same as the real crop apple\n",
      "The Predicted crop pomegranate should be same as the real crop pomegranate\n",
      "The Predicted crop cotton should be same as the real crop cotton\n",
      "The Predicted crop mothbeans should be same as the real crop mothbeans\n",
      "The Predicted crop muskmelon should be same as the real crop muskmelon\n",
      "The Predicted crop papaya should be same as the real crop papaya\n",
      "The Predicted crop orange should be same as the real crop orange\n",
      "The Predicted crop chickpea should be same as the real crop chickpea\n",
      "The Predicted crop kidneybeans should be same as the real crop kidneybeans\n",
      "The Predicted crop rice should be same as the real crop rice\n",
      "The Predicted crop pomegranate should be same as the real crop pomegranate\n",
      "The Predicted crop kidneybeans should be same as the real crop kidneybeans\n",
      "The Predicted crop cotton should be same as the real crop cotton\n",
      "The Predicted crop pomegranate should be same as the real crop pomegranate\n",
      "The Predicted crop cotton should be same as the real crop cotton\n",
      "The Predicted crop orange should be same as the real crop orange\n",
      "The Predicted crop papaya should be same as the real crop papaya\n",
      "The Predicted crop chickpea should be same as the real crop chickpea\n",
      "The Predicted crop grapes should be same as the real crop grapes\n",
      "The Predicted crop banana should be same as the real crop banana\n",
      "The Predicted crop apple should be same as the real crop apple\n",
      "The Predicted crop blackgram should be same as the real crop blackgram\n",
      "The Predicted crop pigeonpeas should be same as the real crop pigeonpeas\n",
      "The Predicted crop blackgram should be same as the real crop blackgram\n",
      "The Predicted crop coconut should be same as the real crop coconut\n",
      "The Predicted crop pigeonpeas should be same as the real crop pigeonpeas\n",
      "The Predicted crop blackgram should be same as the real crop blackgram\n",
      "The Predicted crop chickpea should be same as the real crop chickpea\n",
      "The Predicted crop muskmelon should be same as the real crop muskmelon\n",
      "The Predicted crop chickpea should be same as the real crop chickpea\n",
      "The Predicted crop mothbeans should be same as the real crop mothbeans\n",
      "The Predicted crop papaya should be same as the real crop papaya\n",
      "The Predicted crop coconut should be same as the real crop coconut\n",
      "The Predicted crop grapes should be same as the real crop grapes\n",
      "The Predicted crop orange should be same as the real crop orange\n",
      "The Predicted crop chickpea should be same as the real crop chickpea\n",
      "The Predicted crop rice should be same as the real crop rice\n",
      "The Predicted crop jute should be same as the real crop jute\n",
      "The Predicted crop grapes should be same as the real crop grapes\n",
      "The Predicted crop kidneybeans should be same as the real crop kidneybeans\n",
      "The Predicted crop orange should be same as the real crop orange\n",
      "The Predicted crop jute should be same as the real crop jute\n",
      "The Predicted crop pigeonpeas should be same as the real crop pigeonpeas\n",
      "The Predicted crop papaya should be same as the real crop papaya\n",
      "The Predicted crop rice should be same as the real crop rice\n",
      "The Predicted crop papaya should be same as the real crop papaya\n",
      "The Predicted crop maize should be same as the real crop maize\n",
      "The Predicted crop kidneybeans should be same as the real crop kidneybeans\n",
      "The Predicted crop apple should be same as the real crop apple\n",
      "The Predicted crop apple should be same as the real crop apple\n",
      "The Predicted crop apple should be same as the real crop apple\n",
      "The Predicted crop mothbeans should be same as the real crop mothbeans\n",
      "The Predicted crop maize should be same as the real crop maize\n",
      "The Predicted crop mothbeans should be same as the real crop mothbeans\n",
      "The Predicted crop cotton should be same as the real crop cotton\n",
      "The Predicted crop muskmelon should be same as the real crop muskmelon\n",
      "The Predicted crop cotton should be same as the real crop cotton\n",
      "The Predicted crop lentil should be same as the real crop lentil\n",
      "The Predicted crop watermelon should be same as the real crop watermelon\n",
      "The Predicted crop jute should be same as the real crop jute\n",
      "The Predicted crop rice should be same as the real crop jute\n",
      "The Predicted crop orange should be same as the real crop orange\n",
      "The Predicted crop rice should be same as the real crop rice\n",
      "The Predicted crop mango should be same as the real crop mango\n",
      "The Predicted crop blackgram should be same as the real crop blackgram\n",
      "The Predicted crop coconut should be same as the real crop coconut\n",
      "The Predicted crop rice should be same as the real crop rice\n",
      "The Predicted crop lentil should be same as the real crop lentil\n",
      "The Predicted crop grapes should be same as the real crop grapes\n",
      "The Predicted crop maize should be same as the real crop maize\n",
      "The Predicted crop banana should be same as the real crop banana\n",
      "The Predicted crop pigeonpeas should be same as the real crop pigeonpeas\n",
      "The Predicted crop maize should be same as the real crop maize\n",
      "The Predicted crop mothbeans should be same as the real crop mothbeans\n",
      "The Predicted crop mango should be same as the real crop mango\n",
      "The Predicted crop grapes should be same as the real crop grapes\n",
      "The Predicted crop cotton should be same as the real crop cotton\n",
      "The Predicted crop mungbean should be same as the real crop mungbean\n",
      "The Predicted crop coconut should be same as the real crop coconut\n",
      "The Predicted crop lentil should be same as the real crop lentil\n",
      "The Predicted crop coconut should be same as the real crop coconut\n",
      "The Predicted crop grapes should be same as the real crop grapes\n",
      "The Predicted crop papaya should be same as the real crop papaya\n",
      "The Predicted crop apple should be same as the real crop apple\n",
      "The Predicted crop muskmelon should be same as the real crop muskmelon\n",
      "The Predicted crop lentil should be same as the real crop lentil\n",
      "The Predicted crop coffee should be same as the real crop coffee\n",
      "The Predicted crop jute should be same as the real crop jute\n",
      "The Predicted crop papaya should be same as the real crop papaya\n",
      "The Predicted crop mungbean should be same as the real crop mungbean\n",
      "The Predicted crop rice should be same as the real crop rice\n",
      "The Predicted crop lentil should be same as the real crop lentil\n",
      "The Predicted crop papaya should be same as the real crop papaya\n",
      "The Predicted crop papaya should be same as the real crop papaya\n",
      "The Predicted crop pomegranate should be same as the real crop pomegranate\n",
      "The Predicted crop kidneybeans should be same as the real crop kidneybeans\n",
      "The Predicted crop papaya should be same as the real crop papaya\n",
      "The Predicted crop papaya should be same as the real crop papaya\n",
      "The Predicted crop grapes should be same as the real crop grapes\n",
      "The Predicted crop mungbean should be same as the real crop mungbean\n",
      "The Predicted crop mothbeans should be same as the real crop mothbeans\n",
      "The Predicted crop mungbean should be same as the real crop mungbean\n",
      "The Predicted crop rice should be same as the real crop rice\n",
      "The Predicted crop jute should be same as the real crop jute\n",
      "The Predicted crop lentil should be same as the real crop lentil\n",
      "The Predicted crop mungbean should be same as the real crop mungbean\n",
      "The Predicted crop kidneybeans should be same as the real crop kidneybeans\n",
      "The Predicted crop lentil should be same as the real crop lentil\n",
      "The Predicted crop apple should be same as the real crop apple\n",
      "The Predicted crop cotton should be same as the real crop cotton\n",
      "The Predicted crop papaya should be same as the real crop papaya\n",
      "The Predicted crop papaya should be same as the real crop papaya\n",
      "The Predicted crop kidneybeans should be same as the real crop kidneybeans\n",
      "The Predicted crop mungbean should be same as the real crop mungbean\n",
      "The Predicted crop grapes should be same as the real crop grapes\n",
      "The Predicted crop kidneybeans should be same as the real crop kidneybeans\n",
      "The Predicted crop chickpea should be same as the real crop chickpea\n",
      "The Predicted crop grapes should be same as the real crop grapes\n",
      "The Predicted crop blackgram should be same as the real crop blackgram\n",
      "The Predicted crop coconut should be same as the real crop coconut\n",
      "The Predicted crop mothbeans should be same as the real crop mothbeans\n",
      "The Predicted crop papaya should be same as the real crop papaya\n",
      "The Predicted crop cotton should be same as the real crop cotton\n",
      "The Predicted crop maize should be same as the real crop maize\n",
      "The Predicted crop banana should be same as the real crop banana\n",
      "The Predicted crop kidneybeans should be same as the real crop kidneybeans\n",
      "The Predicted crop watermelon should be same as the real crop watermelon\n",
      "The Predicted crop rice should be same as the real crop rice\n",
      "The Predicted crop kidneybeans should be same as the real crop kidneybeans\n",
      "The Predicted crop jute should be same as the real crop jute\n",
      "The Predicted crop kidneybeans should be same as the real crop kidneybeans\n",
      "The Predicted crop lentil should be same as the real crop lentil\n",
      "The Predicted crop blackgram should be same as the real crop blackgram\n",
      "The Predicted crop jute should be same as the real crop jute\n",
      "The Predicted crop cotton should be same as the real crop cotton\n",
      "The Predicted crop pomegranate should be same as the real crop pomegranate\n",
      "The Predicted crop cotton should be same as the real crop cotton\n",
      "The Predicted crop pomegranate should be same as the real crop pomegranate\n",
      "The Predicted crop grapes should be same as the real crop grapes\n",
      "The Predicted crop maize should be same as the real crop maize\n",
      "The Predicted crop lentil should be same as the real crop lentil\n",
      "The Predicted crop blackgram should be same as the real crop blackgram\n",
      "The Predicted crop muskmelon should be same as the real crop muskmelon\n",
      "The Predicted crop watermelon should be same as the real crop watermelon\n",
      "The Predicted crop chickpea should be same as the real crop chickpea\n",
      "The Predicted crop coffee should be same as the real crop coffee\n",
      "The Predicted crop orange should be same as the real crop orange\n",
      "The Predicted crop muskmelon should be same as the real crop muskmelon\n",
      "The Predicted crop pigeonpeas should be same as the real crop pigeonpeas\n",
      "The Predicted crop apple should be same as the real crop apple\n",
      "The Predicted crop apple should be same as the real crop apple\n",
      "The Predicted crop kidneybeans should be same as the real crop kidneybeans\n",
      "The Predicted crop lentil should be same as the real crop lentil\n",
      "The Predicted crop coffee should be same as the real crop coffee\n",
      "The Predicted crop mango should be same as the real crop mango\n",
      "The Predicted crop apple should be same as the real crop apple\n",
      "The Predicted crop watermelon should be same as the real crop watermelon\n",
      "The Predicted crop pigeonpeas should be same as the real crop pigeonpeas\n",
      "The Predicted crop pigeonpeas should be same as the real crop pigeonpeas\n",
      "The Predicted crop pomegranate should be same as the real crop pomegranate\n",
      "The Predicted crop orange should be same as the real crop orange\n",
      "The Predicted crop pigeonpeas should be same as the real crop pigeonpeas\n",
      "The Predicted crop watermelon should be same as the real crop watermelon\n",
      "The Predicted crop cotton should be same as the real crop cotton\n",
      "The Predicted crop orange should be same as the real crop orange\n",
      "The Predicted crop blackgram should be same as the real crop blackgram\n",
      "The Predicted crop mothbeans should be same as the real crop mothbeans\n",
      "The Predicted crop muskmelon should be same as the real crop muskmelon\n",
      "The Predicted crop muskmelon should be same as the real crop muskmelon\n",
      "The Predicted crop jute should be same as the real crop jute\n",
      "The Predicted crop mothbeans should be same as the real crop mothbeans\n",
      "The Predicted crop mungbean should be same as the real crop mungbean\n",
      "The Predicted crop cotton should be same as the real crop cotton\n",
      "The Predicted crop watermelon should be same as the real crop watermelon\n",
      "The Predicted crop apple should be same as the real crop apple\n",
      "The Predicted crop blackgram should be same as the real crop blackgram\n",
      "The Predicted crop mango should be same as the real crop mango\n",
      "The Predicted crop mango should be same as the real crop mango\n",
      "The Predicted crop watermelon should be same as the real crop watermelon\n",
      "The Predicted crop maize should be same as the real crop maize\n",
      "The Predicted crop coconut should be same as the real crop coconut\n",
      "The Predicted crop muskmelon should be same as the real crop muskmelon\n",
      "The Predicted crop mango should be same as the real crop mango\n",
      "The Predicted crop apple should be same as the real crop apple\n",
      "The Predicted crop coffee should be same as the real crop coffee\n",
      "The Predicted crop pigeonpeas should be same as the real crop pigeonpeas\n",
      "The Predicted crop rice should be same as the real crop rice\n",
      "The Predicted crop grapes should be same as the real crop grapes\n",
      "The Predicted crop lentil should be same as the real crop lentil\n",
      "The Predicted crop mungbean should be same as the real crop mungbean\n",
      "The Predicted crop coconut should be same as the real crop coconut\n",
      "The Predicted crop grapes should be same as the real crop grapes\n",
      "The Predicted crop pigeonpeas should be same as the real crop pigeonpeas\n",
      "The Predicted crop pomegranate should be same as the real crop pomegranate\n",
      "The Predicted crop mothbeans should be same as the real crop mothbeans\n",
      "The Predicted crop maize should be same as the real crop maize\n",
      "The Predicted crop kidneybeans should be same as the real crop kidneybeans\n",
      "The Predicted crop pomegranate should be same as the real crop pomegranate\n",
      "The Predicted crop coffee should be same as the real crop coffee\n",
      "The Predicted crop grapes should be same as the real crop grapes\n",
      "The Predicted crop coconut should be same as the real crop coconut\n",
      "The Predicted crop orange should be same as the real crop orange\n",
      "The Predicted crop chickpea should be same as the real crop chickpea\n",
      "The Predicted crop watermelon should be same as the real crop watermelon\n",
      "The Predicted crop mango should be same as the real crop mango\n",
      "The Predicted crop grapes should be same as the real crop grapes\n",
      "The Predicted crop mothbeans should be same as the real crop mothbeans\n",
      "The Predicted crop chickpea should be same as the real crop chickpea\n",
      "The Predicted crop pomegranate should be same as the real crop pomegranate\n",
      "The Predicted crop chickpea should be same as the real crop chickpea\n",
      "The Predicted crop grapes should be same as the real crop grapes\n",
      "The Predicted crop orange should be same as the real crop orange\n",
      "The Predicted crop kidneybeans should be same as the real crop kidneybeans\n",
      "The Predicted crop kidneybeans should be same as the real crop kidneybeans\n",
      "The Predicted crop apple should be same as the real crop apple\n",
      "The Predicted crop papaya should be same as the real crop papaya\n",
      "The Predicted crop coffee should be same as the real crop coffee\n",
      "The Predicted crop lentil should be same as the real crop lentil\n",
      "The Predicted crop mungbean should be same as the real crop mungbean\n",
      "The Predicted crop mungbean should be same as the real crop mungbean\n",
      "The Predicted crop lentil should be same as the real crop lentil\n",
      "The Predicted crop lentil should be same as the real crop lentil\n",
      "The Predicted crop papaya should be same as the real crop papaya\n",
      "The Predicted crop papaya should be same as the real crop papaya\n",
      "The Predicted crop chickpea should be same as the real crop chickpea\n",
      "The Predicted crop orange should be same as the real crop orange\n",
      "The Predicted crop chickpea should be same as the real crop chickpea\n",
      "The Predicted crop mango should be same as the real crop mango\n",
      "The Predicted crop rice should be same as the real crop rice\n",
      "The Predicted crop rice should be same as the real crop rice\n",
      "The Predicted crop grapes should be same as the real crop grapes\n",
      "The Predicted crop kidneybeans should be same as the real crop kidneybeans\n",
      "The Predicted crop cotton should be same as the real crop cotton\n",
      "The Predicted crop coffee should be same as the real crop coffee\n",
      "The Predicted crop watermelon should be same as the real crop watermelon\n",
      "The Predicted crop papaya should be same as the real crop papaya\n",
      "The Predicted crop blackgram should be same as the real crop blackgram\n",
      "The Predicted crop lentil should be same as the real crop lentil\n",
      "The Predicted crop muskmelon should be same as the real crop muskmelon\n",
      "The Predicted crop pomegranate should be same as the real crop pomegranate\n",
      "The Predicted crop maize should be same as the real crop maize\n",
      "The Predicted crop banana should be same as the real crop banana\n",
      "The Predicted crop cotton should be same as the real crop cotton\n",
      "The Predicted crop jute should be same as the real crop jute\n",
      "The Predicted crop coconut should be same as the real crop coconut\n",
      "The Predicted crop watermelon should be same as the real crop watermelon\n",
      "The Predicted crop lentil should be same as the real crop lentil\n",
      "The Predicted crop cotton should be same as the real crop cotton\n",
      "The Predicted crop mango should be same as the real crop mango\n",
      "The Predicted crop mothbeans should be same as the real crop mothbeans\n",
      "The Predicted crop blackgram should be same as the real crop blackgram\n",
      "The Predicted crop kidneybeans should be same as the real crop kidneybeans\n",
      "The Predicted crop jute should be same as the real crop jute\n",
      "The Predicted crop kidneybeans should be same as the real crop kidneybeans\n",
      "The Predicted crop mothbeans should be same as the real crop mothbeans\n",
      "The Predicted crop pomegranate should be same as the real crop pomegranate\n",
      "The Predicted crop orange should be same as the real crop orange\n",
      "The Predicted crop mothbeans should be same as the real crop mothbeans\n",
      "The Predicted crop grapes should be same as the real crop grapes\n",
      "The Predicted crop blackgram should be same as the real crop blackgram\n",
      "The Predicted crop lentil should be same as the real crop lentil\n",
      "The Predicted crop jute should be same as the real crop jute\n",
      "The Predicted crop muskmelon should be same as the real crop muskmelon\n",
      "The Predicted crop kidneybeans should be same as the real crop kidneybeans\n",
      "The Predicted crop coffee should be same as the real crop coffee\n",
      "The Predicted crop blackgram should be same as the real crop blackgram\n",
      "The Predicted crop mango should be same as the real crop mango\n",
      "The Predicted crop pomegranate should be same as the real crop pomegranate\n",
      "The Predicted crop blackgram should be same as the real crop blackgram\n",
      "The Predicted crop watermelon should be same as the real crop watermelon\n",
      "The Predicted crop rice should be same as the real crop rice\n",
      "The Predicted crop chickpea should be same as the real crop chickpea\n",
      "The Predicted crop kidneybeans should be same as the real crop kidneybeans\n",
      "The Predicted crop banana should be same as the real crop banana\n",
      "The Predicted crop kidneybeans should be same as the real crop kidneybeans\n",
      "The Predicted crop coffee should be same as the real crop coffee\n",
      "The Predicted crop lentil should be same as the real crop lentil\n",
      "The Predicted crop grapes should be same as the real crop grapes\n",
      "The Predicted crop pigeonpeas should be same as the real crop pigeonpeas\n",
      "The Predicted crop muskmelon should be same as the real crop muskmelon\n",
      "The Predicted crop watermelon should be same as the real crop watermelon\n",
      "The Predicted crop mothbeans should be same as the real crop mothbeans\n",
      "The Predicted crop pomegranate should be same as the real crop pomegranate\n",
      "The Predicted crop lentil should be same as the real crop lentil\n",
      "The Predicted crop rice should be same as the real crop rice\n",
      "The Predicted crop orange should be same as the real crop orange\n",
      "The Predicted crop pomegranate should be same as the real crop pomegranate\n",
      "The Predicted crop mango should be same as the real crop mango\n",
      "The Predicted crop lentil should be same as the real crop lentil\n",
      "The Predicted crop watermelon should be same as the real crop watermelon\n",
      "The Predicted crop kidneybeans should be same as the real crop kidneybeans\n",
      "The Predicted crop muskmelon should be same as the real crop muskmelon\n",
      "The Predicted crop blackgram should be same as the real crop blackgram\n",
      "The Predicted crop maize should be same as the real crop maize\n",
      "The Predicted crop mungbean should be same as the real crop mungbean\n",
      "The Predicted crop chickpea should be same as the real crop chickpea\n",
      "The Predicted crop watermelon should be same as the real crop watermelon\n",
      "The Predicted crop lentil should be same as the real crop lentil\n",
      "The Predicted crop papaya should be same as the real crop papaya\n",
      "The Predicted crop coconut should be same as the real crop coconut\n",
      "The Predicted crop maize should be same as the real crop maize\n",
      "The Predicted crop watermelon should be same as the real crop watermelon\n",
      "The Predicted crop coffee should be same as the real crop coffee\n",
      "The Predicted crop cotton should be same as the real crop cotton\n",
      "The Predicted crop banana should be same as the real crop banana\n",
      "The Predicted crop chickpea should be same as the real crop chickpea\n",
      "The Predicted crop pigeonpeas should be same as the real crop pigeonpeas\n",
      "The Predicted crop grapes should be same as the real crop grapes\n",
      "The Predicted crop watermelon should be same as the real crop watermelon\n",
      "The Predicted crop pomegranate should be same as the real crop pomegranate\n",
      "The Predicted crop muskmelon should be same as the real crop muskmelon\n",
      "The Predicted crop coffee should be same as the real crop coffee\n",
      "The Predicted crop mungbean should be same as the real crop mungbean\n",
      "The Predicted crop papaya should be same as the real crop papaya\n",
      "The Predicted crop rice should be same as the real crop rice\n",
      "The Predicted crop rice should be same as the real crop rice\n",
      "The Predicted crop pigeonpeas should be same as the real crop pigeonpeas\n",
      "The Predicted crop mothbeans should be same as the real crop mothbeans\n",
      "The Predicted crop papaya should be same as the real crop papaya\n",
      "The Predicted crop chickpea should be same as the real crop chickpea\n",
      "The Predicted crop coconut should be same as the real crop coconut\n",
      "The Predicted crop mungbean should be same as the real crop mungbean\n",
      "The Predicted crop cotton should be same as the real crop cotton\n",
      "The Predicted crop banana should be same as the real crop banana\n",
      "The Predicted crop mango should be same as the real crop mango\n",
      "The Predicted crop chickpea should be same as the real crop chickpea\n",
      "The Predicted crop mungbean should be same as the real crop mungbean\n",
      "The Predicted crop cotton should be same as the real crop cotton\n",
      "The Predicted crop blackgram should be same as the real crop blackgram\n",
      "The Predicted crop banana should be same as the real crop banana\n",
      "The Predicted crop apple should be same as the real crop apple\n",
      "The Predicted crop orange should be same as the real crop orange\n",
      "The Predicted crop papaya should be same as the real crop papaya\n",
      "The Predicted crop coconut should be same as the real crop coconut\n",
      "The Predicted crop watermelon should be same as the real crop watermelon\n",
      "The Predicted crop mungbean should be same as the real crop mungbean\n",
      "The Predicted crop jute should be same as the real crop jute\n",
      "The Predicted crop kidneybeans should be same as the real crop kidneybeans\n",
      "The Predicted crop pigeonpeas should be same as the real crop pigeonpeas\n",
      "The Predicted crop grapes should be same as the real crop grapes\n",
      "The Predicted crop maize should be same as the real crop maize\n",
      "The Predicted crop mungbean should be same as the real crop mungbean\n",
      "The Predicted crop coconut should be same as the real crop coconut\n",
      "The Predicted crop blackgram should be same as the real crop blackgram\n",
      "The Predicted crop coffee should be same as the real crop coffee\n",
      "The Predicted crop chickpea should be same as the real crop chickpea\n",
      "The Predicted crop lentil should be same as the real crop lentil\n",
      "The Predicted crop blackgram should be same as the real crop blackgram\n",
      "The Predicted crop cotton should be same as the real crop cotton\n",
      "The Predicted crop rice should be same as the real crop rice\n",
      "The Predicted crop apple should be same as the real crop apple\n",
      "The Predicted crop jute should be same as the real crop jute\n",
      "The Predicted crop mothbeans should be same as the real crop mothbeans\n",
      "The Predicted crop orange should be same as the real crop orange\n",
      "The Predicted crop banana should be same as the real crop banana\n",
      "The Predicted crop cotton should be same as the real crop cotton\n",
      "The Predicted crop chickpea should be same as the real crop chickpea\n",
      "The Predicted crop muskmelon should be same as the real crop muskmelon\n",
      "The Predicted crop chickpea should be same as the real crop chickpea\n",
      "The Predicted crop maize should be same as the real crop maize\n",
      "The Predicted crop apple should be same as the real crop apple\n",
      "The Predicted crop maize should be same as the real crop maize\n",
      "The Predicted crop jute should be same as the real crop jute\n",
      "The Predicted crop muskmelon should be same as the real crop muskmelon\n",
      "The Predicted crop watermelon should be same as the real crop watermelon\n",
      "The Predicted crop chickpea should be same as the real crop chickpea\n",
      "The Predicted crop mungbean should be same as the real crop mungbean\n",
      "The Predicted crop pomegranate should be same as the real crop pomegranate\n",
      "The Predicted crop orange should be same as the real crop orange\n",
      "The Predicted crop cotton should be same as the real crop cotton\n",
      "The Predicted crop banana should be same as the real crop banana\n",
      "The Predicted crop blackgram should be same as the real crop blackgram\n",
      "The Predicted crop cotton should be same as the real crop cotton\n",
      "The Predicted crop muskmelon should be same as the real crop muskmelon\n",
      "The Predicted crop apple should be same as the real crop apple\n",
      "The Predicted crop kidneybeans should be same as the real crop kidneybeans\n",
      "The Predicted crop orange should be same as the real crop orange\n",
      "The Predicted crop jute should be same as the real crop jute\n",
      "The Predicted crop mungbean should be same as the real crop mungbean\n",
      "The Predicted crop muskmelon should be same as the real crop muskmelon\n",
      "The Predicted crop maize should be same as the real crop maize\n",
      "The Predicted crop kidneybeans should be same as the real crop kidneybeans\n",
      "The Predicted crop jute should be same as the real crop jute\n",
      "The Predicted crop mungbean should be same as the real crop mungbean\n",
      "The Predicted crop coconut should be same as the real crop coconut\n",
      "The Predicted crop coconut should be same as the real crop coconut\n",
      "The Predicted crop mungbean should be same as the real crop mungbean\n",
      "The Predicted crop coffee should be same as the real crop coffee\n",
      "The Predicted crop coffee should be same as the real crop coffee\n",
      "The Predicted crop mungbean should be same as the real crop mungbean\n",
      "The Predicted crop jute should be same as the real crop jute\n",
      "The Predicted crop lentil should be same as the real crop lentil\n",
      "The Predicted crop watermelon should be same as the real crop watermelon\n",
      "The Predicted crop maize should be same as the real crop maize\n",
      "The Predicted crop maize should be same as the real crop maize\n",
      "The Predicted crop apple should be same as the real crop apple\n",
      "The Predicted crop cotton should be same as the real crop cotton\n",
      "The Predicted crop blackgram should be same as the real crop blackgram\n",
      "The Predicted crop pigeonpeas should be same as the real crop pigeonpeas\n",
      "The Predicted crop jute should be same as the real crop rice\n",
      "The Predicted crop chickpea should be same as the real crop chickpea\n",
      "The Predicted crop pomegranate should be same as the real crop pomegranate\n",
      "The Predicted crop grapes should be same as the real crop grapes\n",
      "The Predicted crop lentil should be same as the real crop lentil\n",
      "The Predicted crop mango should be same as the real crop mango\n",
      "The Predicted crop chickpea should be same as the real crop chickpea\n",
      "The Predicted crop blackgram should be same as the real crop blackgram\n",
      "The Predicted crop pigeonpeas should be same as the real crop pigeonpeas\n",
      "The Predicted crop orange should be same as the real crop orange\n",
      "The Predicted crop watermelon should be same as the real crop watermelon\n",
      "The Predicted crop mango should be same as the real crop mango\n",
      "The Predicted crop papaya should be same as the real crop papaya\n",
      "The Predicted crop mango should be same as the real crop mango\n",
      "The Predicted crop blackgram should be same as the real crop blackgram\n",
      "The Predicted crop apple should be same as the real crop apple\n",
      "The Predicted crop coconut should be same as the real crop coconut\n",
      "The Predicted crop lentil should be same as the real crop lentil\n",
      "The Predicted crop cotton should be same as the real crop cotton\n",
      "The Predicted crop rice should be same as the real crop rice\n",
      "The Predicted crop coconut should be same as the real crop coconut\n",
      "The Predicted crop maize should be same as the real crop maize\n",
      "The Predicted crop kidneybeans should be same as the real crop kidneybeans\n",
      "The Predicted crop mungbean should be same as the real crop mungbean\n",
      "The Predicted crop coconut should be same as the real crop coconut\n",
      "The Predicted crop lentil should be same as the real crop lentil\n",
      "The Predicted crop grapes should be same as the real crop grapes\n",
      "The Predicted crop papaya should be same as the real crop papaya\n",
      "The Predicted crop papaya should be same as the real crop papaya\n",
      "The Predicted crop cotton should be same as the real crop cotton\n",
      "The Predicted crop apple should be same as the real crop apple\n",
      "The Predicted crop orange should be same as the real crop orange\n",
      "The Predicted crop mothbeans should be same as the real crop mothbeans\n",
      "The Predicted crop pomegranate should be same as the real crop pomegranate\n",
      "The Predicted crop blackgram should be same as the real crop blackgram\n"
     ]
    }
   ],
   "source": [
    "for i in range (len(X_test)):\n",
    "  #print(X_test.iloc[i])\n",
    "  print(\"The Predicted crop {} should be same as the real crop {}\".format(Y_Pred[i], Y_test.iloc[i]))"
   ]
  },
  {
   "cell_type": "code",
   "execution_count": 33,
   "metadata": {},
   "outputs": [],
   "source": [
    "#save the model to file\n",
    "pickle.dump(model, open('CRM.pkl', 'wb'))"
   ]
  },
  {
   "cell_type": "code",
   "execution_count": null,
   "metadata": {},
   "outputs": [],
   "source": []
  }
 ],
 "metadata": {
  "colab": {
   "provenance": []
  },
  "kernelspec": {
   "display_name": "Python 3 (ipykernel)",
   "language": "python",
   "name": "python3"
  },
  "language_info": {
   "codemirror_mode": {
    "name": "ipython",
    "version": 3
   },
   "file_extension": ".py",
   "mimetype": "text/x-python",
   "name": "python",
   "nbconvert_exporter": "python",
   "pygments_lexer": "ipython3",
   "version": "3.9.7"
  }
 },
 "nbformat": 4,
 "nbformat_minor": 1
}
