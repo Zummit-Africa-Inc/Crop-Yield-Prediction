{
 "cells": [
  {
   "cell_type": "code",
   "execution_count": 1,
   "id": "be79f9e2",
   "metadata": {},
   "outputs": [],
   "source": [
    "#!pip install catboost"
   ]
  },
  {
   "cell_type": "code",
   "execution_count": 2,
   "id": "f6003db9",
   "metadata": {},
   "outputs": [],
   "source": [
    "import pandas as pd\n",
    "import numpy as np\n",
    "import matplotlib.pyplot as plt\n",
    "import seaborn as sns\n",
    "from catboost import CatBoostRegressor"
   ]
  },
  {
   "cell_type": "code",
   "execution_count": 3,
   "id": "fd54f936",
   "metadata": {},
   "outputs": [
    {
     "data": {
      "text/html": [
       "<div>\n",
       "<style scoped>\n",
       "    .dataframe tbody tr th:only-of-type {\n",
       "        vertical-align: middle;\n",
       "    }\n",
       "\n",
       "    .dataframe tbody tr th {\n",
       "        vertical-align: top;\n",
       "    }\n",
       "\n",
       "    .dataframe thead th {\n",
       "        text-align: right;\n",
       "    }\n",
       "</style>\n",
       "<table border=\"1\" class=\"dataframe\">\n",
       "  <thead>\n",
       "    <tr style=\"text-align: right;\">\n",
       "      <th></th>\n",
       "      <th>State_Name</th>\n",
       "      <th>District_Name</th>\n",
       "      <th>Crop_Year</th>\n",
       "      <th>Season</th>\n",
       "      <th>Crop</th>\n",
       "      <th>Area</th>\n",
       "      <th>Production</th>\n",
       "    </tr>\n",
       "  </thead>\n",
       "  <tbody>\n",
       "    <tr>\n",
       "      <th>0</th>\n",
       "      <td>Andaman and Nicobar Islands</td>\n",
       "      <td>NICOBARS</td>\n",
       "      <td>2000</td>\n",
       "      <td>Kharif</td>\n",
       "      <td>Arecanut</td>\n",
       "      <td>1254.0</td>\n",
       "      <td>2000.0</td>\n",
       "    </tr>\n",
       "    <tr>\n",
       "      <th>1</th>\n",
       "      <td>Andaman and Nicobar Islands</td>\n",
       "      <td>NICOBARS</td>\n",
       "      <td>2000</td>\n",
       "      <td>Kharif</td>\n",
       "      <td>Other Kharif pulses</td>\n",
       "      <td>2.0</td>\n",
       "      <td>1.0</td>\n",
       "    </tr>\n",
       "    <tr>\n",
       "      <th>2</th>\n",
       "      <td>Andaman and Nicobar Islands</td>\n",
       "      <td>NICOBARS</td>\n",
       "      <td>2000</td>\n",
       "      <td>Kharif</td>\n",
       "      <td>Rice</td>\n",
       "      <td>102.0</td>\n",
       "      <td>321.0</td>\n",
       "    </tr>\n",
       "    <tr>\n",
       "      <th>3</th>\n",
       "      <td>Andaman and Nicobar Islands</td>\n",
       "      <td>NICOBARS</td>\n",
       "      <td>2000</td>\n",
       "      <td>Whole Year</td>\n",
       "      <td>Banana</td>\n",
       "      <td>176.0</td>\n",
       "      <td>641.0</td>\n",
       "    </tr>\n",
       "    <tr>\n",
       "      <th>4</th>\n",
       "      <td>Andaman and Nicobar Islands</td>\n",
       "      <td>NICOBARS</td>\n",
       "      <td>2000</td>\n",
       "      <td>Whole Year</td>\n",
       "      <td>Cashewnut</td>\n",
       "      <td>720.0</td>\n",
       "      <td>165.0</td>\n",
       "    </tr>\n",
       "  </tbody>\n",
       "</table>\n",
       "</div>"
      ],
      "text/plain": [
       "                    State_Name District_Name  Crop_Year       Season  \\\n",
       "0  Andaman and Nicobar Islands      NICOBARS       2000  Kharif        \n",
       "1  Andaman and Nicobar Islands      NICOBARS       2000  Kharif        \n",
       "2  Andaman and Nicobar Islands      NICOBARS       2000  Kharif        \n",
       "3  Andaman and Nicobar Islands      NICOBARS       2000  Whole Year    \n",
       "4  Andaman and Nicobar Islands      NICOBARS       2000  Whole Year    \n",
       "\n",
       "                  Crop    Area  Production  \n",
       "0             Arecanut  1254.0      2000.0  \n",
       "1  Other Kharif pulses     2.0         1.0  \n",
       "2                 Rice   102.0       321.0  \n",
       "3               Banana   176.0       641.0  \n",
       "4            Cashewnut   720.0       165.0  "
      ]
     },
     "execution_count": 3,
     "metadata": {},
     "output_type": "execute_result"
    }
   ],
   "source": [
    "# loading the dataset\n",
    "crop_data=pd.read_csv(\"C:/Users/USER/Desktop/Projects/Crop-Yield-Prediction/Data/data2/crop_production.csv\")\n",
    "crop_data.head()"
   ]
  },
  {
   "cell_type": "code",
   "execution_count": 4,
   "id": "bb36392e",
   "metadata": {},
   "outputs": [
    {
     "data": {
      "text/plain": [
       "State_Name        object\n",
       "District_Name     object\n",
       "Crop_Year          int64\n",
       "Season            object\n",
       "Crop              object\n",
       "Area             float64\n",
       "Production       float64\n",
       "dtype: object"
      ]
     },
     "execution_count": 4,
     "metadata": {},
     "output_type": "execute_result"
    }
   ],
   "source": [
    "#Identify the datatype of variables\n",
    "crop_data.dtypes"
   ]
  },
  {
   "cell_type": "code",
   "execution_count": 5,
   "id": "8dad1cc0",
   "metadata": {},
   "outputs": [
    {
     "data": {
      "text/plain": [
       "State_Name          0\n",
       "District_Name       0\n",
       "Crop_Year           0\n",
       "Season              0\n",
       "Crop                0\n",
       "Area                0\n",
       "Production       3730\n",
       "dtype: int64"
      ]
     },
     "execution_count": 5,
     "metadata": {},
     "output_type": "execute_result"
    }
   ],
   "source": [
    "#Finding the missing values\n",
    "crop_data.isnull().sum()"
   ]
  },
  {
   "cell_type": "code",
   "execution_count": 6,
   "id": "3242e718",
   "metadata": {},
   "outputs": [],
   "source": [
    "# Dropping missing values \n",
    "crop_data = crop_data.dropna()"
   ]
  },
  {
   "cell_type": "code",
   "execution_count": 7,
   "id": "fb45ad61",
   "metadata": {},
   "outputs": [
    {
     "data": {
      "text/plain": [
       "False"
      ]
     },
     "execution_count": 7,
     "metadata": {},
     "output_type": "execute_result"
    }
   ],
   "source": [
    "#checking if there still missing values\n",
    "crop_data.isnull().values.any()"
   ]
  },
  {
   "cell_type": "raw",
   "id": "644e9790",
   "metadata": {},
   "source": [
    "#Creating Yield Column\n",
    "import warnings \n",
    "warnings.filterwarnings('ignore')\n",
    "crop_data['Yield'] = (crop_data['Production'] / crop_data['Area'])\n",
    "crop_data.head(10) "
   ]
  },
  {
   "cell_type": "code",
   "execution_count": 8,
   "id": "5e905c62",
   "metadata": {},
   "outputs": [],
   "source": [
    "#Creating a training set for modeling and validation set to check model performance\n",
    "X = crop_data.drop(['Production'], axis=1)\n",
    "y = crop_data.Production"
   ]
  },
  {
   "cell_type": "code",
   "execution_count": 9,
   "id": "3d0853ad",
   "metadata": {},
   "outputs": [],
   "source": [
    "from sklearn.model_selection import train_test_split\n",
    "X_train, X_validation, y_train, y_validation = train_test_split(X, y, train_size=0.7, random_state=1234)"
   ]
  },
  {
   "cell_type": "code",
   "execution_count": 10,
   "id": "4e3e87d9",
   "metadata": {},
   "outputs": [
    {
     "data": {
      "text/plain": [
       "State_Name        object\n",
       "District_Name     object\n",
       "Crop_Year          int64\n",
       "Season            object\n",
       "Crop              object\n",
       "Area             float64\n",
       "dtype: object"
      ]
     },
     "execution_count": 10,
     "metadata": {},
     "output_type": "execute_result"
    }
   ],
   "source": [
    "#Look at the data type of variables\n",
    "X.dtypes"
   ]
  },
  {
   "cell_type": "markdown",
   "id": "89126edc",
   "metadata": {},
   "source": [
    "Now, you’ll see that we will only identify categorical variables. We will not perform any preprocessing steps for categorical variables:"
   ]
  },
  {
   "cell_type": "code",
   "execution_count": 11,
   "id": "45c181ca",
   "metadata": {},
   "outputs": [],
   "source": [
    "import warnings \n",
    "warnings.filterwarnings('ignore')\n",
    "categorical_features_indices = np.where(X.dtypes != np.float)[0]"
   ]
  },
  {
   "cell_type": "code",
   "execution_count": null,
   "id": "5994ac4a",
   "metadata": {},
   "outputs": [
    {
     "data": {
      "application/vnd.jupyter.widget-view+json": {
       "model_id": "9f3bbf2112984cafa8a11c4efecb04e8",
       "version_major": 2,
       "version_minor": 0
      },
      "text/plain": [
       "MetricVisualizer(layout=Layout(align_self='stretch', height='500px'))"
      ]
     },
     "metadata": {},
     "output_type": "display_data"
    },
    {
     "name": "stdout",
     "output_type": "stream",
     "text": [
      "0:\tlearn: 16927540.8752611\ttest: 15342220.8798972\tbest: 15342220.8798972 (0)\ttotal: 208ms\tremaining: 1m 43s\n",
      "1:\tlearn: 16400180.9487736\ttest: 14716038.1340423\tbest: 14716038.1340423 (1)\ttotal: 269ms\tremaining: 1m 6s\n",
      "2:\tlearn: 15941713.5753875\ttest: 14151016.6761487\tbest: 14151016.6761487 (2)\ttotal: 297ms\tremaining: 49.3s\n",
      "3:\tlearn: 15470032.5251895\ttest: 13563346.0591397\tbest: 13563346.0591397 (3)\ttotal: 337ms\tremaining: 41.8s\n",
      "4:\tlearn: 15032472.3497914\ttest: 13078995.1133023\tbest: 13078995.1133023 (4)\ttotal: 373ms\tremaining: 36.9s\n",
      "5:\tlearn: 14617996.8068006\ttest: 12560815.9165178\tbest: 12560815.9165178 (5)\ttotal: 413ms\tremaining: 34s\n",
      "6:\tlearn: 14189147.7965635\ttest: 12123775.2010394\tbest: 12123775.2010394 (6)\ttotal: 446ms\tremaining: 31.4s\n",
      "7:\tlearn: 13834314.4320504\ttest: 11701409.9318964\tbest: 11701409.9318964 (7)\ttotal: 491ms\tremaining: 30.2s\n",
      "8:\tlearn: 13463293.6160860\ttest: 11323461.0212737\tbest: 11323461.0212737 (8)\ttotal: 536ms\tremaining: 29.2s\n",
      "9:\tlearn: 13137025.7480594\ttest: 10909650.1654876\tbest: 10909650.1654876 (9)\ttotal: 565ms\tremaining: 27.7s\n",
      "10:\tlearn: 12836358.7856860\ttest: 10570778.8059835\tbest: 10570778.8059835 (10)\ttotal: 611ms\tremaining: 27.2s\n",
      "11:\tlearn: 12533032.4339887\ttest: 10267174.1724604\tbest: 10267174.1724604 (11)\ttotal: 651ms\tremaining: 26.5s\n",
      "12:\tlearn: 12216733.7878077\ttest: 9984578.2804650\tbest: 9984578.2804650 (12)\ttotal: 684ms\tremaining: 25.6s\n",
      "13:\tlearn: 11958082.8185701\ttest: 9715527.9424866\tbest: 9715527.9424866 (13)\ttotal: 739ms\tremaining: 25.7s\n",
      "14:\tlearn: 11744101.2229932\ttest: 9462911.1373490\tbest: 9462911.1373490 (14)\ttotal: 784ms\tremaining: 25.3s\n",
      "15:\tlearn: 11540346.9590007\ttest: 9224799.4095678\tbest: 9224799.4095678 (15)\ttotal: 828ms\tremaining: 25s\n",
      "16:\tlearn: 11330187.6529367\ttest: 9017728.8224266\tbest: 9017728.8224266 (16)\ttotal: 863ms\tremaining: 24.5s\n",
      "17:\tlearn: 11128024.6652072\ttest: 8751655.0455592\tbest: 8751655.0455592 (17)\ttotal: 918ms\tremaining: 24.6s\n",
      "18:\tlearn: 10957706.6928805\ttest: 8575688.1416114\tbest: 8575688.1416114 (18)\ttotal: 979ms\tremaining: 24.8s\n",
      "19:\tlearn: 10785529.0793674\ttest: 8405087.8524804\tbest: 8405087.8524804 (19)\ttotal: 1.02s\tremaining: 24.5s\n",
      "20:\tlearn: 10646127.0577677\ttest: 8269495.8723728\tbest: 8269495.8723728 (20)\ttotal: 1.06s\tremaining: 24.1s\n",
      "21:\tlearn: 10491360.1662619\ttest: 8093113.1472066\tbest: 8093113.1472066 (21)\ttotal: 1.1s\tremaining: 23.8s\n",
      "22:\tlearn: 10354980.0006285\ttest: 7989127.7834292\tbest: 7989127.7834292 (22)\ttotal: 1.13s\tremaining: 23.4s\n",
      "23:\tlearn: 10238402.4096567\ttest: 7861501.5411760\tbest: 7861501.5411760 (23)\ttotal: 1.16s\tremaining: 23.1s\n",
      "24:\tlearn: 10109144.2701629\ttest: 7716291.5880245\tbest: 7716291.5880245 (24)\ttotal: 1.19s\tremaining: 22.7s\n",
      "25:\tlearn: 10001177.2006957\ttest: 7606000.8053276\tbest: 7606000.8053276 (25)\ttotal: 1.23s\tremaining: 22.5s\n",
      "26:\tlearn: 9887551.2976238\ttest: 7480148.7859998\tbest: 7480148.7859998 (26)\ttotal: 1.26s\tremaining: 22.1s\n",
      "27:\tlearn: 9812555.1413776\ttest: 7415860.8817458\tbest: 7415860.8817458 (27)\ttotal: 1.32s\tremaining: 22.2s\n",
      "28:\tlearn: 9739552.8725905\ttest: 7308259.4871521\tbest: 7308259.4871521 (28)\ttotal: 1.35s\tremaining: 22s\n",
      "29:\tlearn: 9635008.8089541\ttest: 7237097.5043080\tbest: 7237097.5043080 (29)\ttotal: 1.41s\tremaining: 22s\n",
      "30:\tlearn: 9569150.2058181\ttest: 7164377.4017336\tbest: 7164377.4017336 (30)\ttotal: 1.43s\tremaining: 21.7s\n",
      "31:\tlearn: 9501291.1393480\ttest: 7104431.1462591\tbest: 7104431.1462591 (31)\ttotal: 1.46s\tremaining: 21.4s\n",
      "32:\tlearn: 9401733.9841117\ttest: 7043777.7412494\tbest: 7043777.7412494 (32)\ttotal: 1.51s\tremaining: 21.4s\n",
      "33:\tlearn: 9349177.4674927\ttest: 7005567.8452832\tbest: 7005567.8452832 (33)\ttotal: 1.55s\tremaining: 21.3s\n",
      "34:\tlearn: 9297218.5381500\ttest: 6927283.4744344\tbest: 6927283.4744344 (34)\ttotal: 1.6s\tremaining: 21.3s\n",
      "35:\tlearn: 9252472.1793200\ttest: 6847701.0744296\tbest: 6847701.0744296 (35)\ttotal: 1.65s\tremaining: 21.3s\n",
      "36:\tlearn: 9212788.3931106\ttest: 6823330.8648139\tbest: 6823330.8648139 (36)\ttotal: 1.69s\tremaining: 21.1s\n",
      "37:\tlearn: 9135993.2059057\ttest: 6751544.7704973\tbest: 6751544.7704973 (37)\ttotal: 1.73s\tremaining: 21.1s\n",
      "38:\tlearn: 9072925.9653994\ttest: 6713063.6797026\tbest: 6713063.6797026 (38)\ttotal: 1.79s\tremaining: 21.2s\n",
      "39:\tlearn: 9040649.4471972\ttest: 6690781.9878072\tbest: 6690781.9878072 (39)\ttotal: 1.84s\tremaining: 21.1s\n",
      "40:\tlearn: 8917531.1486057\ttest: 6677073.5923525\tbest: 6677073.5923525 (40)\ttotal: 1.88s\tremaining: 21.1s\n",
      "41:\tlearn: 8846645.8071841\ttest: 6606264.9044089\tbest: 6606264.9044089 (41)\ttotal: 1.92s\tremaining: 21s\n",
      "42:\tlearn: 8746125.0909539\ttest: 6589286.6969878\tbest: 6589286.6969878 (42)\ttotal: 1.95s\tremaining: 20.7s\n",
      "43:\tlearn: 8706808.2470169\ttest: 6583234.9138624\tbest: 6583234.9138624 (43)\ttotal: 1.98s\tremaining: 20.5s\n",
      "44:\tlearn: 8647978.7746584\ttest: 6524807.4008537\tbest: 6524807.4008537 (44)\ttotal: 2.02s\tremaining: 20.4s\n",
      "45:\tlearn: 8608274.6063153\ttest: 6505557.9888631\tbest: 6505557.9888631 (45)\ttotal: 2.05s\tremaining: 20.3s\n",
      "46:\tlearn: 8551598.6882852\ttest: 6465117.2804617\tbest: 6465117.2804617 (46)\ttotal: 2.09s\tremaining: 20.2s\n",
      "47:\tlearn: 8535169.2571630\ttest: 6454614.2728792\tbest: 6454614.2728792 (47)\ttotal: 2.13s\tremaining: 20s\n",
      "48:\tlearn: 8450197.5479215\ttest: 6452811.3129514\tbest: 6452811.3129514 (48)\ttotal: 2.16s\tremaining: 19.9s\n",
      "49:\tlearn: 8393411.4449450\ttest: 6452066.0802455\tbest: 6452066.0802455 (49)\ttotal: 2.19s\tremaining: 19.7s\n",
      "50:\tlearn: 8340189.7691788\ttest: 6453214.0340741\tbest: 6452066.0802455 (49)\ttotal: 2.22s\tremaining: 19.5s\n",
      "51:\tlearn: 8299884.1368606\ttest: 6441801.6417264\tbest: 6441801.6417264 (51)\ttotal: 2.27s\tremaining: 19.5s\n",
      "52:\tlearn: 8250701.6312211\ttest: 6418204.2572098\tbest: 6418204.2572098 (52)\ttotal: 2.31s\tremaining: 19.5s\n",
      "53:\tlearn: 8223954.4134678\ttest: 6413011.5530892\tbest: 6413011.5530892 (53)\ttotal: 2.34s\tremaining: 19.3s\n",
      "54:\tlearn: 8173723.5414955\ttest: 6377637.5071269\tbest: 6377637.5071269 (54)\ttotal: 2.38s\tremaining: 19.3s\n",
      "55:\tlearn: 8146663.8347993\ttest: 6338367.4931347\tbest: 6338367.4931347 (55)\ttotal: 2.42s\tremaining: 19.2s\n",
      "56:\tlearn: 8107987.8163519\ttest: 6345747.0477605\tbest: 6338367.4931347 (55)\ttotal: 2.46s\tremaining: 19.1s\n",
      "57:\tlearn: 8072547.7934394\ttest: 6323258.6325652\tbest: 6323258.6325652 (57)\ttotal: 2.51s\tremaining: 19.1s\n",
      "58:\tlearn: 8055427.6470242\ttest: 6290432.1014993\tbest: 6290432.1014993 (58)\ttotal: 2.54s\tremaining: 19s\n",
      "59:\tlearn: 8036390.1121454\ttest: 6289529.4414801\tbest: 6289529.4414801 (59)\ttotal: 2.59s\tremaining: 19s\n",
      "60:\tlearn: 8006789.5517170\ttest: 6299672.8076403\tbest: 6289529.4414801 (59)\ttotal: 2.62s\tremaining: 18.8s\n",
      "61:\tlearn: 7976197.3895063\ttest: 6276712.2232047\tbest: 6276712.2232047 (61)\ttotal: 2.66s\tremaining: 18.8s\n",
      "62:\tlearn: 7955308.8765380\ttest: 6278672.2231944\tbest: 6276712.2232047 (61)\ttotal: 2.69s\tremaining: 18.7s\n",
      "63:\tlearn: 7938471.5392130\ttest: 6273631.2994421\tbest: 6273631.2994421 (63)\ttotal: 2.73s\tremaining: 18.6s\n",
      "64:\tlearn: 7859818.7008655\ttest: 6288520.5498999\tbest: 6273631.2994421 (63)\ttotal: 2.76s\tremaining: 18.5s\n",
      "65:\tlearn: 7765163.8895012\ttest: 6301032.5190672\tbest: 6273631.2994421 (63)\ttotal: 2.8s\tremaining: 18.4s\n",
      "66:\tlearn: 7752157.3000091\ttest: 6309926.6731317\tbest: 6273631.2994421 (63)\ttotal: 2.83s\tremaining: 18.3s\n",
      "67:\tlearn: 7681324.3487962\ttest: 6324304.2294371\tbest: 6273631.2994421 (63)\ttotal: 2.88s\tremaining: 18.3s\n",
      "68:\tlearn: 7669448.9407734\ttest: 6315246.2760034\tbest: 6273631.2994421 (63)\ttotal: 2.91s\tremaining: 18.2s\n",
      "69:\tlearn: 7658928.1742222\ttest: 6306065.6845296\tbest: 6273631.2994421 (63)\ttotal: 2.96s\tremaining: 18.2s\n",
      "70:\tlearn: 7598129.5884861\ttest: 6319803.3500505\tbest: 6273631.2994421 (63)\ttotal: 2.99s\tremaining: 18.1s\n",
      "71:\tlearn: 7525852.7028297\ttest: 6332532.6423183\tbest: 6273631.2994421 (63)\ttotal: 3.02s\tremaining: 18s\n",
      "72:\tlearn: 7470893.6818963\ttest: 6345240.6601252\tbest: 6273631.2994421 (63)\ttotal: 3.06s\tremaining: 17.9s\n",
      "73:\tlearn: 7440335.0660744\ttest: 6332585.3175534\tbest: 6273631.2994421 (63)\ttotal: 3.12s\tremaining: 18s\n",
      "74:\tlearn: 7430524.4817048\ttest: 6341638.9063256\tbest: 6273631.2994421 (63)\ttotal: 3.17s\tremaining: 17.9s\n",
      "75:\tlearn: 7367046.6582441\ttest: 6355432.5106106\tbest: 6273631.2994421 (63)\ttotal: 3.2s\tremaining: 17.9s\n",
      "76:\tlearn: 7331387.6826190\ttest: 6364705.6021082\tbest: 6273631.2994421 (63)\ttotal: 3.25s\tremaining: 17.8s\n",
      "77:\tlearn: 7318948.1542111\ttest: 6369500.2543176\tbest: 6273631.2994421 (63)\ttotal: 3.28s\tremaining: 17.8s\n",
      "78:\tlearn: 7308043.2046351\ttest: 6367818.4719660\tbest: 6273631.2994421 (63)\ttotal: 3.33s\tremaining: 17.8s\n",
      "79:\tlearn: 7302441.3068499\ttest: 6362140.0571683\tbest: 6273631.2994421 (63)\ttotal: 3.39s\tremaining: 17.8s\n"
     ]
    },
    {
     "name": "stdout",
     "output_type": "stream",
     "text": [
      "80:\tlearn: 7269751.6360789\ttest: 6372695.7735938\tbest: 6273631.2994421 (63)\ttotal: 3.42s\tremaining: 17.7s\n",
      "81:\tlearn: 7269625.4762642\ttest: 6372978.9623719\tbest: 6273631.2994421 (63)\ttotal: 3.46s\tremaining: 17.6s\n",
      "82:\tlearn: 7247897.3984338\ttest: 6374398.4400562\tbest: 6273631.2994421 (63)\ttotal: 3.51s\tremaining: 17.7s\n",
      "83:\tlearn: 7240324.9944752\ttest: 6383110.6822745\tbest: 6273631.2994421 (63)\ttotal: 3.56s\tremaining: 17.6s\n",
      "84:\tlearn: 7195506.5745225\ttest: 6389335.3522178\tbest: 6273631.2994421 (63)\ttotal: 3.62s\tremaining: 17.7s\n",
      "85:\tlearn: 7195407.4536203\ttest: 6389601.2150349\tbest: 6273631.2994421 (63)\ttotal: 3.65s\tremaining: 17.6s\n",
      "86:\tlearn: 7195198.2774502\ttest: 6390190.9944751\tbest: 6273631.2994421 (63)\ttotal: 3.69s\tremaining: 17.5s\n",
      "87:\tlearn: 7184961.2864579\ttest: 6387848.9582015\tbest: 6273631.2994421 (63)\ttotal: 3.73s\tremaining: 17.5s\n",
      "88:\tlearn: 7184960.1036340\ttest: 6387883.6654219\tbest: 6273631.2994421 (63)\ttotal: 3.75s\tremaining: 17.3s\n",
      "89:\tlearn: 7139085.1851371\ttest: 6398453.0420964\tbest: 6273631.2994421 (63)\ttotal: 3.79s\tremaining: 17.3s\n",
      "90:\tlearn: 7138841.4872205\ttest: 6398667.3762647\tbest: 6273631.2994421 (63)\ttotal: 3.82s\tremaining: 17.2s\n",
      "91:\tlearn: 7138635.4854803\ttest: 6398904.9852549\tbest: 6273631.2994421 (63)\ttotal: 3.84s\tremaining: 17s\n",
      "92:\tlearn: 7128908.1743202\ttest: 6404637.5377280\tbest: 6273631.2994421 (63)\ttotal: 3.89s\tremaining: 17s\n",
      "93:\tlearn: 7128822.3417953\ttest: 6404826.9074688\tbest: 6273631.2994421 (63)\ttotal: 3.93s\tremaining: 17s\n",
      "94:\tlearn: 7128422.2135226\ttest: 6405023.8924372\tbest: 6273631.2994421 (63)\ttotal: 3.96s\tremaining: 16.9s\n",
      "95:\tlearn: 7106806.5566511\ttest: 6417938.5911537\tbest: 6273631.2994421 (63)\ttotal: 4s\tremaining: 16.9s\n",
      "96:\tlearn: 7106764.8446038\ttest: 6418132.0948561\tbest: 6273631.2994421 (63)\ttotal: 4.02s\tremaining: 16.7s\n",
      "97:\tlearn: 7096085.9848458\ttest: 6424845.1658605\tbest: 6273631.2994421 (63)\ttotal: 4.07s\tremaining: 16.7s\n",
      "98:\tlearn: 7096042.3964915\ttest: 6424997.5102139\tbest: 6273631.2994421 (63)\ttotal: 4.1s\tremaining: 16.6s\n",
      "99:\tlearn: 7094530.6059832\ttest: 6422584.4637631\tbest: 6273631.2994421 (63)\ttotal: 4.15s\tremaining: 16.6s\n",
      "100:\tlearn: 7055787.0947019\ttest: 6405010.0398606\tbest: 6273631.2994421 (63)\ttotal: 4.2s\tremaining: 16.6s\n",
      "101:\tlearn: 7042730.2246235\ttest: 6413506.0645037\tbest: 6273631.2994421 (63)\ttotal: 4.23s\tremaining: 16.5s\n",
      "102:\tlearn: 7042559.2196225\ttest: 6414110.4570615\tbest: 6273631.2994421 (63)\ttotal: 4.26s\tremaining: 16.4s\n",
      "103:\tlearn: 7042285.3770249\ttest: 6414300.0983687\tbest: 6273631.2994421 (63)\ttotal: 4.29s\tremaining: 16.3s\n",
      "104:\tlearn: 7042230.8345628\ttest: 6414541.4356772\tbest: 6273631.2994421 (63)\ttotal: 4.33s\tremaining: 16.3s\n",
      "105:\tlearn: 7032554.6461869\ttest: 6411571.2459263\tbest: 6273631.2994421 (63)\ttotal: 4.36s\tremaining: 16.2s\n",
      "106:\tlearn: 7011070.6582839\ttest: 6416237.1005607\tbest: 6273631.2994421 (63)\ttotal: 4.4s\tremaining: 16.2s\n",
      "107:\tlearn: 7011023.7716631\ttest: 6416363.2944311\tbest: 6273631.2994421 (63)\ttotal: 4.43s\tremaining: 16.1s\n",
      "108:\tlearn: 7010910.4920085\ttest: 6416449.3117102\tbest: 6273631.2994421 (63)\ttotal: 4.46s\tremaining: 16s\n",
      "109:\tlearn: 7010683.6432214\ttest: 6416589.7200159\tbest: 6273631.2994421 (63)\ttotal: 4.49s\tremaining: 15.9s\n",
      "110:\tlearn: 7003080.1463207\ttest: 6421781.2952808\tbest: 6273631.2994421 (63)\ttotal: 4.55s\tremaining: 15.9s\n",
      "111:\tlearn: 6998257.4779256\ttest: 6413815.1484141\tbest: 6273631.2994421 (63)\ttotal: 4.62s\tremaining: 16s\n",
      "112:\tlearn: 6988822.4704248\ttest: 6418634.5842913\tbest: 6273631.2994421 (63)\ttotal: 4.69s\tremaining: 16.1s\n",
      "113:\tlearn: 6981333.0493092\ttest: 6417608.6337516\tbest: 6273631.2994421 (63)\ttotal: 4.79s\tremaining: 16.2s\n",
      "114:\tlearn: 6973563.8225786\ttest: 6400700.6546162\tbest: 6273631.2994421 (63)\ttotal: 4.88s\tremaining: 16.3s\n",
      "115:\tlearn: 6953154.9368667\ttest: 6359267.1863823\tbest: 6273631.2994421 (63)\ttotal: 4.97s\tremaining: 16.4s\n",
      "116:\tlearn: 6939120.7982582\ttest: 6360046.6466003\tbest: 6273631.2994421 (63)\ttotal: 5.08s\tremaining: 16.6s\n",
      "117:\tlearn: 6927893.0533569\ttest: 6361778.1767356\tbest: 6273631.2994421 (63)\ttotal: 5.17s\tremaining: 16.7s\n",
      "118:\tlearn: 6927872.0492275\ttest: 6361899.3537610\tbest: 6273631.2994421 (63)\ttotal: 5.23s\tremaining: 16.8s\n",
      "119:\tlearn: 6927691.6075904\ttest: 6361985.8416285\tbest: 6273631.2994421 (63)\ttotal: 5.29s\tremaining: 16.8s\n",
      "120:\tlearn: 6912925.9837387\ttest: 6341860.4977677\tbest: 6273631.2994421 (63)\ttotal: 5.38s\tremaining: 16.9s\n",
      "121:\tlearn: 6898836.2066259\ttest: 6301598.5467419\tbest: 6273631.2994421 (63)\ttotal: 5.46s\tremaining: 16.9s\n",
      "122:\tlearn: 6889327.6435203\ttest: 6302458.4934042\tbest: 6273631.2994421 (63)\ttotal: 5.54s\tremaining: 17s\n",
      "123:\tlearn: 6874945.7325067\ttest: 6280551.8749243\tbest: 6273631.2994421 (63)\ttotal: 5.62s\tremaining: 17s\n",
      "124:\tlearn: 6864222.8185995\ttest: 6286507.5030630\tbest: 6273631.2994421 (63)\ttotal: 5.73s\tremaining: 17.2s\n",
      "125:\tlearn: 6860906.4698834\ttest: 6288078.4547849\tbest: 6273631.2994421 (63)\ttotal: 5.85s\tremaining: 17.4s\n",
      "126:\tlearn: 6854283.4294121\ttest: 6250542.3675870\tbest: 6250542.3675870 (126)\ttotal: 5.94s\tremaining: 17.4s\n",
      "127:\tlearn: 6848689.9412609\ttest: 6247050.6284823\tbest: 6247050.6284823 (127)\ttotal: 6.05s\tremaining: 17.6s\n",
      "128:\tlearn: 6830419.4258468\ttest: 6210113.3098069\tbest: 6210113.3098069 (128)\ttotal: 6.13s\tremaining: 17.6s\n",
      "129:\tlearn: 6817903.3052269\ttest: 6173101.2564213\tbest: 6173101.2564213 (129)\ttotal: 6.2s\tremaining: 17.6s\n",
      "130:\tlearn: 6810511.1986944\ttest: 6173590.7557376\tbest: 6173101.2564213 (129)\ttotal: 6.27s\tremaining: 17.7s\n",
      "131:\tlearn: 6810250.2694572\ttest: 6173799.4100733\tbest: 6173101.2564213 (129)\ttotal: 6.34s\tremaining: 17.7s\n",
      "132:\tlearn: 6798320.6051674\ttest: 6143896.3439103\tbest: 6143896.3439103 (132)\ttotal: 6.43s\tremaining: 17.8s\n",
      "133:\tlearn: 6786183.2516397\ttest: 6124599.8856161\tbest: 6124599.8856161 (133)\ttotal: 6.5s\tremaining: 17.8s\n",
      "134:\tlearn: 6775326.3727534\ttest: 6110874.9743158\tbest: 6110874.9743158 (134)\ttotal: 6.57s\tremaining: 17.8s\n",
      "135:\tlearn: 6775311.1149435\ttest: 6110988.4702831\tbest: 6110874.9743158 (134)\ttotal: 6.62s\tremaining: 17.7s\n",
      "136:\tlearn: 6775279.9622220\ttest: 6111091.5313322\tbest: 6110874.9743158 (134)\ttotal: 6.67s\tremaining: 17.7s\n",
      "137:\tlearn: 6763476.6396044\ttest: 6110088.7504646\tbest: 6110088.7504646 (137)\ttotal: 6.77s\tremaining: 17.8s\n",
      "138:\tlearn: 6759515.0203673\ttest: 6120158.3033763\tbest: 6110088.7504646 (137)\ttotal: 6.89s\tremaining: 17.9s\n",
      "139:\tlearn: 6756393.3031253\ttest: 6121990.6086155\tbest: 6110088.7504646 (137)\ttotal: 6.98s\tremaining: 17.9s\n",
      "140:\tlearn: 6755643.2598047\ttest: 6118732.2564257\tbest: 6110088.7504646 (137)\ttotal: 7.08s\tremaining: 18s\n",
      "141:\tlearn: 6744210.6962308\ttest: 6082846.3477814\tbest: 6082846.3477814 (141)\ttotal: 7.19s\tremaining: 18.1s\n",
      "142:\tlearn: 6742563.2337974\ttest: 6074420.2591632\tbest: 6074420.2591632 (142)\ttotal: 7.32s\tremaining: 18.3s\n",
      "143:\tlearn: 6742546.1995901\ttest: 6074568.1681037\tbest: 6074420.2591632 (142)\ttotal: 7.39s\tremaining: 18.3s\n",
      "144:\tlearn: 6742536.7355794\ttest: 6074657.4771838\tbest: 6074420.2591632 (142)\ttotal: 7.44s\tremaining: 18.2s\n",
      "145:\tlearn: 6734046.6758523\ttest: 6049170.2153855\tbest: 6049170.2153855 (145)\ttotal: 7.58s\tremaining: 18.4s\n",
      "146:\tlearn: 6727109.3003066\ttest: 6012801.0643017\tbest: 6012801.0643017 (146)\ttotal: 7.68s\tremaining: 18.4s\n",
      "147:\tlearn: 6723837.7235444\ttest: 5989334.5916197\tbest: 5989334.5916197 (147)\ttotal: 7.76s\tremaining: 18.5s\n",
      "148:\tlearn: 6715262.5166773\ttest: 5975006.3779560\tbest: 5975006.3779560 (148)\ttotal: 7.86s\tremaining: 18.5s\n",
      "149:\tlearn: 6701757.2955250\ttest: 5929522.2141134\tbest: 5929522.2141134 (149)\ttotal: 7.92s\tremaining: 18.5s\n",
      "150:\tlearn: 6692053.1924317\ttest: 5929577.6667034\tbest: 5929522.2141134 (149)\ttotal: 8s\tremaining: 18.5s\n",
      "151:\tlearn: 6687272.3310476\ttest: 5899287.9962968\tbest: 5899287.9962968 (151)\ttotal: 8.07s\tremaining: 18.5s\n",
      "152:\tlearn: 6682560.1676118\ttest: 5869481.5003640\tbest: 5869481.5003640 (152)\ttotal: 8.13s\tremaining: 18.5s\n",
      "153:\tlearn: 6670718.3644131\ttest: 5833576.3892401\tbest: 5833576.3892401 (153)\ttotal: 8.21s\tremaining: 18.5s\n",
      "154:\tlearn: 6661675.2545126\ttest: 5814369.7111824\tbest: 5814369.7111824 (154)\ttotal: 8.29s\tremaining: 18.4s\n",
      "155:\tlearn: 6661660.4733077\ttest: 5814477.2827841\tbest: 5814369.7111824 (154)\ttotal: 8.33s\tremaining: 18.4s\n",
      "156:\tlearn: 6660681.7632973\ttest: 5812985.6018732\tbest: 5812985.6018732 (156)\ttotal: 8.39s\tremaining: 18.3s\n",
      "157:\tlearn: 6650342.5673441\ttest: 5810340.7788627\tbest: 5810340.7788627 (157)\ttotal: 8.49s\tremaining: 18.4s\n",
      "158:\tlearn: 6640772.2966934\ttest: 5806587.1173057\tbest: 5806587.1173057 (158)\ttotal: 8.58s\tremaining: 18.4s\n"
     ]
    },
    {
     "name": "stdout",
     "output_type": "stream",
     "text": [
      "159:\tlearn: 6625355.5950386\ttest: 5777350.0891872\tbest: 5777350.0891872 (159)\ttotal: 8.64s\tremaining: 18.4s\n",
      "160:\tlearn: 6616001.4113151\ttest: 5774142.8098500\tbest: 5774142.8098500 (160)\ttotal: 8.75s\tremaining: 18.4s\n",
      "161:\tlearn: 6610963.2819112\ttest: 5778303.7521856\tbest: 5774142.8098500 (160)\ttotal: 8.84s\tremaining: 18.5s\n"
     ]
    }
   ],
   "source": [
    "model=CatBoostRegressor(iterations=500, max_depth=5, learning_rate=0.05, random_seed=1066, loss_function='RMSE')\n",
    "model.fit(X_train, y_train,cat_features=categorical_features_indices,eval_set=(X_validation, y_validation),plot=True)"
   ]
  },
  {
   "cell_type": "code",
   "execution_count": null,
   "id": "0086800c",
   "metadata": {},
   "outputs": [],
   "source": [
    "from sklearn.metrics import r2_score\n",
    "model_predict = model.predict(X_validation)\n",
    "\n",
    "r = r2_score(y_validation,model_predict)\n",
    "print(\"R_Square score : \",r)"
   ]
  },
  {
   "cell_type": "code",
   "execution_count": null,
   "id": "7e184ed9",
   "metadata": {},
   "outputs": [],
   "source": [
    "plt.scatter(y_validation,model_predict)\n",
    "plt.xlabel('Actual')\n",
    "plt.ylabel('Predicted')\n",
    "plt.title('Catboost Regression')"
   ]
  },
  {
   "cell_type": "code",
   "execution_count": null,
   "id": "2514cc5e",
   "metadata": {},
   "outputs": [],
   "source": [
    "# Calculating Adj. R2 score: \n",
    "Adjr2_2 = 1 - (1-r)*(len(y_validation)-1)/(len(y_validation)-X_validation.shape[1]-1)\n",
    "print(\"Adj. R_Squared : {}\".format(Adjr2_2))"
   ]
  },
  {
   "cell_type": "code",
   "execution_count": null,
   "id": "78866b0d",
   "metadata": {},
   "outputs": [],
   "source": [
    "feature_importance = model.feature_importances_\n",
    "sorted_idx = np.argsort(feature_importance)\n",
    "fig = plt.figure(figsize=(12, 6))\n",
    "plt.barh(range(len(sorted_idx)), feature_importance[sorted_idx], align='center')\n",
    "plt.yticks(range(len(sorted_idx)), np.array(X_validation.columns)[sorted_idx])\n",
    "plt.title('Feature Importance')"
   ]
  },
  {
   "cell_type": "code",
   "execution_count": null,
   "id": "8dee65c3",
   "metadata": {},
   "outputs": [],
   "source": []
  }
 ],
 "metadata": {
  "kernelspec": {
   "display_name": "Python 3 (ipykernel)",
   "language": "python",
   "name": "python3"
  },
  "language_info": {
   "codemirror_mode": {
    "name": "ipython",
    "version": 3
   },
   "file_extension": ".py",
   "mimetype": "text/x-python",
   "name": "python",
   "nbconvert_exporter": "python",
   "pygments_lexer": "ipython3",
   "version": "3.9.7"
  }
 },
 "nbformat": 4,
 "nbformat_minor": 5
}
