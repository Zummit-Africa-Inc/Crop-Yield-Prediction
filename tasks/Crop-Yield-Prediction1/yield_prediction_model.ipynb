{
 "cells": [
  {
   "cell_type": "markdown",
   "id": "592f19c0",
   "metadata": {},
   "source": [
    "# Crop Yield Prediction model "
   ]
  },
  {
   "cell_type": "code",
   "execution_count": 1,
   "id": "4e495d97",
   "metadata": {},
   "outputs": [],
   "source": [
    "import matplotlib.pyplot as plt\n",
    "import seaborn as sns\n",
    "import pandas as pd\n",
    "import numpy as np"
   ]
  },
  {
   "cell_type": "code",
   "execution_count": 2,
   "id": "95becb5b",
   "metadata": {},
   "outputs": [],
   "source": [
    "#read the dataset to a dataframe\n",
    "yield_df = pd.read_csv('yield_df.csv', sep = ',')"
   ]
  },
  {
   "cell_type": "code",
   "execution_count": 3,
   "id": "9194c5be",
   "metadata": {
    "scrolled": true
   },
   "outputs": [
    {
     "data": {
      "text/plain": [
       "(28242, 8)"
      ]
     },
     "execution_count": 3,
     "metadata": {},
     "output_type": "execute_result"
    }
   ],
   "source": [
    "# Shapes of the dataset\n",
    "yield_df.shape"
   ]
  },
  {
   "cell_type": "code",
   "execution_count": 4,
   "id": "79e0b677",
   "metadata": {},
   "outputs": [
    {
     "name": "stdout",
     "output_type": "stream",
     "text": [
      "<class 'pandas.core.frame.DataFrame'>\n",
      "RangeIndex: 28242 entries, 0 to 28241\n",
      "Data columns (total 8 columns):\n",
      " #   Column                         Non-Null Count  Dtype  \n",
      "---  ------                         --------------  -----  \n",
      " 0   Unnamed: 0                     28242 non-null  int64  \n",
      " 1   Area                           28242 non-null  object \n",
      " 2   Item                           28242 non-null  object \n",
      " 3   Year                           28242 non-null  int64  \n",
      " 4   hg/ha_yield                    28242 non-null  int64  \n",
      " 5   average_rain_fall_mm_per_year  28242 non-null  float64\n",
      " 6   pesticides_tonnes              28242 non-null  float64\n",
      " 7   avg_temp                       28242 non-null  float64\n",
      "dtypes: float64(3), int64(3), object(2)\n",
      "memory usage: 1.7+ MB\n"
     ]
    }
   ],
   "source": [
    "yield_df.info()"
   ]
  },
  {
   "cell_type": "code",
   "execution_count": 5,
   "id": "503c3160",
   "metadata": {},
   "outputs": [],
   "source": [
    "yield_df.drop('Unnamed: 0', axis = 1,inplace = True)"
   ]
  },
  {
   "cell_type": "code",
   "execution_count": 6,
   "id": "2d7c9742",
   "metadata": {},
   "outputs": [],
   "source": [
    "yield_df.rename(columns = {'hg/ha_yield' :'hg_ha_yield'}, inplace = True)"
   ]
  },
  {
   "cell_type": "code",
   "execution_count": 7,
   "id": "df09ed49",
   "metadata": {
    "scrolled": true
   },
   "outputs": [
    {
     "data": {
      "text/html": [
       "<div>\n",
       "<style scoped>\n",
       "    .dataframe tbody tr th:only-of-type {\n",
       "        vertical-align: middle;\n",
       "    }\n",
       "\n",
       "    .dataframe tbody tr th {\n",
       "        vertical-align: top;\n",
       "    }\n",
       "\n",
       "    .dataframe thead th {\n",
       "        text-align: right;\n",
       "    }\n",
       "</style>\n",
       "<table border=\"1\" class=\"dataframe\">\n",
       "  <thead>\n",
       "    <tr style=\"text-align: right;\">\n",
       "      <th></th>\n",
       "      <th>Area</th>\n",
       "      <th>Item</th>\n",
       "      <th>Year</th>\n",
       "      <th>hg_ha_yield</th>\n",
       "      <th>average_rain_fall_mm_per_year</th>\n",
       "      <th>pesticides_tonnes</th>\n",
       "      <th>avg_temp</th>\n",
       "    </tr>\n",
       "  </thead>\n",
       "  <tbody>\n",
       "    <tr>\n",
       "      <th>0</th>\n",
       "      <td>Albania</td>\n",
       "      <td>Maize</td>\n",
       "      <td>1990</td>\n",
       "      <td>36613</td>\n",
       "      <td>1485.0</td>\n",
       "      <td>121.0</td>\n",
       "      <td>16.37</td>\n",
       "    </tr>\n",
       "    <tr>\n",
       "      <th>1</th>\n",
       "      <td>Albania</td>\n",
       "      <td>Potatoes</td>\n",
       "      <td>1990</td>\n",
       "      <td>66667</td>\n",
       "      <td>1485.0</td>\n",
       "      <td>121.0</td>\n",
       "      <td>16.37</td>\n",
       "    </tr>\n",
       "    <tr>\n",
       "      <th>2</th>\n",
       "      <td>Albania</td>\n",
       "      <td>Rice, paddy</td>\n",
       "      <td>1990</td>\n",
       "      <td>23333</td>\n",
       "      <td>1485.0</td>\n",
       "      <td>121.0</td>\n",
       "      <td>16.37</td>\n",
       "    </tr>\n",
       "    <tr>\n",
       "      <th>3</th>\n",
       "      <td>Albania</td>\n",
       "      <td>Sorghum</td>\n",
       "      <td>1990</td>\n",
       "      <td>12500</td>\n",
       "      <td>1485.0</td>\n",
       "      <td>121.0</td>\n",
       "      <td>16.37</td>\n",
       "    </tr>\n",
       "    <tr>\n",
       "      <th>4</th>\n",
       "      <td>Albania</td>\n",
       "      <td>Soybeans</td>\n",
       "      <td>1990</td>\n",
       "      <td>7000</td>\n",
       "      <td>1485.0</td>\n",
       "      <td>121.0</td>\n",
       "      <td>16.37</td>\n",
       "    </tr>\n",
       "  </tbody>\n",
       "</table>\n",
       "</div>"
      ],
      "text/plain": [
       "      Area         Item  Year  hg_ha_yield  average_rain_fall_mm_per_year  \\\n",
       "0  Albania        Maize  1990        36613                         1485.0   \n",
       "1  Albania     Potatoes  1990        66667                         1485.0   \n",
       "2  Albania  Rice, paddy  1990        23333                         1485.0   \n",
       "3  Albania      Sorghum  1990        12500                         1485.0   \n",
       "4  Albania     Soybeans  1990         7000                         1485.0   \n",
       "\n",
       "   pesticides_tonnes  avg_temp  \n",
       "0              121.0     16.37  \n",
       "1              121.0     16.37  \n",
       "2              121.0     16.37  \n",
       "3              121.0     16.37  \n",
       "4              121.0     16.37  "
      ]
     },
     "execution_count": 7,
     "metadata": {},
     "output_type": "execute_result"
    }
   ],
   "source": [
    "yield_df.head()"
   ]
  },
  {
   "cell_type": "code",
   "execution_count": 8,
   "id": "dfa94713",
   "metadata": {
    "scrolled": true
   },
   "outputs": [
    {
     "data": {
      "text/plain": [
       "2310"
      ]
     },
     "execution_count": 8,
     "metadata": {},
     "output_type": "execute_result"
    }
   ],
   "source": [
    "# Check for duplicates\n",
    "yield_df.duplicated().sum()"
   ]
  },
  {
   "cell_type": "code",
   "execution_count": 9,
   "id": "2d149317",
   "metadata": {},
   "outputs": [],
   "source": [
    "# Drop duplicates\n",
    "yield_df.drop_duplicates(inplace = True)"
   ]
  },
  {
   "cell_type": "code",
   "execution_count": 10,
   "id": "7ae4beae",
   "metadata": {},
   "outputs": [
    {
     "data": {
      "text/plain": [
       "0"
      ]
     },
     "execution_count": 10,
     "metadata": {},
     "output_type": "execute_result"
    }
   ],
   "source": [
    "# Check for duplicates again\n",
    "yield_df.duplicated().sum()"
   ]
  },
  {
   "cell_type": "code",
   "execution_count": 11,
   "id": "3cac4690",
   "metadata": {},
   "outputs": [
    {
     "data": {
      "text/plain": [
       "(25932, 7)"
      ]
     },
     "execution_count": 11,
     "metadata": {},
     "output_type": "execute_result"
    }
   ],
   "source": [
    "# check the new shape of dataset\n",
    "yield_df.shape"
   ]
  },
  {
   "cell_type": "markdown",
   "id": "1d953196",
   "metadata": {},
   "source": [
    "## Exploration and Visualisation"
   ]
  },
  {
   "cell_type": "code",
   "execution_count": 12,
   "id": "7f46fc3a",
   "metadata": {},
   "outputs": [],
   "source": [
    "corr_data = yield_df.select_dtypes(include = ['int','float']).corr()"
   ]
  },
  {
   "cell_type": "code",
   "execution_count": 13,
   "id": "8c91add0",
   "metadata": {
    "scrolled": false
   },
   "outputs": [
    {
     "data": {
      "text/plain": [
       "<AxesSubplot:>"
      ]
     },
     "execution_count": 13,
     "metadata": {},
     "output_type": "execute_result"
    },
    {
     "data": {
      "image/png": "[encoded data removed]",
      "text/plain": [
       "<Figure size 720x720 with 2 Axes>"
      ]
     },
     "metadata": {
      "needs_background": "light"
     },
     "output_type": "display_data"
    }
   ],
   "source": [
    "plt.figure(figsize = (10,10))\n",
    "sns.set_theme(style = 'white', palette = 'plasma')\n",
    "sns.heatmap(corr_data, annot = True)"
   ]
  },
  {
   "cell_type": "markdown",
   "id": "c07d11c9",
   "metadata": {},
   "source": [
    "From this heatmap, it is observed that there isn't high correlation between the yield and other numerical features in the dataset. This means a factor that strongly determines the yield of crops may not be gotten."
   ]
  },
  {
   "cell_type": "code",
   "execution_count": 14,
   "id": "96a3cac9",
   "metadata": {
    "scrolled": false
   },
   "outputs": [
    {
     "data": {
      "text/plain": [
       "Potatoes                3956\n",
       "Maize                   3824\n",
       "Wheat                   3539\n",
       "Rice, paddy             3091\n",
       "Soybeans                2940\n",
       "Sorghum                 2770\n",
       "Sweet potatoes          2593\n",
       "Cassava                 1889\n",
       "Yams                     774\n",
       "Plantains and others     556\n",
       "Name: Item, dtype: int64"
      ]
     },
     "execution_count": 14,
     "metadata": {},
     "output_type": "execute_result"
    }
   ],
   "source": [
    "yield_df['Item'].value_counts()"
   ]
  },
  {
   "cell_type": "markdown",
   "id": "0dee52d3",
   "metadata": {},
   "source": [
    "Potatoes are the most grown crops"
   ]
  },
  {
   "cell_type": "code",
   "execution_count": 15,
   "id": "a0b1b0d4",
   "metadata": {
    "scrolled": true
   },
   "outputs": [
    {
     "data": {
      "text/plain": [
       "101"
      ]
     },
     "execution_count": 15,
     "metadata": {},
     "output_type": "execute_result"
    }
   ],
   "source": [
    "yield_df['Area'].nunique()"
   ]
  },
  {
   "cell_type": "markdown",
   "id": "6f71d249",
   "metadata": {},
   "source": [
    "There are 101 areas so let us look for the top 10 areas with the highest yield"
   ]
  },
  {
   "cell_type": "markdown",
   "id": "84256f69",
   "metadata": {},
   "source": [
    "#### Getting the 10 areas with the highest yield"
   ]
  },
  {
   "cell_type": "code",
   "execution_count": 16,
   "id": "401672bb",
   "metadata": {
    "scrolled": true
   },
   "outputs": [
    {
     "data": {
      "text/plain": [
       "Area\n",
       "India             274219558\n",
       "Brazil            136340329\n",
       "Mexico            113698872\n",
       "Australia         109111062\n",
       "Japan             100924145\n",
       "Indonesia          68067328\n",
       "Turkey             52263950\n",
       "Pakistan           49264956\n",
       "Spain              46773540\n",
       "United Kingdom     44335992\n",
       "Name: hg_ha_yield, dtype: int64"
      ]
     },
     "execution_count": 16,
     "metadata": {},
     "output_type": "execute_result"
    }
   ],
   "source": [
    "yield_df.groupby(['Area'], sort = True)['hg_ha_yield'].sum().nlargest(10)"
   ]
  },
  {
   "cell_type": "markdown",
   "id": "f25ab0d6",
   "metadata": {},
   "source": [
    "From this dataset, India is the country with the highest yield in 2012"
   ]
  },
  {
   "cell_type": "markdown",
   "id": "5ae29f12",
   "metadata": {},
   "source": [
    "#### Groupby Area and Item to see the country with the highest yield and the items they produce"
   ]
  },
  {
   "cell_type": "code",
   "execution_count": 17,
   "id": "e4fff486",
   "metadata": {
    "scrolled": true
   },
   "outputs": [
    {
     "data": {
      "text/plain": [
       "Area            Item          \n",
       "India           Cassava           119691113\n",
       "                Potatoes           77126500\n",
       "Australia       Potatoes           45670386\n",
       "Brazil          Potatoes           40335293\n",
       "United Kingdom  Potatoes           37364116\n",
       "India           Sweet potatoes     37169811\n",
       "Mexico          Potatoes           36559587\n",
       "Australia       Sweet potatoes     35550294\n",
       "Japan           Potatoes           34829648\n",
       "Mexico          Sweet potatoes     31148282\n",
       "Name: hg_ha_yield, dtype: int64"
      ]
     },
     "execution_count": 17,
     "metadata": {},
     "output_type": "execute_result"
    }
   ],
   "source": [
    "yield_df.groupby(['Area', 'Item'], sort = True)['hg_ha_yield'].sum().nlargest(10)"
   ]
  },
  {
   "cell_type": "markdown",
   "id": "b6f604eb",
   "metadata": {},
   "source": [
    "India has the highest production of cassava and potatoes. Potatoes are also the dominant item with the highest yield in at least 4 countries."
   ]
  },
  {
   "cell_type": "code",
   "execution_count": 18,
   "id": "45e69686",
   "metadata": {
    "scrolled": false
   },
   "outputs": [
    {
     "data": {
      "text/plain": [
       "Area   Item     Year\n",
       "India  Cassava  2012    7330542\n",
       "                2011    6930630\n",
       "                2013    6642286\n",
       "                2010    6603545\n",
       "                2008    6372733\n",
       "                2007    6121876\n",
       "                2009    5838361\n",
       "                2005    5794582\n",
       "                2006    5780376\n",
       "                2002    5182174\n",
       "Name: hg_ha_yield, dtype: int64"
      ]
     },
     "execution_count": 18,
     "metadata": {},
     "output_type": "execute_result"
    }
   ],
   "source": [
    "yield_df.groupby(['Area', 'Item', 'Year'], sort = True)['hg_ha_yield'].sum().nlargest(10)"
   ]
  },
  {
   "cell_type": "markdown",
   "id": "2bd48a8c",
   "metadata": {},
   "source": [
    "2012 had the highest yield of Cassava crops in India"
   ]
  },
  {
   "cell_type": "code",
   "execution_count": 19,
   "id": "8894ad5f",
   "metadata": {
    "scrolled": false
   },
   "outputs": [
    {
     "data": {
      "text/plain": [
       "Area\n",
       "Brazil       3.504581e+08\n",
       "India        1.637140e+08\n",
       "Mexico       5.573091e+07\n",
       "Japan        5.512744e+07\n",
       "Australia    3.198921e+07\n",
       "Italy        2.581664e+07\n",
       "Argentina    2.499804e+07\n",
       "Canada       2.379243e+07\n",
       "Colombia     2.193277e+07\n",
       "Turkey       2.081824e+07\n",
       "Name: pesticides_tonnes, dtype: float64"
      ]
     },
     "execution_count": 19,
     "metadata": {},
     "output_type": "execute_result"
    }
   ],
   "source": [
    "yield_df.groupby(['Area'], sort = True)['pesticides_tonnes'].sum().nlargest(10)"
   ]
  },
  {
   "cell_type": "markdown",
   "id": "aeb98dec",
   "metadata": {},
   "source": [
    "Higher tonnes of pesticides were used in Brazil followed by India"
   ]
  },
  {
   "cell_type": "code",
   "execution_count": 20,
   "id": "ee70707a",
   "metadata": {
    "scrolled": false
   },
   "outputs": [
    {
     "data": {
      "text/plain": [
       "Area\n",
       "India                 3664872.0\n",
       "Brazil                3264894.0\n",
       "Indonesia             2204832.0\n",
       "Ecuador               1412154.0\n",
       "Colombia              1341360.0\n",
       "Japan                 1307712.0\n",
       "Mexico                 970240.0\n",
       "Dominican Republic     518880.0\n",
       "Australia              515844.0\n",
       "Papua New Guinea       505862.0\n",
       "Name: average_rain_fall_mm_per_year, dtype: float64"
      ]
     },
     "execution_count": 20,
     "metadata": {},
     "output_type": "execute_result"
    }
   ],
   "source": [
    "yield_df.groupby(['Area'], sort = True)['average_rain_fall_mm_per_year'].sum().nlargest(10)"
   ]
  },
  {
   "cell_type": "markdown",
   "id": "d3619fcc",
   "metadata": {},
   "source": [
    "India had the highest rainfall"
   ]
  },
  {
   "cell_type": "code",
   "execution_count": 21,
   "id": "17a8dd14",
   "metadata": {
    "scrolled": true
   },
   "outputs": [
    {
     "data": {
      "text/plain": [
       "Area\n",
       "India                 88166.48\n",
       "Brazil                43366.59\n",
       "Mexico                26007.44\n",
       "Pakistan              23852.15\n",
       "Indonesia             21970.50\n",
       "Australia             16029.51\n",
       "Ecuador               12732.93\n",
       "Japan                 11971.26\n",
       "Colombia              10321.56\n",
       "Dominican Republic     9848.80\n",
       "Name: avg_temp, dtype: float64"
      ]
     },
     "execution_count": 21,
     "metadata": {},
     "output_type": "execute_result"
    }
   ],
   "source": [
    "yield_df.groupby(['Area'], sort = True)['avg_temp'].sum().nlargest(10)"
   ]
  },
  {
   "cell_type": "code",
   "execution_count": 22,
   "id": "7457515e",
   "metadata": {},
   "outputs": [
    {
     "data": {
      "text/plain": [
       "Index(['Area', 'Item', 'Year', 'hg_ha_yield', 'average_rain_fall_mm_per_year',\n",
       "       'pesticides_tonnes', 'avg_temp'],\n",
       "      dtype='object')"
      ]
     },
     "execution_count": 22,
     "metadata": {},
     "output_type": "execute_result"
    }
   ],
   "source": [
    "yield_df.columns"
   ]
  },
  {
   "cell_type": "markdown",
   "id": "e117d563",
   "metadata": {},
   "source": [
    "## Data Preprocessing\n",
    "> Here,  we then define the preprocessing steps for each data type using Pipeline. We define a numeric transformer that scales the numeric column using StandardScaler, and a categorical transformer that one-hot encodes the categorical column using OneHotEncoder. We then define a ColumnTransformer that applies the preprocessing steps to the relevant columns."
   ]
  },
  {
   "cell_type": "code",
   "execution_count": 52,
   "id": "107dffbf",
   "metadata": {},
   "outputs": [],
   "source": [
    "from sklearn.preprocessing import StandardScaler, OneHotEncoder\n",
    "from sklearn.model_selection import train_test_split\n",
    "from sklearn.pipeline import Pipeline\n",
    "from sklearn.compose import ColumnTransformer"
   ]
  },
  {
   "cell_type": "code",
   "execution_count": 47,
   "id": "a9eb919d",
   "metadata": {},
   "outputs": [],
   "source": [
    "# Select features and label for model\n",
    "features = yield_df.drop(['hg_ha_yield', 'Year'], axis = 1)\n",
    "label = yield_df['hg_ha_yield']"
   ]
  },
  {
   "cell_type": "code",
   "execution_count": 48,
   "id": "6c76b8f7",
   "metadata": {},
   "outputs": [],
   "source": [
    "# Split data into training and test sets\n",
    "x_train, x_test, y_train, y_test = train_test_split(features, label, test_size=0.2, random_state=42)"
   ]
  },
  {
   "cell_type": "code",
   "execution_count": 64,
   "id": "660f84ce",
   "metadata": {},
   "outputs": [],
   "source": [
    "# Define preprocessing steps for numerical and categorical variables\n",
    "num_transformer = Pipeline(steps=[('scaler', StandardScaler())])\n",
    "cat_transformer = Pipeline(steps=[('onehot', OneHotEncoder(handle_unknown='ignore'))])\n",
    "preprocessor = ColumnTransformer(transformers=[('num', num_transformer, ['average_rain_fall_mm_per_year',\n",
    "       'pesticides_tonnes', 'avg_temp']),\n",
    "                                               ('cat', cat_transformer, ['Area', 'Item'])])"
   ]
  },
  {
   "cell_type": "markdown",
   "id": "aa6a469a",
   "metadata": {},
   "source": [
    "## Model Selection and Comparison\n",
    "> We then define a separate pipeline for each model we want to test, with the preprocessor defined as the first step in each pipeline.\n",
    "> Finally, we fit and evaluate each pipeline using the fit and various metric methods such as r2_score, mean_absolute_error and mean_square_error of each pipeline. "
   ]
  },
  {
   "cell_type": "code",
   "execution_count": 65,
   "id": "ed2f73e0",
   "metadata": {},
   "outputs": [],
   "source": [
    "from sklearn.tree import DecisionTreeRegressor\n",
    "from sklearn.ensemble import RandomForestRegressor, GradientBoostingRegressor\n",
    "from sklearn.svm import SVR\n",
    "from sklearn.metrics import r2_score, mean_absolute_error, mean_squared_error"
   ]
  },
  {
   "cell_type": "code",
   "execution_count": 67,
   "id": "ed337035",
   "metadata": {
    "scrolled": true
   },
   "outputs": [
    {
     "name": "stdout",
     "output_type": "stream",
     "text": [
      "Decision Tree Regressor R2 score: 0.9513115346638075\t\n",
      "Decision Tree Regressor MAE score: 6872.224632093053\t\n",
      "Decision Tree Regressor MSE score: 352888691.73834693\n",
      "\n",
      "Random Forest Regressor R2 score: 0.9661586387506286\t\n",
      "Random Forest Regressor MAE score: 6333.822345705917\t\n",
      "Random Forest Regressor MSE score: 245278499.0341074\n",
      "\n",
      "Gradient Boosting Regressor R2 score: 0.8860584064069739\t\n",
      "Gradient Boosting Regressor MAE score: 18393.47834183164\t\n",
      "Gradient Boosting Regressor MSE score: 825836255.4659593\n",
      "\n",
      "Support Vector Regressor R2 score: -0.20892902000684854\t\n",
      "Support Vector Regressor MAE score: 57922.34364257103\t\n",
      "Support Vector Regressor MSE score: 8762185814.01071\n",
      "\n"
     ]
    }
   ],
   "source": [
    "models = {\n",
    "    'Decision Tree Regressor': Pipeline(steps=[\n",
    "    ('preprocessor', preprocessor),\n",
    "    ('Decision Tree Regressor', DecisionTreeRegressor())\n",
    "]),\n",
    "    'Random Forest Regressor': Pipeline(steps=[\n",
    "    ('preprocessor', preprocessor),\n",
    "    ('Random Forest Regressor', RandomForestRegressor(n_estimators=200))\n",
    "]),\n",
    "    'Gradient Boosting Regressor':Pipeline(steps=[\n",
    "    ('preprocessor', preprocessor),\n",
    "    ('Gradient Boosting Regressor', GradientBoostingRegressor(n_estimators=200))\n",
    "]) ,\n",
    "    'Support Vector Regressor':Pipeline(steps=[\n",
    "    ('preprocessor', preprocessor),\n",
    "    ('Support Vector Regressor',SVR())]),\n",
    "}\n",
    "\n",
    "\n",
    "# train and evaluate models\n",
    "for name, model in models.items():\n",
    "    # train model on training set\n",
    "    model.fit(x_train, y_train)\n",
    "    # make predictions on testing set\n",
    "    y_pred = model.predict(x_test)\n",
    "    # calculate R2 score\n",
    "    r2 = r2_score(y_test, y_pred)\n",
    "    # calculate MAE\n",
    "    mae = mean_absolute_error(y_test, y_pred)\n",
    "    # calculate MSE\n",
    "    mse = mean_squared_error(y_test, y_pred)\n",
    "    # print result\n",
    "    print(f\"{name} R2 score: {r2}\\t\")\n",
    "    print(f\"{name} MAE score: {mae}\\t\")\n",
    "    print(f\"{name} MSE score: {mse}\\n\")"
   ]
  },
  {
   "cell_type": "markdown",
   "id": "f5c22cf8",
   "metadata": {},
   "source": [
    "## Conclusion\n",
    ">The chosen evaluation metric is the R-squared (R2) regression score function, which quantifies the proportion of variance in the regression model's items (such as crops). The score indicates the goodness of fit of the regression line or curve to the terms (data points) in the model. \n",
    "\n",
    ">The R2 score ranges from 0 to 1, where a score of 1 represents a perfect prediction, and a score of 0 indicates no prediction ability. Based on the evaluation results, the Random Forest Regressor has the highest R2 score of 97%, followed by the Decision Tree Regressor at 95%."
   ]
  }
 ],
 "metadata": {
  "kernelspec": {
   "display_name": "Python 3 (ipykernel)",
   "language": "python",
   "name": "python3"
  },
  "language_info": {
   "codemirror_mode": {
    "name": "ipython",
    "version": 3
   },
   "file_extension": ".py",
   "mimetype": "text/x-python",
   "name": "python",
   "nbconvert_exporter": "python",
   "pygments_lexer": "ipython3",
   "version": "3.9.7"
  }
 },
 "nbformat": 4,
 "nbformat_minor": 5
}
