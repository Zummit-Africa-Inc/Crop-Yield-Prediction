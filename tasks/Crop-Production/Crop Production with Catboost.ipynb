{
 "cells": [
  {
   "cell_type": "code",
   "execution_count": 1,
   "id": "9d1801ef",
   "metadata": {},
   "outputs": [],
   "source": [
    "import pandas as pd\n",
    "import numpy as np\n",
    "import matplotlib.pyplot as plt\n",
    "import seaborn as sns\n",
    "from catboost import CatBoostRegressor, Pool\n",
    "from sklearn.model_selection import train_test_split\n",
    "from sklearn.metrics import r2_score\n",
    "import warnings \n",
    "import joblib\n",
    "\n",
    "warnings.filterwarnings('ignore')"
   ]
  },
  {
   "cell_type": "code",
   "execution_count": 2,
   "id": "532b2d87",
   "metadata": {},
   "outputs": [],
   "source": [
    "# Loading the dataset\n",
    "data_path = \"C:/Users/USER/Desktop/Projects/Crop-Yield-Prediction/Data/data2/crop_production.csv\"\n",
    "crop_data = pd.read_csv(data_path)"
   ]
  },
  {
   "cell_type": "code",
   "execution_count": 3,
   "id": "1347a16b",
   "metadata": {},
   "outputs": [],
   "source": [
    "# Handling missing values\n",
    "crop_data.dropna(inplace=True)"
   ]
  },
  {
   "cell_type": "code",
   "execution_count": 4,
   "id": "af9ccbbf",
   "metadata": {},
   "outputs": [],
   "source": [
    "# Dropping unnecessary columns\n",
    "crop_data.drop(['State_Name'], axis=1, inplace=True)"
   ]
  },
  {
   "cell_type": "code",
   "execution_count": 5,
   "id": "9ad09d51",
   "metadata": {},
   "outputs": [],
   "source": [
    "# Splitting the dataset into training and validation sets\n",
    "X = crop_data.drop(['Production'], axis=1)\n",
    "y = crop_data.Production\n",
    "X_train, X_val, y_train, y_val = train_test_split(X, y, train_size=0.7, random_state=1234)"
   ]
  },
  {
   "cell_type": "code",
   "execution_count": 6,
   "id": "d1d05fa0",
   "metadata": {},
   "outputs": [
    {
     "data": {
      "text/plain": [
       "District_Name     object\n",
       "Crop_Year          int64\n",
       "Season            object\n",
       "Crop              object\n",
       "Area             float64\n",
       "dtype: object"
      ]
     },
     "execution_count": 6,
     "metadata": {},
     "output_type": "execute_result"
    }
   ],
   "source": [
    "X_train.dtypes"
   ]
  },
  {
   "cell_type": "code",
   "execution_count": 7,
   "id": "8df774c3",
   "metadata": {},
   "outputs": [],
   "source": [
    "pool_train = Pool(X_train, y_train,\n",
    "                  cat_features = ['District_Name',  'Season', 'Crop'])\n",
    "\n",
    "pool_test = Pool(X_val, cat_features = ['District_Name', 'Season', 'Crop'])"
   ]
  },
  {
   "cell_type": "code",
   "execution_count": 8,
   "id": "24629407",
   "metadata": {},
   "outputs": [],
   "source": [
    "# Training the CatBoost model\n",
    "model = CatBoostRegressor(\n",
    "    iterations=100,\n",
    "    max_depth=5,\n",
    "    learning_rate=0.1,\n",
    "    random_seed=1234,\n",
    "    loss_function='RMSE'\n",
    ")"
   ]
  },
  {
   "cell_type": "code",
   "execution_count": 9,
   "id": "cc75dc08",
   "metadata": {},
   "outputs": [
    {
     "name": "stdout",
     "output_type": "stream",
     "text": [
      "0:\tlearn: 16458970.3669308\ttest: 15011329.9002539\tbest: 15011329.9002539 (0)\ttotal: 206ms\tremaining: 20.4s\n",
      "1:\tlearn: 15531565.6076159\ttest: 14117960.6997007\tbest: 14117960.6997007 (1)\ttotal: 259ms\tremaining: 12.7s\n",
      "2:\tlearn: 14733670.4323850\ttest: 13362267.1456676\tbest: 13362267.1456676 (2)\ttotal: 303ms\tremaining: 9.81s\n",
      "3:\tlearn: 14050709.9657489\ttest: 12728684.1247227\tbest: 12728684.1247227 (3)\ttotal: 349ms\tremaining: 8.37s\n",
      "4:\tlearn: 13484119.0254794\ttest: 12203408.8438489\tbest: 12203408.8438489 (4)\ttotal: 394ms\tremaining: 7.48s\n",
      "5:\tlearn: 12979834.7596232\ttest: 11757105.8852242\tbest: 11757105.8852242 (5)\ttotal: 445ms\tremaining: 6.97s\n",
      "6:\tlearn: 12528489.7829411\ttest: 11328304.8498635\tbest: 11328304.8498635 (6)\ttotal: 495ms\tremaining: 6.58s\n",
      "7:\tlearn: 12106847.6757370\ttest: 10963558.0066314\tbest: 10963558.0066314 (7)\ttotal: 541ms\tremaining: 6.22s\n",
      "8:\tlearn: 11767441.9897947\ttest: 10694748.3645200\tbest: 10694748.3645200 (8)\ttotal: 591ms\tremaining: 5.98s\n",
      "9:\tlearn: 11454405.6719360\ttest: 10435895.3740597\tbest: 10435895.3740597 (9)\ttotal: 634ms\tremaining: 5.71s\n",
      "10:\tlearn: 11224465.9373587\ttest: 10258727.6945675\tbest: 10258727.6945675 (10)\ttotal: 683ms\tremaining: 5.53s\n",
      "11:\tlearn: 11009505.3980556\ttest: 10113337.8099536\tbest: 10113337.8099536 (11)\ttotal: 727ms\tremaining: 5.33s\n",
      "12:\tlearn: 10807976.4516348\ttest: 9948615.4694059\tbest: 9948615.4694059 (12)\ttotal: 770ms\tremaining: 5.15s\n",
      "13:\tlearn: 10626259.5655149\ttest: 9802434.6154213\tbest: 9802434.6154213 (13)\ttotal: 812ms\tremaining: 4.99s\n",
      "14:\tlearn: 10201037.9916581\ttest: 9456441.9185414\tbest: 9456441.9185414 (14)\ttotal: 862ms\tremaining: 4.88s\n",
      "15:\tlearn: 9820094.8476287\ttest: 9177026.5437884\tbest: 9177026.5437884 (15)\ttotal: 911ms\tremaining: 4.78s\n",
      "16:\tlearn: 9505014.7218906\ttest: 8934153.3760991\tbest: 8934153.3760991 (16)\ttotal: 955ms\tremaining: 4.67s\n",
      "17:\tlearn: 9201321.8159177\ttest: 8725932.5223891\tbest: 8725932.5223891 (17)\ttotal: 998ms\tremaining: 4.55s\n",
      "18:\tlearn: 8943295.4056501\ttest: 8560802.3902965\tbest: 8560802.3902965 (18)\ttotal: 1.04s\tremaining: 4.44s\n",
      "19:\tlearn: 8739019.0517392\ttest: 8327715.4681672\tbest: 8327715.4681672 (19)\ttotal: 1.09s\tremaining: 4.37s\n",
      "20:\tlearn: 8532957.4265747\ttest: 8150886.5691406\tbest: 8150886.5691406 (20)\ttotal: 1.14s\tremaining: 4.29s\n",
      "21:\tlearn: 8298315.8204755\ttest: 8020830.6120557\tbest: 8020830.6120557 (21)\ttotal: 1.19s\tremaining: 4.21s\n",
      "22:\tlearn: 8100906.7913498\ttest: 7922531.3952462\tbest: 7922531.3952462 (22)\ttotal: 1.23s\tremaining: 4.12s\n",
      "23:\tlearn: 7910792.4930629\ttest: 7704442.8041454\tbest: 7704442.8041454 (23)\ttotal: 1.27s\tremaining: 4.03s\n",
      "24:\tlearn: 7730505.6452007\ttest: 7641180.2388544\tbest: 7641180.2388544 (24)\ttotal: 1.32s\tremaining: 3.95s\n",
      "25:\tlearn: 7578985.6301875\ttest: 7581374.0052691\tbest: 7581374.0052691 (25)\ttotal: 1.36s\tremaining: 3.87s\n",
      "26:\tlearn: 7445505.6745902\ttest: 7411098.5015585\tbest: 7411098.5015585 (26)\ttotal: 1.41s\tremaining: 3.81s\n",
      "27:\tlearn: 7322649.8068596\ttest: 7316596.3457917\tbest: 7316596.3457917 (27)\ttotal: 1.45s\tremaining: 3.73s\n",
      "28:\tlearn: 7222028.4329718\ttest: 7237474.3509500\tbest: 7237474.3509500 (28)\ttotal: 1.49s\tremaining: 3.66s\n",
      "29:\tlearn: 7158606.9855041\ttest: 7213487.3913604\tbest: 7213487.3913604 (29)\ttotal: 1.54s\tremaining: 3.58s\n",
      "30:\tlearn: 7114033.1291327\ttest: 7208836.0719412\tbest: 7208836.0719412 (30)\ttotal: 1.58s\tremaining: 3.52s\n",
      "31:\tlearn: 7021320.9066745\ttest: 7153365.5806833\tbest: 7153365.5806833 (31)\ttotal: 1.63s\tremaining: 3.46s\n",
      "32:\tlearn: 6941892.3392060\ttest: 7056715.7930407\tbest: 7056715.7930407 (32)\ttotal: 1.67s\tremaining: 3.4s\n",
      "33:\tlearn: 6855984.8956053\ttest: 7045777.0797094\tbest: 7045777.0797094 (33)\ttotal: 1.72s\tremaining: 3.33s\n",
      "34:\tlearn: 6817601.8445256\ttest: 7037398.1040034\tbest: 7037398.1040034 (34)\ttotal: 1.76s\tremaining: 3.26s\n",
      "35:\tlearn: 6749301.1049842\ttest: 7029998.4145047\tbest: 7029998.4145047 (35)\ttotal: 1.8s\tremaining: 3.21s\n",
      "36:\tlearn: 6725909.7407883\ttest: 7025741.9544615\tbest: 7025741.9544615 (36)\ttotal: 1.85s\tremaining: 3.15s\n",
      "37:\tlearn: 6700333.6204974\ttest: 7023909.4207954\tbest: 7023909.4207954 (37)\ttotal: 1.89s\tremaining: 3.08s\n",
      "38:\tlearn: 6678358.5036809\ttest: 7024102.8418026\tbest: 7023909.4207954 (37)\ttotal: 1.93s\tremaining: 3.02s\n",
      "39:\tlearn: 6618965.2703489\ttest: 6945382.6909445\tbest: 6945382.6909445 (39)\ttotal: 1.97s\tremaining: 2.96s\n",
      "40:\tlearn: 6565050.1103439\ttest: 6883640.9539795\tbest: 6883640.9539795 (40)\ttotal: 2.01s\tremaining: 2.9s\n",
      "41:\tlearn: 6548573.8840769\ttest: 6885253.7466464\tbest: 6883640.9539795 (40)\ttotal: 2.06s\tremaining: 2.84s\n",
      "42:\tlearn: 6534424.4705833\ttest: 6880197.5879136\tbest: 6880197.5879136 (42)\ttotal: 2.1s\tremaining: 2.78s\n",
      "43:\tlearn: 6524815.7036443\ttest: 6884069.4023893\tbest: 6880197.5879136 (42)\ttotal: 2.14s\tremaining: 2.72s\n",
      "44:\tlearn: 6495172.0635864\ttest: 6847723.4991411\tbest: 6847723.4991411 (44)\ttotal: 2.18s\tremaining: 2.67s\n",
      "45:\tlearn: 6478945.0077718\ttest: 6855199.6360467\tbest: 6847723.4991411 (44)\ttotal: 2.24s\tremaining: 2.63s\n",
      "46:\tlearn: 6478945.0074389\ttest: 6855199.7933314\tbest: 6847723.4991411 (44)\ttotal: 2.26s\tremaining: 2.55s\n",
      "47:\tlearn: 6463367.5048919\ttest: 6857514.5349181\tbest: 6847723.4991411 (44)\ttotal: 2.3s\tremaining: 2.49s\n",
      "48:\tlearn: 6458114.7858281\ttest: 6862130.0895300\tbest: 6847723.4991411 (44)\ttotal: 2.34s\tremaining: 2.44s\n",
      "49:\tlearn: 6431307.7185410\ttest: 6837831.0033158\tbest: 6837831.0033158 (49)\ttotal: 2.38s\tremaining: 2.38s\n",
      "50:\tlearn: 6417107.2706708\ttest: 6842036.3213192\tbest: 6837831.0033158 (49)\ttotal: 2.42s\tremaining: 2.33s\n",
      "51:\tlearn: 6417098.7882145\ttest: 6842036.5831011\tbest: 6837831.0033158 (49)\ttotal: 2.46s\tremaining: 2.27s\n",
      "52:\tlearn: 6402595.8239017\ttest: 6842649.4212843\tbest: 6837831.0033158 (49)\ttotal: 2.51s\tremaining: 2.22s\n",
      "53:\tlearn: 6390807.7789569\ttest: 6850561.6785275\tbest: 6837831.0033158 (49)\ttotal: 2.55s\tremaining: 2.17s\n",
      "54:\tlearn: 6379768.9129541\ttest: 6855754.6584119\tbest: 6837831.0033158 (49)\ttotal: 2.59s\tremaining: 2.12s\n",
      "55:\tlearn: 6340350.5680254\ttest: 6847466.2653400\tbest: 6837831.0033158 (49)\ttotal: 2.63s\tremaining: 2.07s\n",
      "56:\tlearn: 6300799.7924016\ttest: 6815902.6361100\tbest: 6815902.6361100 (56)\ttotal: 2.68s\tremaining: 2.02s\n",
      "57:\tlearn: 6286779.6025723\ttest: 6768697.7146013\tbest: 6768697.7146013 (57)\ttotal: 2.72s\tremaining: 1.97s\n",
      "58:\tlearn: 6286779.4848379\ttest: 6768698.6142244\tbest: 6768697.7146013 (57)\ttotal: 2.75s\tremaining: 1.91s\n",
      "59:\tlearn: 6285453.2768436\ttest: 6769523.9251235\tbest: 6768697.7146013 (57)\ttotal: 2.8s\tremaining: 1.86s\n",
      "60:\tlearn: 6274212.7153137\ttest: 6770604.1221945\tbest: 6768697.7146013 (57)\ttotal: 2.84s\tremaining: 1.81s\n",
      "61:\tlearn: 6251252.6050434\ttest: 6785199.5723731\tbest: 6768697.7146013 (57)\ttotal: 2.88s\tremaining: 1.76s\n",
      "62:\tlearn: 6207372.2151118\ttest: 6777791.1466356\tbest: 6768697.7146013 (57)\ttotal: 2.92s\tremaining: 1.72s\n",
      "63:\tlearn: 6161151.0712270\ttest: 6758386.5650266\tbest: 6758386.5650266 (63)\ttotal: 2.97s\tremaining: 1.67s\n",
      "64:\tlearn: 6116219.9017570\ttest: 6739360.6736171\tbest: 6739360.6736171 (64)\ttotal: 3.03s\tremaining: 1.63s\n",
      "65:\tlearn: 6111982.1557191\ttest: 6734528.0513880\tbest: 6734528.0513880 (65)\ttotal: 3.1s\tremaining: 1.6s\n",
      "66:\tlearn: 6075896.2345795\ttest: 6700415.9301619\tbest: 6700415.9301619 (66)\ttotal: 3.17s\tremaining: 1.56s\n",
      "67:\tlearn: 6044834.4374746\ttest: 6698811.4283226\tbest: 6698811.4283226 (67)\ttotal: 3.24s\tremaining: 1.53s\n",
      "68:\tlearn: 6002218.4572645\ttest: 6670275.9969409\tbest: 6670275.9969409 (68)\ttotal: 3.31s\tremaining: 1.49s\n",
      "69:\tlearn: 5967967.0678649\ttest: 6641082.0978789\tbest: 6641082.0978789 (69)\ttotal: 3.38s\tremaining: 1.45s\n",
      "70:\tlearn: 5948932.5095592\ttest: 6627104.0727596\tbest: 6627104.0727596 (70)\ttotal: 3.45s\tremaining: 1.41s\n",
      "71:\tlearn: 5936880.3555128\ttest: 6641888.8437468\tbest: 6627104.0727596 (70)\ttotal: 3.52s\tremaining: 1.37s\n",
      "72:\tlearn: 5936710.5227879\ttest: 6641954.8673650\tbest: 6627104.0727596 (70)\ttotal: 3.59s\tremaining: 1.33s\n",
      "73:\tlearn: 5911395.8287522\ttest: 6637051.5857469\tbest: 6627104.0727596 (70)\ttotal: 3.66s\tremaining: 1.28s\n",
      "74:\tlearn: 5911357.6797316\ttest: 6637051.4635245\tbest: 6627104.0727596 (70)\ttotal: 3.73s\tremaining: 1.24s\n",
      "75:\tlearn: 5896164.8301577\ttest: 6626036.5779795\tbest: 6626036.5779795 (75)\ttotal: 3.8s\tremaining: 1.2s\n",
      "76:\tlearn: 5892778.4219283\ttest: 6619290.0810788\tbest: 6619290.0810788 (76)\ttotal: 3.88s\tremaining: 1.16s\n",
      "77:\tlearn: 5880047.4031545\ttest: 6610784.4145449\tbest: 6610784.4145449 (77)\ttotal: 3.95s\tremaining: 1.11s\n",
      "78:\tlearn: 5876705.2959821\ttest: 6605559.3223465\tbest: 6605559.3223465 (78)\ttotal: 4.01s\tremaining: 1.07s\n"
     ]
    },
    {
     "name": "stdout",
     "output_type": "stream",
     "text": [
      "79:\tlearn: 5870617.9905007\ttest: 6607618.1224151\tbest: 6605559.3223465 (78)\ttotal: 4.08s\tremaining: 1.02s\n",
      "80:\tlearn: 5867783.0425572\ttest: 6604072.0793349\tbest: 6604072.0793349 (80)\ttotal: 4.16s\tremaining: 976ms\n",
      "81:\tlearn: 5867619.3722597\ttest: 6603929.5792525\tbest: 6603929.5792525 (81)\ttotal: 4.23s\tremaining: 928ms\n",
      "82:\tlearn: 5865576.6227239\ttest: 6600631.3391083\tbest: 6600631.3391083 (82)\ttotal: 4.3s\tremaining: 880ms\n",
      "83:\tlearn: 5859859.9940845\ttest: 6611007.6383610\tbest: 6600631.3391083 (82)\ttotal: 4.37s\tremaining: 832ms\n",
      "84:\tlearn: 5842339.9322093\ttest: 6606522.1052712\tbest: 6600631.3391083 (82)\ttotal: 4.44s\tremaining: 783ms\n",
      "85:\tlearn: 5841745.8757150\ttest: 6607329.9993834\tbest: 6600631.3391083 (82)\ttotal: 4.51s\tremaining: 734ms\n",
      "86:\tlearn: 5828934.1740857\ttest: 6609815.7718930\tbest: 6600631.3391083 (82)\ttotal: 4.58s\tremaining: 684ms\n",
      "87:\tlearn: 5828862.6228151\ttest: 6609817.4222120\tbest: 6600631.3391083 (82)\ttotal: 4.64s\tremaining: 634ms\n",
      "88:\tlearn: 5819393.7761981\ttest: 6605356.5390263\tbest: 6600631.3391083 (82)\ttotal: 4.71s\tremaining: 582ms\n",
      "89:\tlearn: 5794155.8842160\ttest: 6602888.0920054\tbest: 6600631.3391083 (82)\ttotal: 4.78s\tremaining: 531ms\n",
      "90:\tlearn: 5794132.2478553\ttest: 6602889.1854383\tbest: 6600631.3391083 (82)\ttotal: 4.85s\tremaining: 480ms\n",
      "91:\tlearn: 5787954.5873765\ttest: 6593727.4002273\tbest: 6593727.4002273 (91)\ttotal: 4.92s\tremaining: 428ms\n",
      "92:\tlearn: 5784587.5553702\ttest: 6588899.9596145\tbest: 6588899.9596145 (92)\ttotal: 4.99s\tremaining: 376ms\n",
      "93:\tlearn: 5716995.0827443\ttest: 6556619.8262561\tbest: 6556619.8262561 (93)\ttotal: 5.07s\tremaining: 323ms\n",
      "94:\tlearn: 5715585.6801576\ttest: 6554149.0378101\tbest: 6554149.0378101 (94)\ttotal: 5.13s\tremaining: 270ms\n",
      "95:\tlearn: 5693750.4186570\ttest: 6521608.0980617\tbest: 6521608.0980617 (95)\ttotal: 5.21s\tremaining: 217ms\n",
      "96:\tlearn: 5693651.6962269\ttest: 6522045.8775005\tbest: 6521608.0980617 (95)\ttotal: 5.28s\tremaining: 163ms\n",
      "97:\tlearn: 5686950.1535640\ttest: 6521220.4836170\tbest: 6521220.4836170 (97)\ttotal: 5.35s\tremaining: 109ms\n",
      "98:\tlearn: 5685761.0382560\ttest: 6524572.4168140\tbest: 6521220.4836170 (97)\ttotal: 5.41s\tremaining: 54.7ms\n",
      "99:\tlearn: 5685484.9629677\ttest: 6524569.7704729\tbest: 6521220.4836170 (97)\ttotal: 5.48s\tremaining: 0us\n",
      "\n",
      "bestTest = 6521220.484\n",
      "bestIteration = 97\n",
      "\n",
      "Shrink model to first 98 iterations.\n"
     ]
    },
    {
     "data": {
      "text/plain": [
       "<catboost.core.CatBoostRegressor at 0x240c9c97310>"
      ]
     },
     "execution_count": 9,
     "metadata": {},
     "output_type": "execute_result"
    }
   ],
   "source": [
    "model.fit(pool_train, eval_set=(X_val,  y_val ))"
   ]
  },
  {
   "cell_type": "code",
   "execution_count": 10,
   "id": "9acf202f",
   "metadata": {},
   "outputs": [],
   "source": [
    "y_pred = model.predict(pool_test)"
   ]
  },
  {
   "cell_type": "code",
   "execution_count": 11,
   "id": "eaa32de8",
   "metadata": {},
   "outputs": [
    {
     "name": "stdout",
     "output_type": "stream",
     "text": [
      "R_Square score :  0.8345487142947858\n"
     ]
    }
   ],
   "source": [
    "# Evaluating the model\n",
    "#y_pred = model.predict(X_val)\n",
    "r_squared = r2_score(y_val, y_pred)\n",
    "print(\"R_Square score : \", r_squared)"
   ]
  },
  {
   "cell_type": "code",
   "execution_count": 12,
   "id": "488e1db9",
   "metadata": {},
   "outputs": [
    {
     "name": "stdout",
     "output_type": "stream",
     "text": [
      "Adj. R_Squared : 0.8345373357212947\n"
     ]
    }
   ],
   "source": [
    "# Calculating and printing Adjusted R-Squared score\n",
    "n = len(y_val)\n",
    "p = X_val.shape[1]\n",
    "adj_r_squared = 1 - (1 - r_squared) * (n - 1) / (n - p - 1)\n",
    "print(\"Adj. R_Squared : {}\".format(adj_r_squared))"
   ]
  },
  {
   "cell_type": "code",
   "execution_count": 13,
   "id": "55ae5b72",
   "metadata": {},
   "outputs": [
    {
     "data": {
      "text/plain": [
       "Text(0.5, 1.0, 'CatBoost Regression')"
      ]
     },
     "execution_count": 13,
     "metadata": {},
     "output_type": "execute_result"
    },
    {
     "data": {
      "image/png": "[encoded data removed]",
      "text/plain": [
       "<Figure size 720x360 with 1 Axes>"
      ]
     },
     "metadata": {
      "needs_background": "light"
     },
     "output_type": "display_data"
    }
   ],
   "source": [
    "# Visualizing model performance\n",
    "fig, ax = plt.subplots(figsize=(10, 5))\n",
    "sns.distplot(y_val, hist=False, color=\"r\", label=\"Actual value \", ax=ax)\n",
    "sns.distplot(y_pred, hist=False, color=\"b\", label=\"Predicted Values\", ax=ax)\n",
    "plt.title('CatBoost Regression')"
   ]
  },
  {
   "cell_type": "code",
   "execution_count": 14,
   "id": "6d7d6bd5",
   "metadata": {},
   "outputs": [
    {
     "data": {
      "text/plain": [
       "Text(0.5, 1.0, 'Feature Importance')"
      ]
     },
     "execution_count": 14,
     "metadata": {},
     "output_type": "execute_result"
    },
    {
     "data": {
      "image/png": "[encoded data removed]",
      "text/plain": [
       "<Figure size 864x432 with 1 Axes>"
      ]
     },
     "metadata": {
      "needs_background": "light"
     },
     "output_type": "display_data"
    }
   ],
   "source": [
    "# Visualizing feature importance\n",
    "feature_importance = model.feature_importances_\n",
    "sorted_idx = np.argsort(feature_importance)\n",
    "fig, ax = plt.subplots(figsize=(12, 6))\n",
    "plt.barh(range(len(sorted_idx)), feature_importance[sorted_idx], align='center')\n",
    "plt.yticks(range(len(sorted_idx)), np.array(X_val.columns)[sorted_idx])\n",
    "plt.title('Feature Importance')"
   ]
  },
  {
   "cell_type": "code",
   "execution_count": 15,
   "id": "f026e04c",
   "metadata": {},
   "outputs": [
    {
     "data": {
      "text/plain": [
       "['catboost_model.pkl']"
      ]
     },
     "execution_count": 15,
     "metadata": {},
     "output_type": "execute_result"
    }
   ],
   "source": [
    "# Saving the model to file\n",
    "joblib.dump(model, 'catboost_model.pkl')"
   ]
  },
  {
   "cell_type": "code",
   "execution_count": 17,
   "id": "3224632d",
   "metadata": {},
   "outputs": [
    {
     "name": "stdout",
     "output_type": "stream",
     "text": [
      "[{'Prediction': 669637.1241911268}]\n"
     ]
    }
   ],
   "source": [
    "import requests\n",
    "\n",
    "input_data = [{\"District_Name\": 'YADGIR', \n",
    "               \"Crop_Year\": 2011,        \n",
    "               \"Season\": 'Rabi',        \n",
    "               \"Crop\": 'Groundnut',       \n",
    "               \"Area\": 23194.0 }]\n",
    "\n",
    "response = requests.post(\"http://localhost:8000/predict\", json=input_data)\n",
    "\n",
    "if response.status_code in range(200, 300):\n",
    "    data = response.json()\n",
    "    print(data)\n",
    "else:\n",
    "    print(\"Error: status code\", response.status_code)\n"
   ]
  },
  {
   "cell_type": "code",
   "execution_count": null,
   "id": "6a3a5bd0",
   "metadata": {},
   "outputs": [],
   "source": []
  }
 ],
 "metadata": {
  "kernelspec": {
   "display_name": "Python 3 (ipykernel)",
   "language": "python",
   "name": "python3"
  },
  "language_info": {
   "codemirror_mode": {
    "name": "ipython",
    "version": 3
   },
   "file_extension": ".py",
   "mimetype": "text/x-python",
   "name": "python",
   "nbconvert_exporter": "python",
   "pygments_lexer": "ipython3",
   "version": "3.9.7"
  }
 },
 "nbformat": 4,
 "nbformat_minor": 5
}
