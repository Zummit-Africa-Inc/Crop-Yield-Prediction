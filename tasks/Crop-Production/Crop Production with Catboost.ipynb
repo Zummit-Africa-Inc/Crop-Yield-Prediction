{
 "cells": [
  {
   "cell_type": "code",
   "execution_count": 1,
   "id": "cd0cfedd",
   "metadata": {},
   "outputs": [],
   "source": [
    "#!pip install catboost"
   ]
  },
  {
   "cell_type": "code",
   "execution_count": 2,
   "id": "4c1dd428",
   "metadata": {},
   "outputs": [],
   "source": [
    "import pandas as pd\n",
    "import numpy as np\n",
    "import matplotlib.pyplot as plt\n",
    "import seaborn as sns\n",
    "from catboost import CatBoostRegressor"
   ]
  },
  {
   "cell_type": "code",
   "execution_count": 3,
   "id": "b0d281a4",
   "metadata": {},
   "outputs": [
    {
     "data": {
      "text/html": [
       "<div>\n",
       "<style scoped>\n",
       "    .dataframe tbody tr th:only-of-type {\n",
       "        vertical-align: middle;\n",
       "    }\n",
       "\n",
       "    .dataframe tbody tr th {\n",
       "        vertical-align: top;\n",
       "    }\n",
       "\n",
       "    .dataframe thead th {\n",
       "        text-align: right;\n",
       "    }\n",
       "</style>\n",
       "<table border=\"1\" class=\"dataframe\">\n",
       "  <thead>\n",
       "    <tr style=\"text-align: right;\">\n",
       "      <th></th>\n",
       "      <th>State_Name</th>\n",
       "      <th>District_Name</th>\n",
       "      <th>Crop_Year</th>\n",
       "      <th>Season</th>\n",
       "      <th>Crop</th>\n",
       "      <th>Area</th>\n",
       "      <th>Production</th>\n",
       "    </tr>\n",
       "  </thead>\n",
       "  <tbody>\n",
       "    <tr>\n",
       "      <th>0</th>\n",
       "      <td>Andaman and Nicobar Islands</td>\n",
       "      <td>NICOBARS</td>\n",
       "      <td>2000</td>\n",
       "      <td>Kharif</td>\n",
       "      <td>Arecanut</td>\n",
       "      <td>1254.0</td>\n",
       "      <td>2000.0</td>\n",
       "    </tr>\n",
       "    <tr>\n",
       "      <th>1</th>\n",
       "      <td>Andaman and Nicobar Islands</td>\n",
       "      <td>NICOBARS</td>\n",
       "      <td>2000</td>\n",
       "      <td>Kharif</td>\n",
       "      <td>Other Kharif pulses</td>\n",
       "      <td>2.0</td>\n",
       "      <td>1.0</td>\n",
       "    </tr>\n",
       "    <tr>\n",
       "      <th>2</th>\n",
       "      <td>Andaman and Nicobar Islands</td>\n",
       "      <td>NICOBARS</td>\n",
       "      <td>2000</td>\n",
       "      <td>Kharif</td>\n",
       "      <td>Rice</td>\n",
       "      <td>102.0</td>\n",
       "      <td>321.0</td>\n",
       "    </tr>\n",
       "    <tr>\n",
       "      <th>3</th>\n",
       "      <td>Andaman and Nicobar Islands</td>\n",
       "      <td>NICOBARS</td>\n",
       "      <td>2000</td>\n",
       "      <td>Whole Year</td>\n",
       "      <td>Banana</td>\n",
       "      <td>176.0</td>\n",
       "      <td>641.0</td>\n",
       "    </tr>\n",
       "    <tr>\n",
       "      <th>4</th>\n",
       "      <td>Andaman and Nicobar Islands</td>\n",
       "      <td>NICOBARS</td>\n",
       "      <td>2000</td>\n",
       "      <td>Whole Year</td>\n",
       "      <td>Cashewnut</td>\n",
       "      <td>720.0</td>\n",
       "      <td>165.0</td>\n",
       "    </tr>\n",
       "  </tbody>\n",
       "</table>\n",
       "</div>"
      ],
      "text/plain": [
       "                    State_Name District_Name  Crop_Year       Season  \\\n",
       "0  Andaman and Nicobar Islands      NICOBARS       2000  Kharif        \n",
       "1  Andaman and Nicobar Islands      NICOBARS       2000  Kharif        \n",
       "2  Andaman and Nicobar Islands      NICOBARS       2000  Kharif        \n",
       "3  Andaman and Nicobar Islands      NICOBARS       2000  Whole Year    \n",
       "4  Andaman and Nicobar Islands      NICOBARS       2000  Whole Year    \n",
       "\n",
       "                  Crop    Area  Production  \n",
       "0             Arecanut  1254.0      2000.0  \n",
       "1  Other Kharif pulses     2.0         1.0  \n",
       "2                 Rice   102.0       321.0  \n",
       "3               Banana   176.0       641.0  \n",
       "4            Cashewnut   720.0       165.0  "
      ]
     },
     "execution_count": 3,
     "metadata": {},
     "output_type": "execute_result"
    }
   ],
   "source": [
    "# loading the dataset\n",
    "crop_data=pd.read_csv(\"C:/Users/USER/Desktop/Projects/Crop-Yield-Prediction/Data/data2/crop_production.csv\")\n",
    "crop_data.head()"
   ]
  },
  {
   "cell_type": "code",
   "execution_count": 4,
   "id": "99530b26",
   "metadata": {},
   "outputs": [
    {
     "data": {
      "text/plain": [
       "State_Name        object\n",
       "District_Name     object\n",
       "Crop_Year          int64\n",
       "Season            object\n",
       "Crop              object\n",
       "Area             float64\n",
       "Production       float64\n",
       "dtype: object"
      ]
     },
     "execution_count": 4,
     "metadata": {},
     "output_type": "execute_result"
    }
   ],
   "source": [
    "#Identify the datatype of variables\n",
    "crop_data.dtypes"
   ]
  },
  {
   "cell_type": "code",
   "execution_count": 5,
   "id": "aea080f8",
   "metadata": {},
   "outputs": [
    {
     "data": {
      "text/plain": [
       "State_Name          0\n",
       "District_Name       0\n",
       "Crop_Year           0\n",
       "Season              0\n",
       "Crop                0\n",
       "Area                0\n",
       "Production       3730\n",
       "dtype: int64"
      ]
     },
     "execution_count": 5,
     "metadata": {},
     "output_type": "execute_result"
    }
   ],
   "source": [
    "#Finding the missing values\n",
    "crop_data.isnull().sum()"
   ]
  },
  {
   "cell_type": "code",
   "execution_count": 6,
   "id": "b52f8c1e",
   "metadata": {},
   "outputs": [],
   "source": [
    "# Dropping missing values \n",
    "crop_data = crop_data.dropna()"
   ]
  },
  {
   "cell_type": "code",
   "execution_count": 7,
   "id": "218dd563",
   "metadata": {},
   "outputs": [
    {
     "data": {
      "text/plain": [
       "False"
      ]
     },
     "execution_count": 7,
     "metadata": {},
     "output_type": "execute_result"
    }
   ],
   "source": [
    "#checking if there still missing values\n",
    "crop_data.isnull().values.any()"
   ]
  },
  {
   "cell_type": "raw",
   "id": "f806b597",
   "metadata": {},
   "source": [
    "#Creating Yield Column\n",
    "import warnings \n",
    "warnings.filterwarnings('ignore')\n",
    "crop_data['Yield'] = (crop_data['Production'] / crop_data['Area'])\n",
    "crop_data.head(10) "
   ]
  },
  {
   "cell_type": "code",
   "execution_count": 8,
   "id": "5a77b1e1",
   "metadata": {},
   "outputs": [],
   "source": [
    "#Creating a training set for modeling and validation set to check model performance\n",
    "X = crop_data.drop(['Production'], axis=1)\n",
    "y = crop_data.Production"
   ]
  },
  {
   "cell_type": "code",
   "execution_count": 9,
   "id": "cdd59a12",
   "metadata": {},
   "outputs": [],
   "source": [
    "from sklearn.model_selection import train_test_split\n",
    "X_train, X_validation, y_train, y_validation = train_test_split(X, y, train_size=0.7, random_state=1234)"
   ]
  },
  {
   "cell_type": "code",
   "execution_count": 10,
   "id": "a9c1de55",
   "metadata": {},
   "outputs": [
    {
     "data": {
      "text/plain": [
       "State_Name        object\n",
       "District_Name     object\n",
       "Crop_Year          int64\n",
       "Season            object\n",
       "Crop              object\n",
       "Area             float64\n",
       "dtype: object"
      ]
     },
     "execution_count": 10,
     "metadata": {},
     "output_type": "execute_result"
    }
   ],
   "source": [
    "#Look at the data type of variables\n",
    "X.dtypes"
   ]
  },
  {
   "cell_type": "markdown",
   "id": "bedc6be9",
   "metadata": {},
   "source": [
    "Now, you’ll see that we will only identify categorical variables. We will not perform any preprocessing steps for categorical variables:"
   ]
  },
  {
   "cell_type": "code",
   "execution_count": 11,
   "id": "d98f7da3",
   "metadata": {},
   "outputs": [],
   "source": [
    "import warnings \n",
    "warnings.filterwarnings('ignore')\n",
    "categorical_features_indices = np.where(X.dtypes != np.float)[0]"
   ]
  },
  {
   "cell_type": "code",
   "execution_count": 12,
   "id": "caa82afb",
   "metadata": {},
   "outputs": [
    {
     "data": {
      "application/vnd.jupyter.widget-view+json": {
       "model_id": "77ed9827171b4d89b96a6f24b8cc4114",
       "version_major": 2,
       "version_minor": 0
      },
      "text/plain": [
       "MetricVisualizer(layout=Layout(align_self='stretch', height='500px'))"
      ]
     },
     "metadata": {},
     "output_type": "display_data"
    },
    {
     "name": "stdout",
     "output_type": "stream",
     "text": [
      "0:\tlearn: 16927540.8752611\ttest: 15342220.8798972\tbest: 15342220.8798972 (0)\ttotal: 205ms\tremaining: 1m 42s\n",
      "1:\tlearn: 16400180.9487736\ttest: 14716038.1340423\tbest: 14716038.1340423 (1)\ttotal: 263ms\tremaining: 1m 5s\n",
      "2:\tlearn: 15941713.5753875\ttest: 14151016.6761487\tbest: 14151016.6761487 (2)\ttotal: 292ms\tremaining: 48.4s\n",
      "3:\tlearn: 15470032.5251895\ttest: 13563346.0591397\tbest: 13563346.0591397 (3)\ttotal: 335ms\tremaining: 41.5s\n",
      "4:\tlearn: 15032472.3497914\ttest: 13078995.1133023\tbest: 13078995.1133023 (4)\ttotal: 375ms\tremaining: 37.1s\n",
      "5:\tlearn: 14617996.8068006\ttest: 12560815.9165178\tbest: 12560815.9165178 (5)\ttotal: 419ms\tremaining: 34.5s\n",
      "6:\tlearn: 14189147.7965635\ttest: 12123775.2010394\tbest: 12123775.2010394 (6)\ttotal: 450ms\tremaining: 31.7s\n",
      "7:\tlearn: 13834314.4320504\ttest: 11701409.9318964\tbest: 11701409.9318964 (7)\ttotal: 487ms\tremaining: 30s\n",
      "8:\tlearn: 13463293.6160860\ttest: 11323461.0212737\tbest: 11323461.0212737 (8)\ttotal: 535ms\tremaining: 29.2s\n",
      "9:\tlearn: 13137025.7480594\ttest: 10909650.1654876\tbest: 10909650.1654876 (9)\ttotal: 566ms\tremaining: 27.7s\n",
      "10:\tlearn: 12836358.7856860\ttest: 10570778.8059835\tbest: 10570778.8059835 (10)\ttotal: 610ms\tremaining: 27.1s\n",
      "11:\tlearn: 12533032.4339887\ttest: 10267174.1724604\tbest: 10267174.1724604 (11)\ttotal: 663ms\tremaining: 27s\n",
      "12:\tlearn: 12216733.7878077\ttest: 9984578.2804650\tbest: 9984578.2804650 (12)\ttotal: 692ms\tremaining: 25.9s\n",
      "13:\tlearn: 11958082.8185701\ttest: 9715527.9424866\tbest: 9715527.9424866 (13)\ttotal: 755ms\tremaining: 26.2s\n",
      "14:\tlearn: 11744101.2229932\ttest: 9462911.1373490\tbest: 9462911.1373490 (14)\ttotal: 799ms\tremaining: 25.8s\n",
      "15:\tlearn: 11540346.9590007\ttest: 9224799.4095678\tbest: 9224799.4095678 (15)\ttotal: 841ms\tremaining: 25.4s\n",
      "16:\tlearn: 11330187.6529367\ttest: 9017728.8224266\tbest: 9017728.8224266 (16)\ttotal: 880ms\tremaining: 25s\n",
      "17:\tlearn: 11128024.6652072\ttest: 8751655.0455592\tbest: 8751655.0455592 (17)\ttotal: 932ms\tremaining: 24.9s\n",
      "18:\tlearn: 10957706.6928805\ttest: 8575688.1416114\tbest: 8575688.1416114 (18)\ttotal: 978ms\tremaining: 24.8s\n",
      "19:\tlearn: 10785529.0793674\ttest: 8405087.8524804\tbest: 8405087.8524804 (19)\ttotal: 1.01s\tremaining: 24.4s\n",
      "20:\tlearn: 10646127.0577677\ttest: 8269495.8723728\tbest: 8269495.8723728 (20)\ttotal: 1.05s\tremaining: 24s\n",
      "21:\tlearn: 10491360.1662619\ttest: 8093113.1472066\tbest: 8093113.1472066 (21)\ttotal: 1.09s\tremaining: 23.7s\n",
      "22:\tlearn: 10354980.0006285\ttest: 7989127.7834292\tbest: 7989127.7834292 (22)\ttotal: 1.12s\tremaining: 23.3s\n",
      "23:\tlearn: 10238402.4096567\ttest: 7861501.5411760\tbest: 7861501.5411760 (23)\ttotal: 1.16s\tremaining: 23s\n",
      "24:\tlearn: 10109144.2701629\ttest: 7716291.5880245\tbest: 7716291.5880245 (24)\ttotal: 1.19s\tremaining: 22.6s\n",
      "25:\tlearn: 10001177.2006957\ttest: 7606000.8053276\tbest: 7606000.8053276 (25)\ttotal: 1.24s\tremaining: 22.5s\n",
      "26:\tlearn: 9887551.2976238\ttest: 7480148.7859998\tbest: 7480148.7859998 (26)\ttotal: 1.26s\tremaining: 22.2s\n",
      "27:\tlearn: 9812555.1413776\ttest: 7415860.8817458\tbest: 7415860.8817458 (27)\ttotal: 1.31s\tremaining: 22.2s\n",
      "28:\tlearn: 9739552.8725905\ttest: 7308259.4871521\tbest: 7308259.4871521 (28)\ttotal: 1.35s\tremaining: 22s\n",
      "29:\tlearn: 9635008.8089541\ttest: 7237097.5043080\tbest: 7237097.5043080 (29)\ttotal: 1.41s\tremaining: 22s\n",
      "30:\tlearn: 9569150.2058181\ttest: 7164377.4017336\tbest: 7164377.4017336 (30)\ttotal: 1.45s\tremaining: 21.9s\n",
      "31:\tlearn: 9501291.1393480\ttest: 7104431.1462591\tbest: 7104431.1462591 (31)\ttotal: 1.48s\tremaining: 21.6s\n",
      "32:\tlearn: 9401733.9841117\ttest: 7043777.7412494\tbest: 7043777.7412494 (32)\ttotal: 1.53s\tremaining: 21.6s\n",
      "33:\tlearn: 9349177.4674927\ttest: 7005567.8452832\tbest: 7005567.8452832 (33)\ttotal: 1.57s\tremaining: 21.6s\n",
      "34:\tlearn: 9297218.5381500\ttest: 6927283.4744344\tbest: 6927283.4744344 (34)\ttotal: 1.62s\tremaining: 21.5s\n",
      "35:\tlearn: 9252472.1793200\ttest: 6847701.0744296\tbest: 6847701.0744296 (35)\ttotal: 1.66s\tremaining: 21.4s\n",
      "36:\tlearn: 9212788.3931106\ttest: 6823330.8648139\tbest: 6823330.8648139 (36)\ttotal: 1.7s\tremaining: 21.2s\n",
      "37:\tlearn: 9135993.2059057\ttest: 6751544.7704973\tbest: 6751544.7704973 (37)\ttotal: 1.74s\tremaining: 21.2s\n",
      "38:\tlearn: 9072925.9653994\ttest: 6713063.6797026\tbest: 6713063.6797026 (38)\ttotal: 1.8s\tremaining: 21.3s\n",
      "39:\tlearn: 9040649.4471972\ttest: 6690781.9878072\tbest: 6690781.9878072 (39)\ttotal: 1.84s\tremaining: 21.2s\n",
      "40:\tlearn: 8917531.1486057\ttest: 6677073.5923525\tbest: 6677073.5923525 (40)\ttotal: 1.88s\tremaining: 21.1s\n",
      "41:\tlearn: 8846645.8071841\ttest: 6606264.9044089\tbest: 6606264.9044089 (41)\ttotal: 1.92s\tremaining: 20.9s\n",
      "42:\tlearn: 8746125.0909539\ttest: 6589286.6969878\tbest: 6589286.6969878 (42)\ttotal: 1.95s\tremaining: 20.7s\n",
      "43:\tlearn: 8706808.2470169\ttest: 6583234.9138624\tbest: 6583234.9138624 (43)\ttotal: 1.98s\tremaining: 20.6s\n",
      "44:\tlearn: 8647978.7746584\ttest: 6524807.4008537\tbest: 6524807.4008537 (44)\ttotal: 2.01s\tremaining: 20.4s\n",
      "45:\tlearn: 8608274.6063153\ttest: 6505557.9888631\tbest: 6505557.9888631 (45)\ttotal: 2.05s\tremaining: 20.2s\n",
      "46:\tlearn: 8551598.6882852\ttest: 6465117.2804617\tbest: 6465117.2804617 (46)\ttotal: 2.1s\tremaining: 20.2s\n",
      "47:\tlearn: 8535169.2571630\ttest: 6454614.2728792\tbest: 6454614.2728792 (47)\ttotal: 2.13s\tremaining: 20.1s\n",
      "48:\tlearn: 8450197.5479215\ttest: 6452811.3129514\tbest: 6452811.3129514 (48)\ttotal: 2.16s\tremaining: 19.9s\n",
      "49:\tlearn: 8393411.4449450\ttest: 6452066.0802455\tbest: 6452066.0802455 (49)\ttotal: 2.19s\tremaining: 19.7s\n",
      "50:\tlearn: 8340189.7691788\ttest: 6453214.0340741\tbest: 6452066.0802455 (49)\ttotal: 2.22s\tremaining: 19.6s\n",
      "51:\tlearn: 8299884.1368606\ttest: 6441801.6417264\tbest: 6441801.6417264 (51)\ttotal: 2.27s\tremaining: 19.6s\n",
      "52:\tlearn: 8250701.6312211\ttest: 6418204.2572098\tbest: 6418204.2572098 (52)\ttotal: 2.31s\tremaining: 19.5s\n",
      "53:\tlearn: 8223954.4134678\ttest: 6413011.5530892\tbest: 6413011.5530892 (53)\ttotal: 2.35s\tremaining: 19.4s\n",
      "54:\tlearn: 8173723.5414955\ttest: 6377637.5071269\tbest: 6377637.5071269 (54)\ttotal: 2.38s\tremaining: 19.3s\n",
      "55:\tlearn: 8146663.8347993\ttest: 6338367.4931347\tbest: 6338367.4931347 (55)\ttotal: 2.43s\tremaining: 19.2s\n",
      "56:\tlearn: 8107987.8163519\ttest: 6345747.0477605\tbest: 6338367.4931347 (55)\ttotal: 2.46s\tremaining: 19.1s\n",
      "57:\tlearn: 8072547.7934394\ttest: 6323258.6325652\tbest: 6323258.6325652 (57)\ttotal: 2.51s\tremaining: 19.1s\n",
      "58:\tlearn: 8055427.6470242\ttest: 6290432.1014993\tbest: 6290432.1014993 (58)\ttotal: 2.54s\tremaining: 19s\n",
      "59:\tlearn: 8036390.1121454\ttest: 6289529.4414801\tbest: 6289529.4414801 (59)\ttotal: 2.59s\tremaining: 19s\n",
      "60:\tlearn: 8006789.5517170\ttest: 6299672.8076403\tbest: 6289529.4414801 (59)\ttotal: 2.62s\tremaining: 18.8s\n",
      "61:\tlearn: 7976197.3895063\ttest: 6276712.2232047\tbest: 6276712.2232047 (61)\ttotal: 2.66s\tremaining: 18.8s\n",
      "62:\tlearn: 7955308.8765380\ttest: 6278672.2231944\tbest: 6276712.2232047 (61)\ttotal: 2.69s\tremaining: 18.7s\n",
      "63:\tlearn: 7938471.5392130\ttest: 6273631.2994421\tbest: 6273631.2994421 (63)\ttotal: 2.73s\tremaining: 18.6s\n",
      "64:\tlearn: 7859818.7008655\ttest: 6288520.5498999\tbest: 6273631.2994421 (63)\ttotal: 2.76s\tremaining: 18.5s\n",
      "65:\tlearn: 7765163.8895012\ttest: 6301032.5190672\tbest: 6273631.2994421 (63)\ttotal: 2.8s\tremaining: 18.4s\n",
      "66:\tlearn: 7752157.3000091\ttest: 6309926.6731317\tbest: 6273631.2994421 (63)\ttotal: 2.84s\tremaining: 18.3s\n",
      "67:\tlearn: 7681324.3487962\ttest: 6324304.2294371\tbest: 6273631.2994421 (63)\ttotal: 2.88s\tremaining: 18.3s\n",
      "68:\tlearn: 7669448.9407734\ttest: 6315246.2760034\tbest: 6273631.2994421 (63)\ttotal: 2.92s\tremaining: 18.2s\n",
      "69:\tlearn: 7658928.1742222\ttest: 6306065.6845296\tbest: 6273631.2994421 (63)\ttotal: 2.96s\tremaining: 18.2s\n",
      "70:\tlearn: 7598129.5884861\ttest: 6319803.3500505\tbest: 6273631.2994421 (63)\ttotal: 2.99s\tremaining: 18.1s\n",
      "71:\tlearn: 7525852.7028297\ttest: 6332532.6423183\tbest: 6273631.2994421 (63)\ttotal: 3.02s\tremaining: 18s\n",
      "72:\tlearn: 7470893.6818963\ttest: 6345240.6601252\tbest: 6273631.2994421 (63)\ttotal: 3.06s\tremaining: 17.9s\n",
      "73:\tlearn: 7440335.0660744\ttest: 6332585.3175534\tbest: 6273631.2994421 (63)\ttotal: 3.12s\tremaining: 18s\n",
      "74:\tlearn: 7430524.4817048\ttest: 6341638.9063256\tbest: 6273631.2994421 (63)\ttotal: 3.17s\tremaining: 17.9s\n",
      "75:\tlearn: 7367046.6582441\ttest: 6355432.5106106\tbest: 6273631.2994421 (63)\ttotal: 3.2s\tremaining: 17.9s\n",
      "76:\tlearn: 7331387.6826190\ttest: 6364705.6021082\tbest: 6273631.2994421 (63)\ttotal: 3.25s\tremaining: 17.8s\n",
      "77:\tlearn: 7318948.1542111\ttest: 6369500.2543176\tbest: 6273631.2994421 (63)\ttotal: 3.28s\tremaining: 17.8s\n"
     ]
    },
    {
     "name": "stdout",
     "output_type": "stream",
     "text": [
      "78:\tlearn: 7308043.2046351\ttest: 6367818.4719660\tbest: 6273631.2994421 (63)\ttotal: 3.33s\tremaining: 17.8s\n",
      "79:\tlearn: 7302441.3068499\ttest: 6362140.0571683\tbest: 6273631.2994421 (63)\ttotal: 3.39s\tremaining: 17.8s\n",
      "80:\tlearn: 7269751.6360789\ttest: 6372695.7735938\tbest: 6273631.2994421 (63)\ttotal: 3.42s\tremaining: 17.7s\n",
      "81:\tlearn: 7269625.4762642\ttest: 6372978.9623719\tbest: 6273631.2994421 (63)\ttotal: 3.46s\tremaining: 17.6s\n",
      "82:\tlearn: 7247897.3984338\ttest: 6374398.4400562\tbest: 6273631.2994421 (63)\ttotal: 3.51s\tremaining: 17.6s\n",
      "83:\tlearn: 7240324.9944752\ttest: 6383110.6822745\tbest: 6273631.2994421 (63)\ttotal: 3.56s\tremaining: 17.6s\n",
      "84:\tlearn: 7195506.5745225\ttest: 6389335.3522178\tbest: 6273631.2994421 (63)\ttotal: 3.62s\tremaining: 17.7s\n",
      "85:\tlearn: 7195407.4536203\ttest: 6389601.2150349\tbest: 6273631.2994421 (63)\ttotal: 3.65s\tremaining: 17.6s\n",
      "86:\tlearn: 7195198.2774502\ttest: 6390190.9944751\tbest: 6273631.2994421 (63)\ttotal: 3.69s\tremaining: 17.5s\n",
      "87:\tlearn: 7184961.2864579\ttest: 6387848.9582015\tbest: 6273631.2994421 (63)\ttotal: 3.73s\tremaining: 17.5s\n",
      "88:\tlearn: 7184960.1036340\ttest: 6387883.6654219\tbest: 6273631.2994421 (63)\ttotal: 3.75s\tremaining: 17.3s\n",
      "89:\tlearn: 7139085.1851371\ttest: 6398453.0420964\tbest: 6273631.2994421 (63)\ttotal: 3.79s\tremaining: 17.3s\n",
      "90:\tlearn: 7138841.4872205\ttest: 6398667.3762647\tbest: 6273631.2994421 (63)\ttotal: 3.82s\tremaining: 17.2s\n",
      "91:\tlearn: 7138635.4854803\ttest: 6398904.9852549\tbest: 6273631.2994421 (63)\ttotal: 3.84s\tremaining: 17s\n",
      "92:\tlearn: 7128908.1743202\ttest: 6404637.5377280\tbest: 6273631.2994421 (63)\ttotal: 3.89s\tremaining: 17s\n",
      "93:\tlearn: 7128822.3417953\ttest: 6404826.9074688\tbest: 6273631.2994421 (63)\ttotal: 3.92s\tremaining: 16.9s\n",
      "94:\tlearn: 7128422.2135226\ttest: 6405023.8924372\tbest: 6273631.2994421 (63)\ttotal: 3.95s\tremaining: 16.8s\n",
      "95:\tlearn: 7106806.5566511\ttest: 6417938.5911537\tbest: 6273631.2994421 (63)\ttotal: 4s\tremaining: 16.8s\n",
      "96:\tlearn: 7106764.8446038\ttest: 6418132.0948561\tbest: 6273631.2994421 (63)\ttotal: 4.02s\tremaining: 16.7s\n",
      "97:\tlearn: 7096085.9848458\ttest: 6424845.1658605\tbest: 6273631.2994421 (63)\ttotal: 4.06s\tremaining: 16.6s\n",
      "98:\tlearn: 7096042.3964915\ttest: 6424997.5102139\tbest: 6273631.2994421 (63)\ttotal: 4.09s\tremaining: 16.6s\n",
      "99:\tlearn: 7094530.6059832\ttest: 6422584.4637631\tbest: 6273631.2994421 (63)\ttotal: 4.14s\tremaining: 16.5s\n",
      "100:\tlearn: 7055787.0947019\ttest: 6405010.0398606\tbest: 6273631.2994421 (63)\ttotal: 4.18s\tremaining: 16.5s\n",
      "101:\tlearn: 7042730.2246235\ttest: 6413506.0645037\tbest: 6273631.2994421 (63)\ttotal: 4.21s\tremaining: 16.4s\n",
      "102:\tlearn: 7042559.2196225\ttest: 6414110.4570615\tbest: 6273631.2994421 (63)\ttotal: 4.25s\tremaining: 16.4s\n",
      "103:\tlearn: 7042285.3770249\ttest: 6414300.0983687\tbest: 6273631.2994421 (63)\ttotal: 4.28s\tremaining: 16.3s\n",
      "104:\tlearn: 7042230.8345628\ttest: 6414541.4356772\tbest: 6273631.2994421 (63)\ttotal: 4.3s\tremaining: 16.2s\n",
      "105:\tlearn: 7032554.6461869\ttest: 6411571.2459263\tbest: 6273631.2994421 (63)\ttotal: 4.33s\tremaining: 16.1s\n",
      "106:\tlearn: 7011070.6582839\ttest: 6416237.1005607\tbest: 6273631.2994421 (63)\ttotal: 4.38s\tremaining: 16.1s\n",
      "107:\tlearn: 7011023.7716631\ttest: 6416363.2944311\tbest: 6273631.2994421 (63)\ttotal: 4.4s\tremaining: 16s\n",
      "108:\tlearn: 7010910.4920085\ttest: 6416449.3117102\tbest: 6273631.2994421 (63)\ttotal: 4.43s\tremaining: 15.9s\n",
      "109:\tlearn: 7010683.6432214\ttest: 6416589.7200159\tbest: 6273631.2994421 (63)\ttotal: 4.47s\tremaining: 15.8s\n",
      "110:\tlearn: 7003080.1463207\ttest: 6421781.2952808\tbest: 6273631.2994421 (63)\ttotal: 4.52s\tremaining: 15.9s\n",
      "111:\tlearn: 6998257.4779256\ttest: 6413815.1484141\tbest: 6273631.2994421 (63)\ttotal: 4.59s\tremaining: 15.9s\n",
      "112:\tlearn: 6988822.4704248\ttest: 6418634.5842913\tbest: 6273631.2994421 (63)\ttotal: 4.64s\tremaining: 15.9s\n",
      "113:\tlearn: 6981333.0493092\ttest: 6417608.6337516\tbest: 6273631.2994421 (63)\ttotal: 4.7s\tremaining: 15.9s\n",
      "114:\tlearn: 6973563.8225786\ttest: 6400700.6546162\tbest: 6273631.2994421 (63)\ttotal: 4.77s\tremaining: 16s\n",
      "115:\tlearn: 6953154.9368667\ttest: 6359267.1863823\tbest: 6273631.2994421 (63)\ttotal: 4.86s\tremaining: 16.1s\n",
      "116:\tlearn: 6939120.7982582\ttest: 6360046.6466003\tbest: 6273631.2994421 (63)\ttotal: 4.97s\tremaining: 16.3s\n",
      "117:\tlearn: 6927893.0533569\ttest: 6361778.1767356\tbest: 6273631.2994421 (63)\ttotal: 5.05s\tremaining: 16.3s\n",
      "118:\tlearn: 6927872.0492275\ttest: 6361899.3537610\tbest: 6273631.2994421 (63)\ttotal: 5.1s\tremaining: 16.3s\n",
      "119:\tlearn: 6927691.6075904\ttest: 6361985.8416285\tbest: 6273631.2994421 (63)\ttotal: 5.16s\tremaining: 16.3s\n",
      "120:\tlearn: 6912925.9837387\ttest: 6341860.4977677\tbest: 6273631.2994421 (63)\ttotal: 5.25s\tremaining: 16.4s\n",
      "121:\tlearn: 6898836.2066259\ttest: 6301598.5467419\tbest: 6273631.2994421 (63)\ttotal: 5.33s\tremaining: 16.5s\n",
      "122:\tlearn: 6889327.6435203\ttest: 6302458.4934042\tbest: 6273631.2994421 (63)\ttotal: 5.4s\tremaining: 16.6s\n",
      "123:\tlearn: 6874945.7325067\ttest: 6280551.8749243\tbest: 6273631.2994421 (63)\ttotal: 5.47s\tremaining: 16.6s\n",
      "124:\tlearn: 6864222.8185995\ttest: 6286507.5030630\tbest: 6273631.2994421 (63)\ttotal: 5.56s\tremaining: 16.7s\n",
      "125:\tlearn: 6860906.4698834\ttest: 6288078.4547849\tbest: 6273631.2994421 (63)\ttotal: 5.69s\tremaining: 16.9s\n",
      "126:\tlearn: 6854283.4294121\ttest: 6250542.3675870\tbest: 6250542.3675870 (126)\ttotal: 5.76s\tremaining: 16.9s\n",
      "127:\tlearn: 6848689.9412609\ttest: 6247050.6284823\tbest: 6247050.6284823 (127)\ttotal: 5.87s\tremaining: 17.1s\n",
      "128:\tlearn: 6830419.4258468\ttest: 6210113.3098069\tbest: 6210113.3098069 (128)\ttotal: 5.95s\tremaining: 17.1s\n",
      "129:\tlearn: 6817903.3052269\ttest: 6173101.2564213\tbest: 6173101.2564213 (129)\ttotal: 6.01s\tremaining: 17.1s\n",
      "130:\tlearn: 6810511.1986944\ttest: 6173590.7557376\tbest: 6173101.2564213 (129)\ttotal: 6.08s\tremaining: 17.1s\n",
      "131:\tlearn: 6810250.2694572\ttest: 6173799.4100733\tbest: 6173101.2564213 (129)\ttotal: 6.17s\tremaining: 17.2s\n",
      "132:\tlearn: 6798320.6051674\ttest: 6143896.3439103\tbest: 6143896.3439103 (132)\ttotal: 6.26s\tremaining: 17.3s\n",
      "133:\tlearn: 6786183.2516397\ttest: 6124599.8856161\tbest: 6124599.8856161 (133)\ttotal: 6.33s\tremaining: 17.3s\n",
      "134:\tlearn: 6775326.3727534\ttest: 6110874.9743158\tbest: 6110874.9743158 (134)\ttotal: 6.41s\tremaining: 17.3s\n",
      "135:\tlearn: 6775311.1149435\ttest: 6110988.4702831\tbest: 6110874.9743158 (134)\ttotal: 6.46s\tremaining: 17.3s\n",
      "136:\tlearn: 6775279.9622220\ttest: 6111091.5313322\tbest: 6110874.9743158 (134)\ttotal: 6.5s\tremaining: 17.2s\n",
      "137:\tlearn: 6763476.6396044\ttest: 6110088.7504646\tbest: 6110088.7504646 (137)\ttotal: 6.62s\tremaining: 17.4s\n",
      "138:\tlearn: 6759515.0203673\ttest: 6120158.3033763\tbest: 6110088.7504646 (137)\ttotal: 6.72s\tremaining: 17.5s\n",
      "139:\tlearn: 6756393.3031253\ttest: 6121990.6086155\tbest: 6110088.7504646 (137)\ttotal: 6.81s\tremaining: 17.5s\n",
      "140:\tlearn: 6755643.2598047\ttest: 6118732.2564257\tbest: 6110088.7504646 (137)\ttotal: 6.92s\tremaining: 17.6s\n",
      "141:\tlearn: 6744210.6962308\ttest: 6082846.3477814\tbest: 6082846.3477814 (141)\ttotal: 7.03s\tremaining: 17.7s\n",
      "142:\tlearn: 6742563.2337974\ttest: 6074420.2591632\tbest: 6074420.2591632 (142)\ttotal: 7.16s\tremaining: 17.9s\n",
      "143:\tlearn: 6742546.1995901\ttest: 6074568.1681037\tbest: 6074420.2591632 (142)\ttotal: 7.23s\tremaining: 17.9s\n",
      "144:\tlearn: 6742536.7355794\ttest: 6074657.4771838\tbest: 6074420.2591632 (142)\ttotal: 7.29s\tremaining: 17.8s\n",
      "145:\tlearn: 6734046.6758523\ttest: 6049170.2153855\tbest: 6049170.2153855 (145)\ttotal: 7.42s\tremaining: 18s\n",
      "146:\tlearn: 6727109.3003066\ttest: 6012801.0643017\tbest: 6012801.0643017 (146)\ttotal: 7.51s\tremaining: 18s\n",
      "147:\tlearn: 6723837.7235444\ttest: 5989334.5916197\tbest: 5989334.5916197 (147)\ttotal: 7.59s\tremaining: 18.1s\n",
      "148:\tlearn: 6715262.5166773\ttest: 5975006.3779560\tbest: 5975006.3779560 (148)\ttotal: 7.67s\tremaining: 18.1s\n",
      "149:\tlearn: 6701757.2955250\ttest: 5929522.2141134\tbest: 5929522.2141134 (149)\ttotal: 7.73s\tremaining: 18s\n",
      "150:\tlearn: 6692053.1924317\ttest: 5929577.6667034\tbest: 5929522.2141134 (149)\ttotal: 7.82s\tremaining: 18.1s\n",
      "151:\tlearn: 6687272.3310476\ttest: 5899287.9962968\tbest: 5899287.9962968 (151)\ttotal: 7.89s\tremaining: 18.1s\n",
      "152:\tlearn: 6682560.1676118\ttest: 5869481.5003640\tbest: 5869481.5003640 (152)\ttotal: 7.96s\tremaining: 18s\n",
      "153:\tlearn: 6670718.3644131\ttest: 5833576.3892401\tbest: 5833576.3892401 (153)\ttotal: 8.03s\tremaining: 18s\n",
      "154:\tlearn: 6661675.2545126\ttest: 5814369.7111824\tbest: 5814369.7111824 (154)\ttotal: 8.1s\tremaining: 18s\n",
      "155:\tlearn: 6661660.4733077\ttest: 5814477.2827841\tbest: 5814369.7111824 (154)\ttotal: 8.14s\tremaining: 17.9s\n"
     ]
    },
    {
     "name": "stdout",
     "output_type": "stream",
     "text": [
      "156:\tlearn: 6660681.7632973\ttest: 5812985.6018732\tbest: 5812985.6018732 (156)\ttotal: 8.21s\tremaining: 17.9s\n",
      "157:\tlearn: 6650342.5673441\ttest: 5810340.7788627\tbest: 5810340.7788627 (157)\ttotal: 8.29s\tremaining: 18s\n",
      "158:\tlearn: 6640772.2966934\ttest: 5806587.1173057\tbest: 5806587.1173057 (158)\ttotal: 8.39s\tremaining: 18s\n",
      "159:\tlearn: 6625355.5950386\ttest: 5777350.0891872\tbest: 5777350.0891872 (159)\ttotal: 8.47s\tremaining: 18s\n",
      "160:\tlearn: 6616001.4113151\ttest: 5774142.8098500\tbest: 5774142.8098500 (160)\ttotal: 8.57s\tremaining: 18.1s\n",
      "161:\tlearn: 6610963.2819112\ttest: 5778303.7521856\tbest: 5774142.8098500 (160)\ttotal: 8.69s\tremaining: 18.1s\n",
      "162:\tlearn: 6610944.2543307\ttest: 5778418.0402541\tbest: 5774142.8098500 (160)\ttotal: 8.76s\tremaining: 18.1s\n",
      "163:\tlearn: 6604569.5599914\ttest: 5783743.0924909\tbest: 5774142.8098500 (160)\ttotal: 8.87s\tremaining: 18.2s\n",
      "164:\tlearn: 6598798.6749765\ttest: 5759973.2595645\tbest: 5759973.2595645 (164)\ttotal: 9.01s\tremaining: 18.3s\n",
      "165:\tlearn: 6598678.8428432\ttest: 5760277.9222184\tbest: 5759973.2595645 (164)\ttotal: 9.1s\tremaining: 18.3s\n",
      "166:\tlearn: 6598665.8010198\ttest: 5760378.5983294\tbest: 5759973.2595645 (164)\ttotal: 9.15s\tremaining: 18.2s\n",
      "167:\tlearn: 6592148.0151541\ttest: 5755774.1864681\tbest: 5755774.1864681 (167)\ttotal: 9.27s\tremaining: 18.3s\n",
      "168:\tlearn: 6592065.4103659\ttest: 5756111.9969024\tbest: 5755774.1864681 (167)\ttotal: 9.33s\tremaining: 18.3s\n",
      "169:\tlearn: 6582096.4463205\ttest: 5719162.0864803\tbest: 5719162.0864803 (169)\ttotal: 9.41s\tremaining: 18.3s\n",
      "170:\tlearn: 6582085.5794795\ttest: 5719254.7928548\tbest: 5719162.0864803 (169)\ttotal: 9.45s\tremaining: 18.2s\n",
      "171:\tlearn: 6577957.4962063\ttest: 5710413.1987131\tbest: 5710413.1987131 (171)\ttotal: 9.53s\tremaining: 18.2s\n",
      "172:\tlearn: 6572340.7834851\ttest: 5712282.6880656\tbest: 5710413.1987131 (171)\ttotal: 9.61s\tremaining: 18.2s\n",
      "173:\tlearn: 6543732.1794975\ttest: 5725912.5480654\tbest: 5710413.1987131 (171)\ttotal: 9.69s\tremaining: 18.2s\n",
      "174:\tlearn: 6541296.6679245\ttest: 5726217.5193790\tbest: 5710413.1987131 (171)\ttotal: 9.77s\tremaining: 18.1s\n",
      "175:\tlearn: 6532535.7173047\ttest: 5696366.5951001\tbest: 5696366.5951001 (175)\ttotal: 9.87s\tremaining: 18.2s\n",
      "176:\tlearn: 6532510.9262451\ttest: 5696376.9662156\tbest: 5696366.5951001 (175)\ttotal: 9.95s\tremaining: 18.2s\n",
      "177:\tlearn: 6532432.4058952\ttest: 5696607.1671491\tbest: 5696366.5951001 (175)\ttotal: 10s\tremaining: 18.1s\n",
      "178:\tlearn: 6527385.6036992\ttest: 5675048.0475326\tbest: 5675048.0475326 (178)\ttotal: 10.1s\tremaining: 18.1s\n",
      "179:\tlearn: 6520429.7797762\ttest: 5662577.7503874\tbest: 5662577.7503874 (179)\ttotal: 10.2s\tremaining: 18.2s\n",
      "180:\tlearn: 6520195.7067962\ttest: 5662560.7092743\tbest: 5662560.7092743 (180)\ttotal: 10.3s\tremaining: 18.2s\n",
      "181:\tlearn: 6509619.0707669\ttest: 5675533.6969429\tbest: 5662560.7092743 (180)\ttotal: 10.4s\tremaining: 18.1s\n",
      "182:\tlearn: 6508450.3306634\ttest: 5673933.3273409\tbest: 5662560.7092743 (180)\ttotal: 10.5s\tremaining: 18.1s\n",
      "183:\tlearn: 6504507.7393828\ttest: 5673535.4093298\tbest: 5662560.7092743 (180)\ttotal: 10.5s\tremaining: 18.1s\n",
      "184:\tlearn: 6488153.6382615\ttest: 5674996.3046437\tbest: 5662560.7092743 (180)\ttotal: 10.6s\tremaining: 18.1s\n",
      "185:\tlearn: 6488097.6985329\ttest: 5675118.5479802\tbest: 5662560.7092743 (180)\ttotal: 10.7s\tremaining: 18.1s\n",
      "186:\tlearn: 6488054.9647999\ttest: 5675297.5999240\tbest: 5662560.7092743 (180)\ttotal: 10.8s\tremaining: 18s\n",
      "187:\tlearn: 6484295.3604772\ttest: 5679634.9241277\tbest: 5662560.7092743 (180)\ttotal: 10.9s\tremaining: 18s\n",
      "188:\tlearn: 6480456.8378134\ttest: 5664330.8634461\tbest: 5662560.7092743 (180)\ttotal: 10.9s\tremaining: 18s\n",
      "189:\tlearn: 6480448.2263318\ttest: 5664413.7033864\tbest: 5662560.7092743 (180)\ttotal: 11s\tremaining: 17.9s\n",
      "190:\tlearn: 6480440.0823393\ttest: 5664492.8769923\tbest: 5662560.7092743 (180)\ttotal: 11s\tremaining: 17.8s\n",
      "191:\tlearn: 6476513.8969845\ttest: 5666386.7531809\tbest: 5662560.7092743 (180)\ttotal: 11.1s\tremaining: 17.9s\n",
      "192:\tlearn: 6464156.3398532\ttest: 5652869.2930530\tbest: 5652869.2930530 (192)\ttotal: 11.2s\tremaining: 17.9s\n",
      "193:\tlearn: 6464126.3127989\ttest: 5652870.9799100\tbest: 5652869.2930530 (192)\ttotal: 11.3s\tremaining: 17.8s\n",
      "194:\tlearn: 6460468.0424032\ttest: 5648609.3484057\tbest: 5648609.3484057 (194)\ttotal: 11.4s\tremaining: 17.8s\n",
      "195:\tlearn: 6455778.7365172\ttest: 5641651.7210003\tbest: 5641651.7210003 (195)\ttotal: 11.4s\tremaining: 17.8s\n",
      "196:\tlearn: 6451965.6588970\ttest: 5627629.3275259\tbest: 5627629.3275259 (196)\ttotal: 11.5s\tremaining: 17.7s\n",
      "197:\tlearn: 6445853.8728480\ttest: 5622640.2757653\tbest: 5622640.2757653 (197)\ttotal: 11.6s\tremaining: 17.7s\n",
      "198:\tlearn: 6434943.1180493\ttest: 5626670.7289204\tbest: 5622640.2757653 (197)\ttotal: 11.7s\tremaining: 17.7s\n",
      "199:\tlearn: 6434927.2201173\ttest: 5626760.7838821\tbest: 5622640.2757653 (197)\ttotal: 11.8s\tremaining: 17.7s\n",
      "200:\tlearn: 6424415.1771468\ttest: 5602291.6229341\tbest: 5602291.6229341 (200)\ttotal: 11.9s\tremaining: 17.7s\n",
      "201:\tlearn: 6424407.1047145\ttest: 5602370.3106926\tbest: 5602291.6229341 (200)\ttotal: 11.9s\tremaining: 17.6s\n",
      "202:\tlearn: 6408068.2001963\ttest: 5597630.3505228\tbest: 5597630.3505228 (202)\ttotal: 12s\tremaining: 17.6s\n",
      "203:\tlearn: 6399055.8925624\ttest: 5593282.1202562\tbest: 5593282.1202562 (203)\ttotal: 12.1s\tremaining: 17.6s\n",
      "204:\tlearn: 6388305.5745565\ttest: 5587876.0417826\tbest: 5587876.0417826 (204)\ttotal: 12.2s\tremaining: 17.6s\n",
      "205:\tlearn: 6374075.9883116\ttest: 5579760.0224443\tbest: 5579760.0224443 (205)\ttotal: 12.3s\tremaining: 17.5s\n",
      "206:\tlearn: 6374064.4522855\ttest: 5579838.2096061\tbest: 5579760.0224443 (205)\ttotal: 12.3s\tremaining: 17.4s\n",
      "207:\tlearn: 6370861.8373010\ttest: 5580147.2310169\tbest: 5579760.0224443 (205)\ttotal: 12.4s\tremaining: 17.4s\n",
      "208:\tlearn: 6363581.2044965\ttest: 5576651.0262955\tbest: 5576651.0262955 (208)\ttotal: 12.5s\tremaining: 17.4s\n",
      "209:\tlearn: 6363557.9675573\ttest: 5576738.4651201\tbest: 5576651.0262955 (208)\ttotal: 12.5s\tremaining: 17.3s\n",
      "210:\tlearn: 6363543.4414679\ttest: 5576820.6831098\tbest: 5576651.0262955 (208)\ttotal: 12.6s\tremaining: 17.2s\n",
      "211:\tlearn: 6363537.6545708\ttest: 5576888.0513194\tbest: 5576651.0262955 (208)\ttotal: 12.6s\tremaining: 17.1s\n",
      "212:\tlearn: 6362409.0421631\ttest: 5577492.3944896\tbest: 5576651.0262955 (208)\ttotal: 12.7s\tremaining: 17.1s\n",
      "213:\tlearn: 6362403.6430589\ttest: 5577555.9575564\tbest: 5576651.0262955 (208)\ttotal: 12.7s\tremaining: 17s\n",
      "214:\tlearn: 6348875.1240606\ttest: 5562796.2673398\tbest: 5562796.2673398 (214)\ttotal: 12.8s\tremaining: 16.9s\n",
      "215:\tlearn: 6347005.5938921\ttest: 5559474.8186082\tbest: 5559474.8186082 (215)\ttotal: 12.8s\tremaining: 16.9s\n",
      "216:\tlearn: 6343438.4991615\ttest: 5563806.5479809\tbest: 5559474.8186082 (215)\ttotal: 12.9s\tremaining: 16.8s\n",
      "217:\tlearn: 6343406.3415669\ttest: 5563901.8926820\tbest: 5559474.8186082 (215)\ttotal: 12.9s\tremaining: 16.7s\n",
      "218:\tlearn: 6335272.1392249\ttest: 5557588.6734723\tbest: 5557588.6734723 (218)\ttotal: 13s\tremaining: 16.6s\n",
      "219:\tlearn: 6330976.7597702\ttest: 5556619.1163479\tbest: 5556619.1163479 (219)\ttotal: 13s\tremaining: 16.6s\n",
      "220:\tlearn: 6327990.3489584\ttest: 5556658.6111448\tbest: 5556619.1163479 (219)\ttotal: 13.1s\tremaining: 16.5s\n",
      "221:\tlearn: 6326808.1550297\ttest: 5553614.6619941\tbest: 5553614.6619941 (221)\ttotal: 13.2s\tremaining: 16.5s\n",
      "222:\tlearn: 6324507.6133241\ttest: 5559825.0745400\tbest: 5553614.6619941 (221)\ttotal: 13.2s\tremaining: 16.4s\n",
      "223:\tlearn: 6324370.0957609\ttest: 5559849.7150209\tbest: 5553614.6619941 (221)\ttotal: 13.3s\tremaining: 16.4s\n",
      "224:\tlearn: 6324036.0299081\ttest: 5559815.4422395\tbest: 5553614.6619941 (221)\ttotal: 13.3s\tremaining: 16.3s\n",
      "225:\tlearn: 6320415.9190349\ttest: 5539833.3207516\tbest: 5539833.3207516 (225)\ttotal: 13.4s\tremaining: 16.2s\n",
      "226:\tlearn: 6311455.0294452\ttest: 5534517.8208018\tbest: 5534517.8208018 (226)\ttotal: 13.5s\tremaining: 16.2s\n",
      "227:\tlearn: 6311367.4560537\ttest: 5534602.6782763\tbest: 5534517.8208018 (226)\ttotal: 13.5s\tremaining: 16.1s\n",
      "228:\tlearn: 6310040.3900752\ttest: 5534031.1311339\tbest: 5534031.1311339 (228)\ttotal: 13.6s\tremaining: 16.1s\n",
      "229:\tlearn: 6299107.9147024\ttest: 5515353.1392085\tbest: 5515353.1392085 (229)\ttotal: 13.7s\tremaining: 16.1s\n",
      "230:\tlearn: 6298575.3949218\ttest: 5515354.7806300\tbest: 5515353.1392085 (229)\ttotal: 13.7s\tremaining: 16s\n",
      "231:\tlearn: 6284825.2452539\ttest: 5498615.5051504\tbest: 5498615.5051504 (231)\ttotal: 13.8s\tremaining: 15.9s\n",
      "232:\tlearn: 6283859.2505722\ttest: 5495051.7749182\tbest: 5495051.7749182 (232)\ttotal: 13.9s\tremaining: 15.9s\n",
      "233:\tlearn: 6280889.6409808\ttest: 5490231.3334820\tbest: 5490231.3334820 (233)\ttotal: 13.9s\tremaining: 15.9s\n",
      "234:\tlearn: 6278327.1438894\ttest: 5495841.2537011\tbest: 5490231.3334820 (233)\ttotal: 14s\tremaining: 15.8s\n"
     ]
    },
    {
     "name": "stdout",
     "output_type": "stream",
     "text": [
      "235:\tlearn: 6269765.9824773\ttest: 5490890.4051641\tbest: 5490231.3334820 (233)\ttotal: 14.1s\tremaining: 15.7s\n",
      "236:\tlearn: 6269749.2263193\ttest: 5490997.4796660\tbest: 5490231.3334820 (233)\ttotal: 14.1s\tremaining: 15.7s\n",
      "237:\tlearn: 6267220.9092915\ttest: 5485550.6583113\tbest: 5485550.6583113 (237)\ttotal: 14.2s\tremaining: 15.6s\n",
      "238:\tlearn: 6252712.1927166\ttest: 5481527.3329030\tbest: 5481527.3329030 (238)\ttotal: 14.3s\tremaining: 15.6s\n",
      "239:\tlearn: 6252662.6211849\ttest: 5481701.9672630\tbest: 5481527.3329030 (238)\ttotal: 14.3s\tremaining: 15.5s\n",
      "240:\tlearn: 6252655.0550259\ttest: 5481776.6536590\tbest: 5481527.3329030 (238)\ttotal: 14.3s\tremaining: 15.4s\n",
      "241:\tlearn: 6248887.8633033\ttest: 5485103.0314761\tbest: 5481527.3329030 (238)\ttotal: 14.4s\tremaining: 15.4s\n",
      "242:\tlearn: 6246795.0376565\ttest: 5488714.7779713\tbest: 5481527.3329030 (238)\ttotal: 14.5s\tremaining: 15.3s\n",
      "243:\tlearn: 6246784.2270917\ttest: 5488790.3222993\tbest: 5481527.3329030 (238)\ttotal: 14.5s\tremaining: 15.2s\n",
      "244:\tlearn: 6240645.9301563\ttest: 5483775.4270625\tbest: 5481527.3329030 (238)\ttotal: 14.6s\tremaining: 15.2s\n",
      "245:\tlearn: 6234466.0705073\ttest: 5466527.6446366\tbest: 5466527.6446366 (245)\ttotal: 14.7s\tremaining: 15.1s\n",
      "246:\tlearn: 6231453.6519599\ttest: 5470256.7397066\tbest: 5466527.6446366 (245)\ttotal: 14.7s\tremaining: 15.1s\n",
      "247:\tlearn: 6231336.1035615\ttest: 5470775.1559276\tbest: 5466527.6446366 (245)\ttotal: 14.8s\tremaining: 15.1s\n",
      "248:\tlearn: 6231305.3704431\ttest: 5470867.9699335\tbest: 5466527.6446366 (245)\ttotal: 14.9s\tremaining: 15s\n",
      "249:\tlearn: 6229628.1801627\ttest: 5476487.6800510\tbest: 5466527.6446366 (245)\ttotal: 14.9s\tremaining: 14.9s\n",
      "250:\tlearn: 6223345.6101736\ttest: 5453958.9377624\tbest: 5453958.9377624 (250)\ttotal: 15s\tremaining: 14.8s\n",
      "251:\tlearn: 6219862.3209169\ttest: 5457146.2297394\tbest: 5453958.9377624 (250)\ttotal: 15s\tremaining: 14.8s\n",
      "252:\tlearn: 6212843.4765994\ttest: 5456882.4564731\tbest: 5453958.9377624 (250)\ttotal: 15.1s\tremaining: 14.7s\n",
      "253:\tlearn: 6210388.6652324\ttest: 5452665.3273992\tbest: 5452665.3273992 (253)\ttotal: 15.1s\tremaining: 14.7s\n",
      "254:\tlearn: 6207685.0200006\ttest: 5452403.2688891\tbest: 5452403.2688891 (254)\ttotal: 15.2s\tremaining: 14.6s\n",
      "255:\tlearn: 6204455.4769706\ttest: 5455516.5032409\tbest: 5452403.2688891 (254)\ttotal: 15.3s\tremaining: 14.6s\n",
      "256:\tlearn: 6201357.8767184\ttest: 5458575.9942763\tbest: 5452403.2688891 (254)\ttotal: 15.3s\tremaining: 14.5s\n",
      "257:\tlearn: 6195723.4320860\ttest: 5437689.9830497\tbest: 5437689.9830497 (257)\ttotal: 15.4s\tremaining: 14.5s\n",
      "258:\tlearn: 6187802.7709425\ttest: 5432882.5620337\tbest: 5432882.5620337 (258)\ttotal: 15.5s\tremaining: 14.4s\n",
      "259:\tlearn: 6181224.4074283\ttest: 5430882.4042295\tbest: 5430882.4042295 (259)\ttotal: 15.6s\tremaining: 14.4s\n",
      "260:\tlearn: 6178251.2463943\ttest: 5433875.0781476\tbest: 5430882.4042295 (259)\ttotal: 15.6s\tremaining: 14.3s\n",
      "261:\tlearn: 6177157.8775007\ttest: 5434096.3343116\tbest: 5430882.4042295 (259)\ttotal: 15.7s\tremaining: 14.3s\n",
      "262:\tlearn: 6175859.4675632\ttest: 5430665.5054353\tbest: 5430665.5054353 (262)\ttotal: 15.9s\tremaining: 14.3s\n",
      "263:\tlearn: 6175787.0339946\ttest: 5430898.8320205\tbest: 5430665.5054353 (262)\ttotal: 15.9s\tremaining: 14.2s\n",
      "264:\tlearn: 6166330.7090246\ttest: 5429876.1387861\tbest: 5429876.1387861 (264)\ttotal: 16s\tremaining: 14.2s\n",
      "265:\tlearn: 6166320.6625039\ttest: 5429962.2572768\tbest: 5429876.1387861 (264)\ttotal: 16s\tremaining: 14.1s\n",
      "266:\tlearn: 6161111.3620057\ttest: 5421543.4021971\tbest: 5421543.4021971 (266)\ttotal: 16.1s\tremaining: 14s\n",
      "267:\tlearn: 6161090.9737592\ttest: 5421642.3324900\tbest: 5421543.4021971 (266)\ttotal: 16.1s\tremaining: 14s\n",
      "268:\tlearn: 6161082.3129933\ttest: 5421722.8886857\tbest: 5421543.4021971 (266)\ttotal: 16.2s\tremaining: 13.9s\n",
      "269:\tlearn: 6157316.6259562\ttest: 5400431.2229288\tbest: 5400431.2229288 (269)\ttotal: 16.3s\tremaining: 13.9s\n",
      "270:\tlearn: 6155099.9808795\ttest: 5396845.6930293\tbest: 5396845.6930293 (270)\ttotal: 16.3s\tremaining: 13.8s\n",
      "271:\tlearn: 6148365.6891998\ttest: 5395163.8795261\tbest: 5395163.8795261 (271)\ttotal: 16.4s\tremaining: 13.8s\n",
      "272:\tlearn: 6133972.8095372\ttest: 5394681.2441757\tbest: 5394681.2441757 (272)\ttotal: 16.5s\tremaining: 13.8s\n",
      "273:\tlearn: 6133943.5766332\ttest: 5394829.6563935\tbest: 5394681.2441757 (272)\ttotal: 16.6s\tremaining: 13.7s\n",
      "274:\tlearn: 6127818.3299379\ttest: 5393403.8078949\tbest: 5393403.8078949 (274)\ttotal: 16.7s\tremaining: 13.7s\n",
      "275:\tlearn: 6125314.3423072\ttest: 5394009.1764996\tbest: 5393403.8078949 (274)\ttotal: 16.8s\tremaining: 13.6s\n",
      "276:\tlearn: 6121744.8987881\ttest: 5394498.5179710\tbest: 5393403.8078949 (274)\ttotal: 16.8s\tremaining: 13.6s\n",
      "277:\tlearn: 6116755.3060791\ttest: 5402473.5958768\tbest: 5393403.8078949 (274)\ttotal: 16.9s\tremaining: 13.5s\n",
      "278:\tlearn: 6111236.7806326\ttest: 5403187.0132428\tbest: 5393403.8078949 (274)\ttotal: 17s\tremaining: 13.5s\n",
      "279:\tlearn: 6088602.3850355\ttest: 5401300.2386554\tbest: 5393403.8078949 (274)\ttotal: 17.1s\tremaining: 13.4s\n",
      "280:\tlearn: 6082866.9487448\ttest: 5384763.6202700\tbest: 5384763.6202700 (280)\ttotal: 17.2s\tremaining: 13.4s\n",
      "281:\tlearn: 6077147.2850721\ttest: 5384860.2885700\tbest: 5384763.6202700 (280)\ttotal: 17.3s\tremaining: 13.3s\n",
      "282:\tlearn: 6077140.8179445\ttest: 5384931.5893084\tbest: 5384763.6202700 (280)\ttotal: 17.3s\tremaining: 13.3s\n",
      "283:\tlearn: 6072805.9280091\ttest: 5392470.9611328\tbest: 5384763.6202700 (280)\ttotal: 17.4s\tremaining: 13.2s\n",
      "284:\tlearn: 6070811.1136052\ttest: 5392302.9405365\tbest: 5384763.6202700 (280)\ttotal: 17.4s\tremaining: 13.2s\n",
      "285:\tlearn: 6068614.7484557\ttest: 5392790.9667375\tbest: 5384763.6202700 (280)\ttotal: 17.5s\tremaining: 13.1s\n",
      "286:\tlearn: 6068608.4940993\ttest: 5392861.2460633\tbest: 5384763.6202700 (280)\ttotal: 17.5s\tremaining: 13s\n",
      "287:\tlearn: 6064055.6786389\ttest: 5384641.5514595\tbest: 5384641.5514595 (287)\ttotal: 17.6s\tremaining: 13s\n",
      "288:\tlearn: 6058921.6618467\ttest: 5371784.5931948\tbest: 5371784.5931948 (288)\ttotal: 17.7s\tremaining: 12.9s\n",
      "289:\tlearn: 6057088.6404568\ttest: 5372314.3854862\tbest: 5371784.5931948 (288)\ttotal: 17.7s\tremaining: 12.8s\n",
      "290:\tlearn: 6054987.8332291\ttest: 5374272.2470220\tbest: 5371784.5931948 (288)\ttotal: 17.8s\tremaining: 12.8s\n",
      "291:\tlearn: 6053239.2735381\ttest: 5374790.6101489\tbest: 5371784.5931948 (288)\ttotal: 17.9s\tremaining: 12.7s\n",
      "292:\tlearn: 6041267.9163633\ttest: 5372599.0153466\tbest: 5371784.5931948 (288)\ttotal: 17.9s\tremaining: 12.7s\n",
      "293:\tlearn: 6037659.3528705\ttest: 5356146.8905038\tbest: 5356146.8905038 (293)\ttotal: 18s\tremaining: 12.6s\n",
      "294:\tlearn: 6026736.1744317\ttest: 5354209.8924089\tbest: 5354209.8924089 (294)\ttotal: 18.1s\tremaining: 12.5s\n",
      "295:\tlearn: 6025515.6773177\ttest: 5348367.3120399\tbest: 5348367.3120399 (295)\ttotal: 18.2s\tremaining: 12.5s\n",
      "296:\tlearn: 6007181.3707019\ttest: 5346497.1777126\tbest: 5346497.1777126 (296)\ttotal: 18.3s\tremaining: 12.5s\n",
      "297:\tlearn: 6005329.4255763\ttest: 5337308.1137239\tbest: 5337308.1137239 (297)\ttotal: 18.4s\tremaining: 12.5s\n",
      "298:\tlearn: 6005320.3025646\ttest: 5337384.6990615\tbest: 5337308.1137239 (297)\ttotal: 18.5s\tremaining: 12.4s\n",
      "299:\tlearn: 6002823.1126928\ttest: 5336065.7830879\tbest: 5336065.7830879 (299)\ttotal: 18.6s\tremaining: 12.4s\n",
      "300:\tlearn: 6001753.2408583\ttest: 5330596.9311977\tbest: 5330596.9311977 (300)\ttotal: 18.7s\tremaining: 12.4s\n",
      "301:\tlearn: 5993183.9568233\ttest: 5315575.0906403\tbest: 5315575.0906403 (301)\ttotal: 18.8s\tremaining: 12.3s\n",
      "302:\tlearn: 5992349.5315400\ttest: 5316721.8543751\tbest: 5315575.0906403 (301)\ttotal: 18.9s\tremaining: 12.3s\n",
      "303:\tlearn: 5992336.4340204\ttest: 5316819.0265308\tbest: 5315575.0906403 (301)\ttotal: 19s\tremaining: 12.3s\n",
      "304:\tlearn: 5992294.8125117\ttest: 5316944.7844768\tbest: 5315575.0906403 (301)\ttotal: 19.1s\tremaining: 12.2s\n",
      "305:\tlearn: 5986534.8419244\ttest: 5317804.8152985\tbest: 5315575.0906403 (301)\ttotal: 19.2s\tremaining: 12.1s\n",
      "306:\tlearn: 5982302.4338202\ttest: 5309712.3872030\tbest: 5309712.3872030 (306)\ttotal: 19.3s\tremaining: 12.1s\n",
      "307:\tlearn: 5974422.6389427\ttest: 5306115.4487438\tbest: 5306115.4487438 (307)\ttotal: 19.4s\tremaining: 12.1s\n",
      "308:\tlearn: 5969513.9425954\ttest: 5282723.4847117\tbest: 5282723.4847117 (308)\ttotal: 19.5s\tremaining: 12s\n",
      "309:\tlearn: 5967920.3467632\ttest: 5283345.6534492\tbest: 5282723.4847117 (308)\ttotal: 19.6s\tremaining: 12s\n",
      "310:\tlearn: 5960214.5170414\ttest: 5269720.1677411\tbest: 5269720.1677411 (310)\ttotal: 19.7s\tremaining: 12s\n",
      "311:\tlearn: 5960204.2089025\ttest: 5269802.2743567\tbest: 5269720.1677411 (310)\ttotal: 19.7s\tremaining: 11.9s\n",
      "312:\tlearn: 5957346.4375657\ttest: 5270334.3856409\tbest: 5269720.1677411 (310)\ttotal: 19.8s\tremaining: 11.8s\n"
     ]
    },
    {
     "name": "stdout",
     "output_type": "stream",
     "text": [
      "313:\tlearn: 5957335.4549205\ttest: 5270409.4943466\tbest: 5269720.1677411 (310)\ttotal: 19.9s\tremaining: 11.8s\n",
      "314:\tlearn: 5957326.3041930\ttest: 5270483.2643603\tbest: 5269720.1677411 (310)\ttotal: 20s\tremaining: 11.7s\n",
      "315:\tlearn: 5957319.2828555\ttest: 5270553.5879122\tbest: 5269720.1677411 (310)\ttotal: 20s\tremaining: 11.6s\n",
      "316:\tlearn: 5949550.3148070\ttest: 5277189.2140555\tbest: 5269720.1677411 (310)\ttotal: 20.1s\tremaining: 11.6s\n",
      "317:\tlearn: 5949545.1035701\ttest: 5277250.5550971\tbest: 5269720.1677411 (310)\ttotal: 20.1s\tremaining: 11.5s\n",
      "318:\tlearn: 5949540.3991237\ttest: 5277309.1117037\tbest: 5269720.1677411 (310)\ttotal: 20.1s\tremaining: 11.4s\n",
      "319:\tlearn: 5944875.0893810\ttest: 5254894.1887840\tbest: 5254894.1887840 (319)\ttotal: 20.2s\tremaining: 11.4s\n",
      "320:\tlearn: 5944868.7530573\ttest: 5254954.0596060\tbest: 5254894.1887840 (319)\ttotal: 20.3s\tremaining: 11.3s\n",
      "321:\tlearn: 5941525.0089402\ttest: 5255168.3454555\tbest: 5254894.1887840 (319)\ttotal: 20.4s\tremaining: 11.3s\n",
      "322:\tlearn: 5938392.8820167\ttest: 5240501.3387988\tbest: 5240501.3387988 (322)\ttotal: 20.5s\tremaining: 11.3s\n",
      "323:\tlearn: 5930132.1935607\ttest: 5236520.3182478\tbest: 5236520.3182478 (323)\ttotal: 20.6s\tremaining: 11.2s\n",
      "324:\tlearn: 5924899.8245220\ttest: 5227898.4201220\tbest: 5227898.4201220 (324)\ttotal: 20.7s\tremaining: 11.2s\n",
      "325:\tlearn: 5922806.3068826\ttest: 5226866.4293950\tbest: 5226866.4293950 (325)\ttotal: 20.9s\tremaining: 11.1s\n",
      "326:\tlearn: 5918976.6187725\ttest: 5205081.2323102\tbest: 5205081.2323102 (326)\ttotal: 20.9s\tremaining: 11.1s\n",
      "327:\tlearn: 5918883.0866367\ttest: 5205374.9797247\tbest: 5205081.2323102 (326)\ttotal: 21s\tremaining: 11s\n",
      "328:\tlearn: 5916215.8325167\ttest: 5205948.7441224\tbest: 5205081.2323102 (326)\ttotal: 21.1s\tremaining: 11s\n",
      "329:\tlearn: 5913793.5714077\ttest: 5203038.9438077\tbest: 5203038.9438077 (329)\ttotal: 21.2s\tremaining: 10.9s\n",
      "330:\tlearn: 5911869.2598682\ttest: 5210516.8310822\tbest: 5203038.9438077 (329)\ttotal: 21.3s\tremaining: 10.9s\n",
      "331:\tlearn: 5911857.8208515\ttest: 5210604.3837217\tbest: 5203038.9438077 (329)\ttotal: 21.4s\tremaining: 10.8s\n",
      "332:\tlearn: 5909340.0275429\ttest: 5211169.8361526\tbest: 5203038.9438077 (329)\ttotal: 21.5s\tremaining: 10.8s\n",
      "333:\tlearn: 5904558.0263310\ttest: 5206504.5917365\tbest: 5203038.9438077 (329)\ttotal: 21.5s\tremaining: 10.7s\n",
      "334:\tlearn: 5902009.4187326\ttest: 5203186.2336085\tbest: 5203038.9438077 (329)\ttotal: 21.6s\tremaining: 10.7s\n",
      "335:\tlearn: 5899621.0951590\ttest: 5203786.8517708\tbest: 5203038.9438077 (329)\ttotal: 21.7s\tremaining: 10.6s\n",
      "336:\tlearn: 5895129.7536917\ttest: 5199466.7337894\tbest: 5199466.7337894 (336)\ttotal: 21.8s\tremaining: 10.5s\n",
      "337:\tlearn: 5888069.0436881\ttest: 5205865.6896011\tbest: 5199466.7337894 (336)\ttotal: 21.8s\tremaining: 10.5s\n",
      "338:\tlearn: 5888063.7944476\ttest: 5205921.5925486\tbest: 5199466.7337894 (336)\ttotal: 21.9s\tremaining: 10.4s\n",
      "339:\tlearn: 5885744.1788342\ttest: 5203091.0558189\tbest: 5199466.7337894 (336)\ttotal: 22s\tremaining: 10.3s\n",
      "340:\tlearn: 5885738.7118884\ttest: 5203148.2052656\tbest: 5199466.7337894 (336)\ttotal: 22s\tremaining: 10.3s\n",
      "341:\tlearn: 5885666.1799612\ttest: 5203411.5027777\tbest: 5199466.7337894 (336)\ttotal: 22.1s\tremaining: 10.2s\n",
      "342:\tlearn: 5885600.5935662\ttest: 5203665.6412389\tbest: 5199466.7337894 (336)\ttotal: 22.2s\tremaining: 10.1s\n",
      "343:\tlearn: 5878155.1275781\ttest: 5200025.3604529\tbest: 5199466.7337894 (336)\ttotal: 22.2s\tremaining: 10.1s\n",
      "344:\tlearn: 5878151.2827170\ttest: 5200076.0583820\tbest: 5199466.7337894 (336)\ttotal: 22.3s\tremaining: 10s\n",
      "345:\tlearn: 5868094.3359150\ttest: 5196122.4425895\tbest: 5196122.4425895 (345)\ttotal: 22.4s\tremaining: 9.95s\n",
      "346:\tlearn: 5868090.7367043\ttest: 5196168.2280195\tbest: 5196122.4425895 (345)\ttotal: 22.4s\tremaining: 9.89s\n",
      "347:\tlearn: 5868087.4792186\ttest: 5196211.8939945\tbest: 5196122.4425895 (345)\ttotal: 22.5s\tremaining: 9.82s\n",
      "348:\tlearn: 5865240.5246466\ttest: 5190035.9970933\tbest: 5190035.9970933 (348)\ttotal: 22.6s\tremaining: 9.78s\n",
      "349:\tlearn: 5857258.7523470\ttest: 5183621.2745525\tbest: 5183621.2745525 (349)\ttotal: 22.7s\tremaining: 9.73s\n",
      "350:\tlearn: 5857255.2247645\ttest: 5183666.9184358\tbest: 5183621.2745525 (349)\ttotal: 22.8s\tremaining: 9.66s\n",
      "351:\tlearn: 5857252.0328336\ttest: 5183710.4492479\tbest: 5183621.2745525 (349)\ttotal: 22.8s\tremaining: 9.59s\n",
      "352:\tlearn: 5857249.1441204\ttest: 5183751.9561691\tbest: 5183621.2745525 (349)\ttotal: 22.9s\tremaining: 9.52s\n",
      "353:\tlearn: 5850450.0640472\ttest: 5162415.7774077\tbest: 5162415.7774077 (353)\ttotal: 22.9s\tremaining: 9.46s\n",
      "354:\tlearn: 5848975.7706561\ttest: 5169058.3223489\tbest: 5162415.7774077 (353)\ttotal: 23s\tremaining: 9.41s\n",
      "355:\tlearn: 5847026.3573091\ttest: 5173299.4636518\tbest: 5162415.7774077 (353)\ttotal: 23.1s\tremaining: 9.36s\n",
      "356:\tlearn: 5847023.5334613\ttest: 5173340.2355720\tbest: 5162415.7774077 (353)\ttotal: 23.2s\tremaining: 9.29s\n",
      "357:\tlearn: 5846970.1221749\ttest: 5173566.2945848\tbest: 5162415.7774077 (353)\ttotal: 23.3s\tremaining: 9.23s\n",
      "358:\tlearn: 5843978.0200677\ttest: 5163808.9420423\tbest: 5162415.7774077 (353)\ttotal: 23.3s\tremaining: 9.16s\n",
      "359:\tlearn: 5839884.7508813\ttest: 5160005.9354667\tbest: 5160005.9354667 (359)\ttotal: 23.4s\tremaining: 9.1s\n",
      "360:\tlearn: 5838018.3724482\ttest: 5158819.3369283\tbest: 5158819.3369283 (360)\ttotal: 23.5s\tremaining: 9.06s\n",
      "361:\tlearn: 5836355.4126614\ttest: 5158195.5752359\tbest: 5158195.5752359 (361)\ttotal: 23.7s\tremaining: 9.03s\n",
      "362:\tlearn: 5833912.8901981\ttest: 5154628.5000047\tbest: 5154628.5000047 (362)\ttotal: 23.8s\tremaining: 8.97s\n",
      "363:\tlearn: 5832412.7384332\ttest: 5156534.3218677\tbest: 5154628.5000047 (362)\ttotal: 23.8s\tremaining: 8.91s\n",
      "364:\tlearn: 5823441.4306956\ttest: 5153122.8464841\tbest: 5153122.8464841 (364)\ttotal: 23.9s\tremaining: 8.85s\n",
      "365:\tlearn: 5823438.0109297\ttest: 5153167.9742613\tbest: 5153122.8464841 (364)\ttotal: 24s\tremaining: 8.78s\n",
      "366:\tlearn: 5821663.8156270\ttest: 5139849.0338408\tbest: 5139849.0338408 (366)\ttotal: 24.1s\tremaining: 8.73s\n",
      "367:\tlearn: 5821269.7819728\ttest: 5139685.0732105\tbest: 5139685.0732105 (367)\ttotal: 24.1s\tremaining: 8.66s\n",
      "368:\tlearn: 5819619.2774497\ttest: 5138655.2028710\tbest: 5138655.2028710 (368)\ttotal: 24.2s\tremaining: 8.6s\n",
      "369:\tlearn: 5819615.6675485\ttest: 5138701.7136804\tbest: 5138655.2028710 (368)\ttotal: 24.3s\tremaining: 8.53s\n",
      "370:\tlearn: 5819612.4030944\ttest: 5138746.0805937\tbest: 5138655.2028710 (368)\ttotal: 24.4s\tremaining: 8.47s\n",
      "371:\tlearn: 5819557.7356349\ttest: 5138975.4409695\tbest: 5138655.2028710 (368)\ttotal: 24.4s\tremaining: 8.4s\n",
      "372:\tlearn: 5817747.2060679\ttest: 5143089.3716147\tbest: 5138655.2028710 (368)\ttotal: 24.5s\tremaining: 8.34s\n",
      "373:\tlearn: 5812291.4167100\ttest: 5146403.4643637\tbest: 5138655.2028710 (368)\ttotal: 24.6s\tremaining: 8.27s\n",
      "374:\tlearn: 5807306.4101881\ttest: 5150013.1376288\tbest: 5138655.2028710 (368)\ttotal: 24.6s\tremaining: 8.21s\n",
      "375:\tlearn: 5807303.8245435\ttest: 5150052.6455313\tbest: 5138655.2028710 (368)\ttotal: 24.7s\tremaining: 8.14s\n",
      "376:\tlearn: 5804190.4763878\ttest: 5136750.5958406\tbest: 5136750.5958406 (376)\ttotal: 24.8s\tremaining: 8.09s\n",
      "377:\tlearn: 5803185.5859730\ttest: 5132341.8663775\tbest: 5132341.8663775 (377)\ttotal: 24.9s\tremaining: 8.02s\n",
      "378:\tlearn: 5798113.6612332\ttest: 5131630.8716102\tbest: 5131630.8716102 (378)\ttotal: 24.9s\tremaining: 7.96s\n",
      "379:\tlearn: 5797598.7902443\ttest: 5132876.9878740\tbest: 5131630.8716102 (378)\ttotal: 25s\tremaining: 7.9s\n",
      "380:\tlearn: 5790072.9847009\ttest: 5126969.7876827\tbest: 5126969.7876827 (380)\ttotal: 25.1s\tremaining: 7.84s\n",
      "381:\tlearn: 5787923.0609697\ttest: 5127476.0595205\tbest: 5126969.7876827 (380)\ttotal: 25.2s\tremaining: 7.78s\n",
      "382:\tlearn: 5787879.8410066\ttest: 5127682.6201423\tbest: 5126969.7876827 (380)\ttotal: 25.3s\tremaining: 7.72s\n",
      "383:\tlearn: 5786829.4966159\ttest: 5127337.2106245\tbest: 5126969.7876827 (380)\ttotal: 25.4s\tremaining: 7.66s\n",
      "384:\tlearn: 5781395.2630361\ttest: 5125405.8214304\tbest: 5125405.8214304 (384)\ttotal: 25.5s\tremaining: 7.61s\n",
      "385:\tlearn: 5779845.5386914\ttest: 5127510.4661904\tbest: 5125405.8214304 (384)\ttotal: 25.5s\tremaining: 7.54s\n",
      "386:\tlearn: 5777340.9351664\ttest: 5121916.4194266\tbest: 5121916.4194266 (386)\ttotal: 25.6s\tremaining: 7.48s\n",
      "387:\tlearn: 5758032.1200775\ttest: 5121607.1230553\tbest: 5121607.1230553 (387)\ttotal: 25.7s\tremaining: 7.42s\n",
      "388:\tlearn: 5756604.3630222\ttest: 5120849.3486031\tbest: 5120849.3486031 (388)\ttotal: 25.8s\tremaining: 7.35s\n",
      "389:\tlearn: 5755248.4752499\ttest: 5122825.7280066\tbest: 5120849.3486031 (388)\ttotal: 25.8s\tremaining: 7.29s\n",
      "390:\tlearn: 5753209.5111284\ttest: 5121306.4734826\tbest: 5120849.3486031 (388)\ttotal: 25.9s\tremaining: 7.22s\n",
      "391:\tlearn: 5752661.9640001\ttest: 5119848.7620565\tbest: 5119848.7620565 (391)\ttotal: 26s\tremaining: 7.15s\n"
     ]
    },
    {
     "name": "stdout",
     "output_type": "stream",
     "text": [
      "392:\tlearn: 5750654.9983509\ttest: 5120399.0885944\tbest: 5119848.7620565 (391)\ttotal: 26.1s\tremaining: 7.09s\n",
      "393:\tlearn: 5750444.2729510\ttest: 5119623.4727671\tbest: 5119623.4727671 (393)\ttotal: 26.2s\tremaining: 7.05s\n",
      "394:\tlearn: 5743413.3046290\ttest: 5115418.2989990\tbest: 5115418.2989990 (394)\ttotal: 26.3s\tremaining: 6.99s\n",
      "395:\tlearn: 5741896.2070019\ttest: 5116264.3653044\tbest: 5115418.2989990 (394)\ttotal: 26.4s\tremaining: 6.93s\n",
      "396:\tlearn: 5735069.0280802\ttest: 5112236.5454771\tbest: 5112236.5454771 (396)\ttotal: 26.5s\tremaining: 6.88s\n",
      "397:\tlearn: 5727138.5076864\ttest: 5119193.0447805\tbest: 5112236.5454771 (396)\ttotal: 26.6s\tremaining: 6.82s\n",
      "398:\tlearn: 5724412.3581887\ttest: 5107116.1221947\tbest: 5107116.1221947 (398)\ttotal: 26.7s\tremaining: 6.75s\n",
      "399:\tlearn: 5720890.8826512\ttest: 5101038.1727759\tbest: 5101038.1727759 (399)\ttotal: 26.8s\tremaining: 6.69s\n",
      "400:\tlearn: 5717969.9632961\ttest: 5095960.7435710\tbest: 5095960.7435710 (400)\ttotal: 26.9s\tremaining: 6.63s\n",
      "401:\tlearn: 5716195.5561279\ttest: 5095540.1570766\tbest: 5095540.1570766 (401)\ttotal: 27s\tremaining: 6.57s\n",
      "402:\tlearn: 5713685.6859522\ttest: 5083396.8160537\tbest: 5083396.8160537 (402)\ttotal: 27s\tremaining: 6.5s\n",
      "403:\tlearn: 5702309.8461157\ttest: 5081963.9629591\tbest: 5081963.9629591 (403)\ttotal: 27.1s\tremaining: 6.44s\n",
      "404:\tlearn: 5698611.9318157\ttest: 5083050.4566460\tbest: 5081963.9629591 (403)\ttotal: 27.2s\tremaining: 6.38s\n",
      "405:\tlearn: 5697269.5929554\ttest: 5084846.6033738\tbest: 5081963.9629591 (403)\ttotal: 27.3s\tremaining: 6.32s\n",
      "406:\tlearn: 5694390.3564797\ttest: 5085033.2422583\tbest: 5081963.9629591 (403)\ttotal: 27.4s\tremaining: 6.25s\n",
      "407:\tlearn: 5684106.5104073\ttest: 5084135.4706277\tbest: 5081963.9629591 (403)\ttotal: 27.5s\tremaining: 6.19s\n",
      "408:\tlearn: 5681821.7408281\ttest: 5081584.1047050\tbest: 5081584.1047050 (408)\ttotal: 27.6s\tremaining: 6.14s\n",
      "409:\tlearn: 5678362.5195155\ttest: 5081953.5923602\tbest: 5081584.1047050 (408)\ttotal: 27.7s\tremaining: 6.07s\n",
      "410:\tlearn: 5673507.9507176\ttest: 5080405.8005449\tbest: 5080405.8005449 (410)\ttotal: 27.8s\tremaining: 6.01s\n",
      "411:\tlearn: 5663804.5665116\ttest: 5086434.8419713\tbest: 5080405.8005449 (410)\ttotal: 27.8s\tremaining: 5.94s\n",
      "412:\tlearn: 5646278.3622600\ttest: 5086433.3818451\tbest: 5080405.8005449 (410)\ttotal: 28s\tremaining: 5.89s\n",
      "413:\tlearn: 5643618.7637983\ttest: 5081643.7362984\tbest: 5080405.8005449 (410)\ttotal: 28s\tremaining: 5.82s\n",
      "414:\tlearn: 5642019.3902979\ttest: 5080668.4067827\tbest: 5080405.8005449 (410)\ttotal: 28.1s\tremaining: 5.76s\n",
      "415:\tlearn: 5639054.1438121\ttest: 5069500.5448757\tbest: 5069500.5448757 (415)\ttotal: 28.2s\tremaining: 5.69s\n",
      "416:\tlearn: 5639020.6173547\ttest: 5069751.6203563\tbest: 5069500.5448757 (415)\ttotal: 28.3s\tremaining: 5.63s\n",
      "417:\tlearn: 5631819.5323864\ttest: 5075298.7165456\tbest: 5069500.5448757 (415)\ttotal: 28.4s\tremaining: 5.57s\n",
      "418:\tlearn: 5631173.4647928\ttest: 5069116.7234322\tbest: 5069116.7234322 (418)\ttotal: 28.4s\tremaining: 5.5s\n",
      "419:\tlearn: 5624996.3917831\ttest: 5065253.9591660\tbest: 5065253.9591660 (419)\ttotal: 28.6s\tremaining: 5.44s\n",
      "420:\tlearn: 5618445.6233034\ttest: 5071134.2410218\tbest: 5065253.9591660 (419)\ttotal: 28.6s\tremaining: 5.37s\n",
      "421:\tlearn: 5610930.1896220\ttest: 5077759.0889397\tbest: 5065253.9591660 (419)\ttotal: 28.7s\tremaining: 5.3s\n",
      "422:\tlearn: 5607378.4052939\ttest: 5070438.4219772\tbest: 5065253.9591660 (419)\ttotal: 28.8s\tremaining: 5.24s\n",
      "423:\tlearn: 5605960.9974695\ttest: 5058186.5369376\tbest: 5058186.5369376 (423)\ttotal: 28.9s\tremaining: 5.17s\n",
      "424:\tlearn: 5604622.6514674\ttest: 5046422.1155339\tbest: 5046422.1155339 (424)\ttotal: 28.9s\tremaining: 5.11s\n",
      "425:\tlearn: 5603358.7571838\ttest: 5035124.1042827\tbest: 5035124.1042827 (425)\ttotal: 29s\tremaining: 5.04s\n",
      "426:\tlearn: 5593879.0624103\ttest: 5033865.3084939\tbest: 5033865.3084939 (426)\ttotal: 29.1s\tremaining: 4.97s\n",
      "427:\tlearn: 5592349.1218885\ttest: 5030671.4286580\tbest: 5030671.4286580 (427)\ttotal: 29.1s\tremaining: 4.9s\n",
      "428:\tlearn: 5586538.7580026\ttest: 5027367.1370117\tbest: 5027367.1370117 (428)\ttotal: 29.2s\tremaining: 4.84s\n",
      "429:\tlearn: 5577813.1683870\ttest: 5026529.5977921\tbest: 5026529.5977921 (429)\ttotal: 29.3s\tremaining: 4.77s\n",
      "430:\tlearn: 5577787.6985551\ttest: 5026670.1659261\tbest: 5026529.5977921 (429)\ttotal: 29.4s\tremaining: 4.71s\n",
      "431:\tlearn: 5577764.1089313\ttest: 5026804.5296251\tbest: 5026529.5977921 (429)\ttotal: 29.5s\tremaining: 4.64s\n",
      "432:\tlearn: 5574471.8765084\ttest: 5027067.1542985\tbest: 5026529.5977921 (429)\ttotal: 29.6s\tremaining: 4.58s\n",
      "433:\tlearn: 5567407.7638763\ttest: 5033495.4401057\tbest: 5026529.5977921 (429)\ttotal: 29.7s\tremaining: 4.52s\n",
      "434:\tlearn: 5565125.2961747\ttest: 5022874.6131872\tbest: 5022874.6131872 (434)\ttotal: 29.8s\tremaining: 4.46s\n",
      "435:\tlearn: 5562004.4513895\ttest: 5017340.0721792\tbest: 5017340.0721792 (435)\ttotal: 29.9s\tremaining: 4.39s\n",
      "436:\tlearn: 5558841.2082934\ttest: 5014935.3536153\tbest: 5014935.3536153 (436)\ttotal: 30s\tremaining: 4.32s\n",
      "437:\tlearn: 5553232.8880462\ttest: 5011393.8077039\tbest: 5011393.8077039 (437)\ttotal: 30.1s\tremaining: 4.26s\n",
      "438:\tlearn: 5553212.1890146\ttest: 5011547.3719920\tbest: 5011393.8077039 (437)\ttotal: 30.1s\tremaining: 4.19s\n",
      "439:\tlearn: 5553192.9599521\ttest: 5011693.9102337\tbest: 5011393.8077039 (437)\ttotal: 30.2s\tremaining: 4.12s\n",
      "440:\tlearn: 5552910.6655569\ttest: 5012137.6836019\tbest: 5011393.8077039 (437)\ttotal: 30.3s\tremaining: 4.05s\n",
      "441:\tlearn: 5551866.4866182\ttest: 5012785.1164208\tbest: 5011393.8077039 (437)\ttotal: 30.4s\tremaining: 3.99s\n",
      "442:\tlearn: 5549156.5790478\ttest: 5004214.8038560\tbest: 5004214.8038560 (442)\ttotal: 30.5s\tremaining: 3.92s\n",
      "443:\tlearn: 5548824.3606090\ttest: 5003946.5937964\tbest: 5003946.5937964 (443)\ttotal: 30.6s\tremaining: 3.86s\n",
      "444:\tlearn: 5540792.1252172\ttest: 5003508.2854601\tbest: 5003508.2854601 (444)\ttotal: 30.7s\tremaining: 3.79s\n",
      "445:\tlearn: 5539552.3957140\ttest: 5003450.6904730\tbest: 5003450.6904730 (445)\ttotal: 30.7s\tremaining: 3.72s\n",
      "446:\tlearn: 5539534.5285448\ttest: 5003535.2576529\tbest: 5003450.6904730 (445)\ttotal: 30.8s\tremaining: 3.65s\n",
      "447:\tlearn: 5539271.5832897\ttest: 5003968.0793617\tbest: 5003450.6904730 (445)\ttotal: 30.9s\tremaining: 3.59s\n",
      "448:\tlearn: 5536573.2189599\ttest: 5002098.7167467\tbest: 5002098.7167467 (448)\ttotal: 31s\tremaining: 3.52s\n",
      "449:\tlearn: 5533186.8300294\ttest: 4998993.0575855\tbest: 4998993.0575855 (449)\ttotal: 31.1s\tremaining: 3.45s\n",
      "450:\tlearn: 5530056.8647605\ttest: 4999210.6036051\tbest: 4998993.0575855 (449)\ttotal: 31.2s\tremaining: 3.39s\n",
      "451:\tlearn: 5528909.4285144\ttest: 4999182.4069303\tbest: 4998993.0575855 (449)\ttotal: 31.2s\tremaining: 3.31s\n",
      "452:\tlearn: 5528890.0212374\ttest: 4999291.5879630\tbest: 4998993.0575855 (449)\ttotal: 31.3s\tremaining: 3.25s\n",
      "453:\tlearn: 5528644.6174506\ttest: 4999742.1990925\tbest: 4998993.0575855 (449)\ttotal: 31.4s\tremaining: 3.18s\n",
      "454:\tlearn: 5526099.2945225\ttest: 4997985.3138222\tbest: 4997985.3138222 (454)\ttotal: 31.4s\tremaining: 3.11s\n",
      "455:\tlearn: 5518552.0483949\ttest: 5004421.3443060\tbest: 4997985.3138222 (454)\ttotal: 31.5s\tremaining: 3.04s\n",
      "456:\tlearn: 5517778.7811832\ttest: 5005376.4375936\tbest: 4997985.3138222 (454)\ttotal: 31.6s\tremaining: 2.97s\n",
      "457:\tlearn: 5516008.0918437\ttest: 5004096.1720153\tbest: 4997985.3138222 (454)\ttotal: 31.7s\tremaining: 2.9s\n",
      "458:\tlearn: 5513801.5292419\ttest: 4988804.9938603\tbest: 4988804.9938603 (458)\ttotal: 31.7s\tremaining: 2.83s\n",
      "459:\tlearn: 5506305.0756253\ttest: 4988437.1505873\tbest: 4988437.1505873 (459)\ttotal: 31.8s\tremaining: 2.77s\n",
      "460:\tlearn: 5505204.6580825\ttest: 4990012.3167569\tbest: 4988437.1505873 (459)\ttotal: 31.9s\tremaining: 2.7s\n",
      "461:\tlearn: 5496731.5077688\ttest: 4995142.5447366\tbest: 4988437.1505873 (459)\ttotal: 32s\tremaining: 2.63s\n",
      "462:\tlearn: 5493238.4480596\ttest: 4987008.7101482\tbest: 4987008.7101482 (462)\ttotal: 32.1s\tremaining: 2.56s\n",
      "463:\tlearn: 5488129.6723932\ttest: 4984156.3300198\tbest: 4984156.3300198 (463)\ttotal: 32.2s\tremaining: 2.5s\n",
      "464:\tlearn: 5478628.8547153\ttest: 4979690.1875557\tbest: 4979690.1875557 (464)\ttotal: 32.3s\tremaining: 2.43s\n",
      "465:\tlearn: 5476507.9497715\ttest: 4964779.8040660\tbest: 4964779.8040660 (465)\ttotal: 32.4s\tremaining: 2.36s\n",
      "466:\tlearn: 5474149.2123548\ttest: 4963185.1306204\tbest: 4963185.1306204 (466)\ttotal: 32.5s\tremaining: 2.29s\n",
      "467:\tlearn: 5469233.2869546\ttest: 4960465.3386909\tbest: 4960465.3386909 (467)\ttotal: 32.6s\tremaining: 2.23s\n",
      "468:\tlearn: 5469229.9476962\ttest: 4960505.7931468\tbest: 4960465.3386909 (467)\ttotal: 32.6s\tremaining: 2.16s\n",
      "469:\tlearn: 5468843.6160209\ttest: 4960187.0736728\tbest: 4960187.0736728 (469)\ttotal: 32.7s\tremaining: 2.09s\n",
      "470:\tlearn: 5468563.4036784\ttest: 4961656.3103234\tbest: 4960187.0736728 (469)\ttotal: 32.8s\tremaining: 2.02s\n"
     ]
    },
    {
     "name": "stdout",
     "output_type": "stream",
     "text": [
      "471:\tlearn: 5465629.8640540\ttest: 4961866.4678964\tbest: 4960187.0736728 (469)\ttotal: 32.9s\tremaining: 1.95s\n",
      "472:\tlearn: 5463393.1658882\ttest: 4960344.2210606\tbest: 4960187.0736728 (469)\ttotal: 33s\tremaining: 1.88s\n",
      "473:\tlearn: 5463034.7682644\ttest: 4960037.9346816\tbest: 4960037.9346816 (473)\ttotal: 33s\tremaining: 1.81s\n",
      "474:\tlearn: 5461710.6906138\ttest: 4961900.3676546\tbest: 4960037.9346816 (473)\ttotal: 33.1s\tremaining: 1.74s\n",
      "475:\tlearn: 5460367.0555602\ttest: 4960000.2735211\tbest: 4960000.2735211 (475)\ttotal: 33.2s\tremaining: 1.67s\n",
      "476:\tlearn: 5457233.1981159\ttest: 4957218.9795237\tbest: 4957218.9795237 (476)\ttotal: 33.3s\tremaining: 1.6s\n",
      "477:\tlearn: 5457209.5779839\ttest: 4957401.7539338\tbest: 4957218.9795237 (476)\ttotal: 33.4s\tremaining: 1.54s\n",
      "478:\tlearn: 5449455.7736577\ttest: 4962464.0272144\tbest: 4957218.9795237 (476)\ttotal: 33.5s\tremaining: 1.47s\n",
      "479:\tlearn: 5444642.4754170\ttest: 4959367.1411494\tbest: 4957218.9795237 (476)\ttotal: 33.6s\tremaining: 1.4s\n",
      "480:\tlearn: 5438303.3415182\ttest: 4964985.4463747\tbest: 4957218.9795237 (476)\ttotal: 33.7s\tremaining: 1.33s\n",
      "481:\tlearn: 5437937.3399561\ttest: 4964611.4558257\tbest: 4957218.9795237 (476)\ttotal: 33.8s\tremaining: 1.26s\n",
      "482:\tlearn: 5437596.7960515\ttest: 4964261.9974728\tbest: 4957218.9795237 (476)\ttotal: 33.9s\tremaining: 1.19s\n",
      "483:\tlearn: 5437485.5944776\ttest: 4964058.5182890\tbest: 4957218.9795237 (476)\ttotal: 34s\tremaining: 1.12s\n",
      "484:\tlearn: 5429659.9232531\ttest: 4951429.3371207\tbest: 4951429.3371207 (484)\ttotal: 34.1s\tremaining: 1.05s\n",
      "485:\tlearn: 5423068.9814494\ttest: 4957871.8328233\tbest: 4951429.3371207 (484)\ttotal: 34.1s\tremaining: 983ms\n",
      "486:\tlearn: 5417675.6965044\ttest: 4944540.3703038\tbest: 4944540.3703038 (486)\ttotal: 34.2s\tremaining: 914ms\n",
      "487:\tlearn: 5417672.6914606\ttest: 4944572.9294564\tbest: 4944540.3703038 (486)\ttotal: 34.3s\tremaining: 843ms\n",
      "488:\tlearn: 5417351.1500294\ttest: 4944213.1614676\tbest: 4944213.1614676 (488)\ttotal: 34.4s\tremaining: 773ms\n",
      "489:\tlearn: 5416390.5842547\ttest: 4942763.5076893\tbest: 4942763.5076893 (489)\ttotal: 34.5s\tremaining: 703ms\n",
      "490:\tlearn: 5413472.0537405\ttest: 4930008.7709537\tbest: 4930008.7709537 (490)\ttotal: 34.6s\tremaining: 633ms\n",
      "491:\tlearn: 5408854.5611150\ttest: 4927166.4886135\tbest: 4927166.4886135 (491)\ttotal: 34.6s\tremaining: 563ms\n",
      "492:\tlearn: 5407694.1683225\ttest: 4928496.4652525\tbest: 4927166.4886135 (491)\ttotal: 34.7s\tremaining: 493ms\n",
      "493:\tlearn: 5407597.1123994\ttest: 4928315.0476953\tbest: 4927166.4886135 (491)\ttotal: 34.8s\tremaining: 423ms\n",
      "494:\tlearn: 5407372.8952601\ttest: 4928750.3763852\tbest: 4927166.4886135 (491)\ttotal: 34.9s\tremaining: 352ms\n",
      "495:\tlearn: 5406071.1499849\ttest: 4925775.4664003\tbest: 4925775.4664003 (495)\ttotal: 35s\tremaining: 282ms\n",
      "496:\tlearn: 5398958.7104955\ttest: 4914235.8366912\tbest: 4914235.8366912 (496)\ttotal: 35s\tremaining: 211ms\n",
      "497:\tlearn: 5398743.3826743\ttest: 4914685.0443860\tbest: 4914235.8366912 (496)\ttotal: 35.1s\tremaining: 141ms\n",
      "498:\tlearn: 5394258.7206228\ttest: 4911981.5956475\tbest: 4911981.5956475 (498)\ttotal: 35.2s\tremaining: 70.6ms\n",
      "499:\tlearn: 5393195.0031524\ttest: 4909029.6932248\tbest: 4909029.6932248 (499)\ttotal: 35.3s\tremaining: 0us\n",
      "\n",
      "bestTest = 4909029.693\n",
      "bestIteration = 499\n",
      "\n"
     ]
    },
    {
     "data": {
      "text/plain": [
       "<catboost.core.CatBoostRegressor at 0x19514a519a0>"
      ]
     },
     "execution_count": 12,
     "metadata": {},
     "output_type": "execute_result"
    }
   ],
   "source": [
    "model=CatBoostRegressor(iterations=500, max_depth=5, learning_rate=0.05, random_seed=1066, loss_function='RMSE')\n",
    "model.fit(X_train, y_train,cat_features=categorical_features_indices,eval_set=(X_validation, y_validation),plot=True)"
   ]
  },
  {
   "cell_type": "code",
   "execution_count": 13,
   "id": "45093969",
   "metadata": {},
   "outputs": [
    {
     "name": "stdout",
     "output_type": "stream",
     "text": [
      "R_Square score :  0.9062430015776306\n"
     ]
    }
   ],
   "source": [
    "from sklearn.metrics import r2_score\n",
    "model_predict = model.predict(X_validation)\n",
    "\n",
    "r = r2_score(y_validation,model_predict)\n",
    "print(\"R_Square score : \",r)"
   ]
  },
  {
   "cell_type": "code",
   "execution_count": 14,
   "id": "27941d63",
   "metadata": {},
   "outputs": [
    {
     "data": {
      "text/plain": [
       "Text(0.5, 1.0, 'CatBoost Regression')"
      ]
     },
     "execution_count": 14,
     "metadata": {},
     "output_type": "execute_result"
    },
    {
     "data": {
      "image/png": "[encoded data removed]",
      "text/plain": [
       "<Figure size 432x288 with 1 Axes>"
      ]
     },
     "metadata": {
      "needs_background": "light"
     },
     "output_type": "display_data"
    }
   ],
   "source": [
    "plt.scatter(y_validation,model_predict)\n",
    "plt.xlabel('Actual')\n",
    "plt.ylabel('Predicted')\n",
    "plt.title('CatBoost Regression')"
   ]
  },
  {
   "cell_type": "code",
   "execution_count": 15,
   "id": "1061d651",
   "metadata": {},
   "outputs": [
    {
     "name": "stdout",
     "output_type": "stream",
     "text": [
      "Adj. R_Squared : 0.9062352639364304\n"
     ]
    }
   ],
   "source": [
    "# Calculating Adj. R2 score: \n",
    "Adjr2_2 = 1 - (1-r)*(len(y_validation)-1)/(len(y_validation)-X_validation.shape[1]-1)\n",
    "print(\"Adj. R_Squared : {}\".format(Adjr2_2))"
   ]
  },
  {
   "cell_type": "code",
   "execution_count": 16,
   "id": "81ddf4e3",
   "metadata": {},
   "outputs": [
    {
     "data": {
      "text/plain": [
       "Text(0.5, 1.0, 'CatBoost Regression')"
      ]
     },
     "execution_count": 16,
     "metadata": {},
     "output_type": "execute_result"
    },
    {
     "data": {
      "image/png": "[encoded data removed]",
      "text/plain": [
       "<Figure size 432x288 with 1 Axes>"
      ]
     },
     "metadata": {
      "needs_background": "light"
     },
     "output_type": "display_data"
    }
   ],
   "source": [
    "ax = sns.distplot(y_validation, hist = False, color = \"r\", label = \"Actual value \")\n",
    "sns.distplot(model_predict, hist = False, color = \"b\", label = \"Predicted Values\", ax = ax)\n",
    "plt.title('CatBoost Regression')"
   ]
  },
  {
   "cell_type": "code",
   "execution_count": 17,
   "id": "bc166cb7",
   "metadata": {},
   "outputs": [
    {
     "data": {
      "text/plain": [
       "Text(0.5, 1.0, 'Feature Importance')"
      ]
     },
     "execution_count": 17,
     "metadata": {},
     "output_type": "execute_result"
    },
    {
     "data": {
      "image/png": "[encoded data removed]",
      "text/plain": [
       "<Figure size 864x432 with 1 Axes>"
      ]
     },
     "metadata": {
      "needs_background": "light"
     },
     "output_type": "display_data"
    }
   ],
   "source": [
    "feature_importance = model.feature_importances_\n",
    "sorted_idx = np.argsort(feature_importance)\n",
    "fig = plt.figure(figsize=(12, 6))\n",
    "plt.barh(range(len(sorted_idx)), feature_importance[sorted_idx], align='center')\n",
    "plt.yticks(range(len(sorted_idx)), np.array(X_validation.columns)[sorted_idx])\n",
    "plt.title('Feature Importance')"
   ]
  },
  {
   "cell_type": "code",
   "execution_count": 18,
   "id": "e841b5cf",
   "metadata": {},
   "outputs": [
    {
     "data": {
      "text/plain": [
       "['catboost_model.pkl']"
      ]
     },
     "execution_count": 18,
     "metadata": {},
     "output_type": "execute_result"
    }
   ],
   "source": [
    "# save the best model to file\n",
    "import joblib\n",
    "\n",
    "joblib.dump(model, 'catboost_model.pkl')"
   ]
  },
  {
   "cell_type": "code",
   "execution_count": null,
   "id": "b8d807ee",
   "metadata": {},
   "outputs": [],
   "source": []
  }
 ],
 "metadata": {
  "kernelspec": {
   "display_name": "Python 3 (ipykernel)",
   "language": "python",
   "name": "python3"
  },
  "language_info": {
   "codemirror_mode": {
    "name": "ipython",
    "version": 3
   },
   "file_extension": ".py",
   "mimetype": "text/x-python",
   "name": "python",
   "nbconvert_exporter": "python",
   "pygments_lexer": "ipython3",
   "version": "3.9.7"
  }
 },
 "nbformat": 4,
 "nbformat_minor": 5
}
