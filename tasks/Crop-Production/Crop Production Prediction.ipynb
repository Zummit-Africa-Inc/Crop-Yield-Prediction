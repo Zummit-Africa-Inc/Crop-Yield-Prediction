{
 "cells": [
  {
   "cell_type": "markdown",
   "id": "1485e540",
   "metadata": {},
   "source": [
    "#### CROP YIELD PREDICTION\n",
    "\n",
    "Predicting yield  can helps us to get an estimate of the crop in a certain year to control the price rates.\n",
    "\n",
    "The model to be built will focuses on predicting the crop yield in advance by analyzing factors like location, season, and crop type through machine learning techniques on previously collected datasets."
   ]
  },
  {
   "cell_type": "code",
   "execution_count": 1,
   "id": "b15220a6",
   "metadata": {},
   "outputs": [],
   "source": [
    "# importing necessary libraries \n",
    "import numpy as np\n",
    "import pandas as pd\n",
    "import matplotlib.pyplot as plt\n",
    "import seaborn as sns"
   ]
  },
  {
   "cell_type": "code",
   "execution_count": 2,
   "id": "aebf9246",
   "metadata": {},
   "outputs": [
    {
     "data": {
      "text/html": [
       "<div>\n",
       "<style scoped>\n",
       "    .dataframe tbody tr th:only-of-type {\n",
       "        vertical-align: middle;\n",
       "    }\n",
       "\n",
       "    .dataframe tbody tr th {\n",
       "        vertical-align: top;\n",
       "    }\n",
       "\n",
       "    .dataframe thead th {\n",
       "        text-align: right;\n",
       "    }\n",
       "</style>\n",
       "<table border=\"1\" class=\"dataframe\">\n",
       "  <thead>\n",
       "    <tr style=\"text-align: right;\">\n",
       "      <th></th>\n",
       "      <th>State_Name</th>\n",
       "      <th>District_Name</th>\n",
       "      <th>Crop_Year</th>\n",
       "      <th>Season</th>\n",
       "      <th>Crop</th>\n",
       "      <th>Area</th>\n",
       "      <th>Production</th>\n",
       "    </tr>\n",
       "  </thead>\n",
       "  <tbody>\n",
       "    <tr>\n",
       "      <th>0</th>\n",
       "      <td>Andaman and Nicobar Islands</td>\n",
       "      <td>NICOBARS</td>\n",
       "      <td>2000</td>\n",
       "      <td>Kharif</td>\n",
       "      <td>Arecanut</td>\n",
       "      <td>1254.0</td>\n",
       "      <td>2000.0</td>\n",
       "    </tr>\n",
       "    <tr>\n",
       "      <th>1</th>\n",
       "      <td>Andaman and Nicobar Islands</td>\n",
       "      <td>NICOBARS</td>\n",
       "      <td>2000</td>\n",
       "      <td>Kharif</td>\n",
       "      <td>Other Kharif pulses</td>\n",
       "      <td>2.0</td>\n",
       "      <td>1.0</td>\n",
       "    </tr>\n",
       "    <tr>\n",
       "      <th>2</th>\n",
       "      <td>Andaman and Nicobar Islands</td>\n",
       "      <td>NICOBARS</td>\n",
       "      <td>2000</td>\n",
       "      <td>Kharif</td>\n",
       "      <td>Rice</td>\n",
       "      <td>102.0</td>\n",
       "      <td>321.0</td>\n",
       "    </tr>\n",
       "    <tr>\n",
       "      <th>3</th>\n",
       "      <td>Andaman and Nicobar Islands</td>\n",
       "      <td>NICOBARS</td>\n",
       "      <td>2000</td>\n",
       "      <td>Whole Year</td>\n",
       "      <td>Banana</td>\n",
       "      <td>176.0</td>\n",
       "      <td>641.0</td>\n",
       "    </tr>\n",
       "    <tr>\n",
       "      <th>4</th>\n",
       "      <td>Andaman and Nicobar Islands</td>\n",
       "      <td>NICOBARS</td>\n",
       "      <td>2000</td>\n",
       "      <td>Whole Year</td>\n",
       "      <td>Cashewnut</td>\n",
       "      <td>720.0</td>\n",
       "      <td>165.0</td>\n",
       "    </tr>\n",
       "  </tbody>\n",
       "</table>\n",
       "</div>"
      ],
      "text/plain": [
       "                    State_Name District_Name  Crop_Year       Season  \\\n",
       "0  Andaman and Nicobar Islands      NICOBARS       2000  Kharif        \n",
       "1  Andaman and Nicobar Islands      NICOBARS       2000  Kharif        \n",
       "2  Andaman and Nicobar Islands      NICOBARS       2000  Kharif        \n",
       "3  Andaman and Nicobar Islands      NICOBARS       2000  Whole Year    \n",
       "4  Andaman and Nicobar Islands      NICOBARS       2000  Whole Year    \n",
       "\n",
       "                  Crop    Area  Production  \n",
       "0             Arecanut  1254.0      2000.0  \n",
       "1  Other Kharif pulses     2.0         1.0  \n",
       "2                 Rice   102.0       321.0  \n",
       "3               Banana   176.0       641.0  \n",
       "4            Cashewnut   720.0       165.0  "
      ]
     },
     "execution_count": 2,
     "metadata": {},
     "output_type": "execute_result"
    }
   ],
   "source": [
    "# loading the dataset\n",
    "crop_data=pd.read_csv(\"C:/Users/USER/Desktop/Projects/Crop-Yield-Prediction/Data/data2/crop_production.csv\")\n",
    "crop_data.head()"
   ]
  },
  {
   "cell_type": "code",
   "execution_count": 3,
   "id": "3ce892ca",
   "metadata": {},
   "outputs": [
    {
     "data": {
      "text/plain": [
       "(246091, 7)"
      ]
     },
     "execution_count": 3,
     "metadata": {},
     "output_type": "execute_result"
    }
   ],
   "source": [
    "#rows X columns\n",
    "crop_data.shape"
   ]
  },
  {
   "cell_type": "code",
   "execution_count": 4,
   "id": "aeca8fb6",
   "metadata": {},
   "outputs": [
    {
     "data": {
      "text/plain": [
       "Index(['State_Name', 'District_Name', 'Crop_Year', 'Season', 'Crop', 'Area',\n",
       "       'Production'],\n",
       "      dtype='object')"
      ]
     },
     "execution_count": 4,
     "metadata": {},
     "output_type": "execute_result"
    }
   ],
   "source": [
    "# dataset columns\n",
    "crop_data.columns"
   ]
  },
  {
   "cell_type": "code",
   "execution_count": 5,
   "id": "f4d416fe",
   "metadata": {},
   "outputs": [
    {
     "data": {
      "text/html": [
       "<div>\n",
       "<style scoped>\n",
       "    .dataframe tbody tr th:only-of-type {\n",
       "        vertical-align: middle;\n",
       "    }\n",
       "\n",
       "    .dataframe tbody tr th {\n",
       "        vertical-align: top;\n",
       "    }\n",
       "\n",
       "    .dataframe thead th {\n",
       "        text-align: right;\n",
       "    }\n",
       "</style>\n",
       "<table border=\"1\" class=\"dataframe\">\n",
       "  <thead>\n",
       "    <tr style=\"text-align: right;\">\n",
       "      <th></th>\n",
       "      <th>Crop_Year</th>\n",
       "      <th>Area</th>\n",
       "      <th>Production</th>\n",
       "    </tr>\n",
       "  </thead>\n",
       "  <tbody>\n",
       "    <tr>\n",
       "      <th>count</th>\n",
       "      <td>246091.000000</td>\n",
       "      <td>2.460910e+05</td>\n",
       "      <td>2.423610e+05</td>\n",
       "    </tr>\n",
       "    <tr>\n",
       "      <th>mean</th>\n",
       "      <td>2005.643018</td>\n",
       "      <td>1.200282e+04</td>\n",
       "      <td>5.825034e+05</td>\n",
       "    </tr>\n",
       "    <tr>\n",
       "      <th>std</th>\n",
       "      <td>4.952164</td>\n",
       "      <td>5.052340e+04</td>\n",
       "      <td>1.706581e+07</td>\n",
       "    </tr>\n",
       "    <tr>\n",
       "      <th>min</th>\n",
       "      <td>1997.000000</td>\n",
       "      <td>4.000000e-02</td>\n",
       "      <td>0.000000e+00</td>\n",
       "    </tr>\n",
       "    <tr>\n",
       "      <th>25%</th>\n",
       "      <td>2002.000000</td>\n",
       "      <td>8.000000e+01</td>\n",
       "      <td>8.800000e+01</td>\n",
       "    </tr>\n",
       "    <tr>\n",
       "      <th>50%</th>\n",
       "      <td>2006.000000</td>\n",
       "      <td>5.820000e+02</td>\n",
       "      <td>7.290000e+02</td>\n",
       "    </tr>\n",
       "    <tr>\n",
       "      <th>75%</th>\n",
       "      <td>2010.000000</td>\n",
       "      <td>4.392000e+03</td>\n",
       "      <td>7.023000e+03</td>\n",
       "    </tr>\n",
       "    <tr>\n",
       "      <th>max</th>\n",
       "      <td>2015.000000</td>\n",
       "      <td>8.580100e+06</td>\n",
       "      <td>1.250800e+09</td>\n",
       "    </tr>\n",
       "  </tbody>\n",
       "</table>\n",
       "</div>"
      ],
      "text/plain": [
       "           Crop_Year          Area    Production\n",
       "count  246091.000000  2.460910e+05  2.423610e+05\n",
       "mean     2005.643018  1.200282e+04  5.825034e+05\n",
       "std         4.952164  5.052340e+04  1.706581e+07\n",
       "min      1997.000000  4.000000e-02  0.000000e+00\n",
       "25%      2002.000000  8.000000e+01  8.800000e+01\n",
       "50%      2006.000000  5.820000e+02  7.290000e+02\n",
       "75%      2010.000000  4.392000e+03  7.023000e+03\n",
       "max      2015.000000  8.580100e+06  1.250800e+09"
      ]
     },
     "execution_count": 5,
     "metadata": {},
     "output_type": "execute_result"
    }
   ],
   "source": [
    "# Get statistical inference of the dataset\n",
    "crop_data.describe()"
   ]
  },
  {
   "cell_type": "code",
   "execution_count": 6,
   "id": "1691aeb9",
   "metadata": {},
   "outputs": [
    {
     "data": {
      "text/plain": [
       "State_Name          0\n",
       "District_Name       0\n",
       "Crop_Year           0\n",
       "Season              0\n",
       "Crop                0\n",
       "Area                0\n",
       "Production       3730\n",
       "dtype: int64"
      ]
     },
     "execution_count": 6,
     "metadata": {},
     "output_type": "execute_result"
    }
   ],
   "source": [
    "# Checking missing values of the dataset in each column\n",
    "crop_data.isnull().sum()"
   ]
  },
  {
   "cell_type": "markdown",
   "id": "65afc532",
   "metadata": {},
   "source": [
    "There are missing values in the variable `Production`. We shall drop them."
   ]
  },
  {
   "cell_type": "code",
   "execution_count": 7,
   "id": "cc53a760",
   "metadata": {},
   "outputs": [],
   "source": [
    "# Dropping missing values \n",
    "crop_data = crop_data.dropna()"
   ]
  },
  {
   "cell_type": "code",
   "execution_count": 8,
   "id": "0e90dadc",
   "metadata": {},
   "outputs": [
    {
     "data": {
      "text/plain": [
       "False"
      ]
     },
     "execution_count": 8,
     "metadata": {},
     "output_type": "execute_result"
    }
   ],
   "source": [
    "#checking if there still missing values\n",
    "crop_data.isnull().values.any()"
   ]
  },
  {
   "cell_type": "markdown",
   "id": "f51a93f3",
   "metadata": {},
   "source": [
    "#### Adding a new column `Yield` which indicates `Production per unit Area`."
   ]
  },
  {
   "cell_type": "code",
   "execution_count": 9,
   "id": "2d402663",
   "metadata": {},
   "outputs": [
    {
     "data": {
      "text/html": [
       "<div>\n",
       "<style scoped>\n",
       "    .dataframe tbody tr th:only-of-type {\n",
       "        vertical-align: middle;\n",
       "    }\n",
       "\n",
       "    .dataframe tbody tr th {\n",
       "        vertical-align: top;\n",
       "    }\n",
       "\n",
       "    .dataframe thead th {\n",
       "        text-align: right;\n",
       "    }\n",
       "</style>\n",
       "<table border=\"1\" class=\"dataframe\">\n",
       "  <thead>\n",
       "    <tr style=\"text-align: right;\">\n",
       "      <th></th>\n",
       "      <th>State_Name</th>\n",
       "      <th>District_Name</th>\n",
       "      <th>Crop_Year</th>\n",
       "      <th>Season</th>\n",
       "      <th>Crop</th>\n",
       "      <th>Area</th>\n",
       "      <th>Production</th>\n",
       "      <th>Yield</th>\n",
       "    </tr>\n",
       "  </thead>\n",
       "  <tbody>\n",
       "    <tr>\n",
       "      <th>0</th>\n",
       "      <td>Andaman and Nicobar Islands</td>\n",
       "      <td>NICOBARS</td>\n",
       "      <td>2000</td>\n",
       "      <td>Kharif</td>\n",
       "      <td>Arecanut</td>\n",
       "      <td>1254.0</td>\n",
       "      <td>2000.0</td>\n",
       "      <td>1.594896</td>\n",
       "    </tr>\n",
       "    <tr>\n",
       "      <th>1</th>\n",
       "      <td>Andaman and Nicobar Islands</td>\n",
       "      <td>NICOBARS</td>\n",
       "      <td>2000</td>\n",
       "      <td>Kharif</td>\n",
       "      <td>Other Kharif pulses</td>\n",
       "      <td>2.0</td>\n",
       "      <td>1.0</td>\n",
       "      <td>0.500000</td>\n",
       "    </tr>\n",
       "    <tr>\n",
       "      <th>2</th>\n",
       "      <td>Andaman and Nicobar Islands</td>\n",
       "      <td>NICOBARS</td>\n",
       "      <td>2000</td>\n",
       "      <td>Kharif</td>\n",
       "      <td>Rice</td>\n",
       "      <td>102.0</td>\n",
       "      <td>321.0</td>\n",
       "      <td>3.147059</td>\n",
       "    </tr>\n",
       "    <tr>\n",
       "      <th>3</th>\n",
       "      <td>Andaman and Nicobar Islands</td>\n",
       "      <td>NICOBARS</td>\n",
       "      <td>2000</td>\n",
       "      <td>Whole Year</td>\n",
       "      <td>Banana</td>\n",
       "      <td>176.0</td>\n",
       "      <td>641.0</td>\n",
       "      <td>3.642045</td>\n",
       "    </tr>\n",
       "    <tr>\n",
       "      <th>4</th>\n",
       "      <td>Andaman and Nicobar Islands</td>\n",
       "      <td>NICOBARS</td>\n",
       "      <td>2000</td>\n",
       "      <td>Whole Year</td>\n",
       "      <td>Cashewnut</td>\n",
       "      <td>720.0</td>\n",
       "      <td>165.0</td>\n",
       "      <td>0.229167</td>\n",
       "    </tr>\n",
       "    <tr>\n",
       "      <th>5</th>\n",
       "      <td>Andaman and Nicobar Islands</td>\n",
       "      <td>NICOBARS</td>\n",
       "      <td>2000</td>\n",
       "      <td>Whole Year</td>\n",
       "      <td>Coconut</td>\n",
       "      <td>18168.0</td>\n",
       "      <td>65100000.0</td>\n",
       "      <td>3583.223250</td>\n",
       "    </tr>\n",
       "    <tr>\n",
       "      <th>6</th>\n",
       "      <td>Andaman and Nicobar Islands</td>\n",
       "      <td>NICOBARS</td>\n",
       "      <td>2000</td>\n",
       "      <td>Whole Year</td>\n",
       "      <td>Dry ginger</td>\n",
       "      <td>36.0</td>\n",
       "      <td>100.0</td>\n",
       "      <td>2.777778</td>\n",
       "    </tr>\n",
       "    <tr>\n",
       "      <th>7</th>\n",
       "      <td>Andaman and Nicobar Islands</td>\n",
       "      <td>NICOBARS</td>\n",
       "      <td>2000</td>\n",
       "      <td>Whole Year</td>\n",
       "      <td>Sugarcane</td>\n",
       "      <td>1.0</td>\n",
       "      <td>2.0</td>\n",
       "      <td>2.000000</td>\n",
       "    </tr>\n",
       "    <tr>\n",
       "      <th>8</th>\n",
       "      <td>Andaman and Nicobar Islands</td>\n",
       "      <td>NICOBARS</td>\n",
       "      <td>2000</td>\n",
       "      <td>Whole Year</td>\n",
       "      <td>Sweet potato</td>\n",
       "      <td>5.0</td>\n",
       "      <td>15.0</td>\n",
       "      <td>3.000000</td>\n",
       "    </tr>\n",
       "    <tr>\n",
       "      <th>9</th>\n",
       "      <td>Andaman and Nicobar Islands</td>\n",
       "      <td>NICOBARS</td>\n",
       "      <td>2000</td>\n",
       "      <td>Whole Year</td>\n",
       "      <td>Tapioca</td>\n",
       "      <td>40.0</td>\n",
       "      <td>169.0</td>\n",
       "      <td>4.225000</td>\n",
       "    </tr>\n",
       "  </tbody>\n",
       "</table>\n",
       "</div>"
      ],
      "text/plain": [
       "                    State_Name District_Name  Crop_Year       Season  \\\n",
       "0  Andaman and Nicobar Islands      NICOBARS       2000  Kharif        \n",
       "1  Andaman and Nicobar Islands      NICOBARS       2000  Kharif        \n",
       "2  Andaman and Nicobar Islands      NICOBARS       2000  Kharif        \n",
       "3  Andaman and Nicobar Islands      NICOBARS       2000  Whole Year    \n",
       "4  Andaman and Nicobar Islands      NICOBARS       2000  Whole Year    \n",
       "5  Andaman and Nicobar Islands      NICOBARS       2000  Whole Year    \n",
       "6  Andaman and Nicobar Islands      NICOBARS       2000  Whole Year    \n",
       "7  Andaman and Nicobar Islands      NICOBARS       2000  Whole Year    \n",
       "8  Andaman and Nicobar Islands      NICOBARS       2000  Whole Year    \n",
       "9  Andaman and Nicobar Islands      NICOBARS       2000  Whole Year    \n",
       "\n",
       "                  Crop     Area  Production        Yield  \n",
       "0             Arecanut   1254.0      2000.0     1.594896  \n",
       "1  Other Kharif pulses      2.0         1.0     0.500000  \n",
       "2                 Rice    102.0       321.0     3.147059  \n",
       "3               Banana    176.0       641.0     3.642045  \n",
       "4            Cashewnut    720.0       165.0     0.229167  \n",
       "5             Coconut   18168.0  65100000.0  3583.223250  \n",
       "6           Dry ginger     36.0       100.0     2.777778  \n",
       "7            Sugarcane      1.0         2.0     2.000000  \n",
       "8         Sweet potato      5.0        15.0     3.000000  \n",
       "9              Tapioca     40.0       169.0     4.225000  "
      ]
     },
     "execution_count": 9,
     "metadata": {},
     "output_type": "execute_result"
    }
   ],
   "source": [
    "import warnings \n",
    "warnings.filterwarnings('ignore')\n",
    "crop_data['Yield'] = (crop_data['Production'] / crop_data['Area'])\n",
    "crop_data.head(10) "
   ]
  },
  {
   "cell_type": "code",
   "execution_count": 10,
   "id": "f8deac5b",
   "metadata": {},
   "outputs": [
    {
     "data": {
      "text/plain": [
       "Kharif         94283\n",
       "Rabi           66160\n",
       "Whole Year     56127\n",
       "Summer         14811\n",
       "Winter          6050\n",
       "Autumn          4930\n",
       "Name: Season, dtype: int64"
      ]
     },
     "execution_count": 10,
     "metadata": {},
     "output_type": "execute_result"
    }
   ],
   "source": [
    "#check seasons type\n",
    "crop_data.Season.value_counts()"
   ]
  },
  {
   "cell_type": "code",
   "execution_count": 11,
   "id": "4fce8bdf",
   "metadata": {},
   "outputs": [
    {
     "data": {
      "text/plain": [
       "Rice                         15082\n",
       "Maize                        13787\n",
       "Moong(Green Gram)            10106\n",
       "Urad                          9710\n",
       "Sesamum                       8821\n",
       "Groundnut                     8770\n",
       "Wheat                         7878\n",
       "Sugarcane                     7827\n",
       "Rapeseed &Mustard             7533\n",
       "Arhar/Tur                     7476\n",
       "Gram                          7227\n",
       "Jowar                         6990\n",
       "Onion                         6984\n",
       "Potato                        6914\n",
       "Dry chillies                  6421\n",
       "Sunflower                     5483\n",
       "Bajra                         5379\n",
       "Small millets                 4593\n",
       "Peas & beans (Pulses)         4447\n",
       "Cotton(lint)                  4382\n",
       "Linseed                       4351\n",
       "Turmeric                      4168\n",
       "Masoor                        4152\n",
       "Sweet potato                  4122\n",
       "Barley                        4116\n",
       "Ragi                          4116\n",
       "Horse-gram                    3823\n",
       "Other Kharif pulses           3549\n",
       "Coriander                     3313\n",
       "Castor seed                   3270\n",
       "Garlic                        3225\n",
       "Soyabean                      3181\n",
       "Banana                        3133\n",
       "Other  Rabi pulses            3085\n",
       "Dry ginger                    2987\n",
       "Tobacco                       2637\n",
       "Sannhamp                      2183\n",
       "Niger seed                    2018\n",
       "Coconut                       1958\n",
       "Mesta                         1770\n",
       "Tapioca                       1584\n",
       "Arecanut                      1538\n",
       "Jute                          1408\n",
       "Khesari                       1355\n",
       "Safflower                     1305\n",
       "Guar seed                     1257\n",
       "Cashewnut                     1068\n",
       "Black pepper                   904\n",
       "Moth                           786\n",
       "Other Cereals & Millets        608\n",
       "other oilseeds                 594\n",
       "Cowpea(Lobia)                  545\n",
       "Papaya                         483\n",
       "Paddy                          479\n",
       "Mango                          449\n",
       "Oilseeds total                 426\n",
       "Other Fresh Fruits             410\n",
       "Brinjal                        386\n",
       "Other Vegetables               381\n",
       "Tomato                         368\n",
       "Cardamom                       352\n",
       "Citrus Fruit                   301\n",
       "Pome Fruit                     297\n",
       "Orange                         271\n",
       "Pulses total                   266\n",
       "Pineapple                      247\n",
       "Ginger                         241\n",
       "Bhindi                         236\n",
       "Cabbage                        204\n",
       "Total foodgrain                188\n",
       "Beans & Mutter(Vegetable)      167\n",
       "Grapes                         129\n",
       "Korra                          126\n",
       "Cauliflower                    122\n",
       "Drum Stick                     112\n",
       "Blackgram                       99\n",
       "Jack Fruit                      98\n",
       "Cucumber                        93\n",
       "Bitter Gourd                    92\n",
       "Samai                           87\n",
       "Water Melon                     85\n",
       "Bottle Gourd                    84\n",
       "Snak Guard                      82\n",
       "other misc. pulses              70\n",
       "Other Citrus Fruit              69\n",
       "Pome Granet                     66\n",
       "Tea                             62\n",
       "Redish                          61\n",
       "Varagu                          58\n",
       "Pump Kin                        51\n",
       "Lab-Lab                         48\n",
       "Ash Gourd                       44\n",
       "Lemon                           39\n",
       "Sapota                          39\n",
       "Ribed Guard                     38\n",
       "Yam                             36\n",
       "Cashewnut Raw                   35\n",
       "Lentil                          31\n",
       "Rubber                          29\n",
       "Carrot                          28\n",
       "Cashewnut Processed             21\n",
       "Bean                            20\n",
       "Jute & mesta                    20\n",
       "Arcanut (Processed)             20\n",
       "Atcanut (Raw)                   20\n",
       "Cond-spcs other                 18\n",
       "Rajmash Kholar                  18\n",
       "Beet Root                       16\n",
       "Kapas                           12\n",
       "Ber                             11\n",
       "Peas  (vegetable)               11\n",
       "Colocosia                       11\n",
       "Ricebean (nagadal)              10\n",
       "other fibres                    10\n",
       "Perilla                          9\n",
       "Jobster                          9\n",
       "Turnip                           8\n",
       "Pear                             6\n",
       "Plums                            6\n",
       "Litchi                           6\n",
       "Coffee                           6\n",
       "Apple                            4\n",
       "Peach                            4\n",
       "Other Dry Fruit                  1\n",
       "Name: Crop, dtype: int64"
      ]
     },
     "execution_count": 11,
     "metadata": {},
     "output_type": "execute_result"
    }
   ],
   "source": [
    "#check crop planted\n",
    "pd.set_option('display.max_rows', 500)\n",
    "crop_data.Crop.value_counts()"
   ]
  },
  {
   "cell_type": "code",
   "execution_count": 12,
   "id": "6a4e4b06",
   "metadata": {},
   "outputs": [
    {
     "data": {
      "text/plain": [
       "TUMKUR       931\n",
       "BELGAUM      924\n",
       "BIJAPUR      905\n",
       "HASSAN       895\n",
       "BELLARY      887\n",
       "            ... \n",
       "HYDERABAD      8\n",
       "KHUNTI         6\n",
       "RAMGARH        6\n",
       "NAMSAI         1\n",
       "MUMBAI         1\n",
       "Name: District_Name, Length: 646, dtype: int64"
      ]
     },
     "execution_count": 12,
     "metadata": {},
     "output_type": "execute_result"
    }
   ],
   "source": [
    "#District_Name\n",
    "crop_data.District_Name.value_counts()"
   ]
  },
  {
   "cell_type": "code",
   "execution_count": 13,
   "id": "b542f8d1",
   "metadata": {},
   "outputs": [
    {
     "data": {
      "text/plain": [
       "2003    17139\n",
       "2002    16536\n",
       "2007    14269\n",
       "2008    14230\n",
       "2006    13976\n",
       "2004    13858\n",
       "2010    13793\n",
       "2011    13791\n",
       "2009    13767\n",
       "2000    13553\n",
       "2005    13519\n",
       "2013    13475\n",
       "2001    13293\n",
       "2012    13184\n",
       "1999    12441\n",
       "1998    11262\n",
       "2014    10815\n",
       "1997     8899\n",
       "2015      561\n",
       "Name: Crop_Year, dtype: int64"
      ]
     },
     "execution_count": 13,
     "metadata": {},
     "output_type": "execute_result"
    }
   ],
   "source": [
    "#Crop_Year\n",
    "crop_data.Crop_Year.value_counts()"
   ]
  },
  {
   "cell_type": "code",
   "execution_count": 14,
   "id": "2d3305bf",
   "metadata": {},
   "outputs": [
    {
     "data": {
      "text/plain": [
       "State_Name        object\n",
       "District_Name     object\n",
       "Crop_Year          int64\n",
       "Season            object\n",
       "Crop              object\n",
       "Area             float64\n",
       "Production       float64\n",
       "Yield            float64\n",
       "dtype: object"
      ]
     },
     "execution_count": 14,
     "metadata": {},
     "output_type": "execute_result"
    }
   ],
   "source": [
    "crop_data.dtypes"
   ]
  },
  {
   "cell_type": "code",
   "execution_count": 15,
   "id": "cd7d49fd",
   "metadata": {},
   "outputs": [
    {
     "data": {
      "text/html": [
       "<div>\n",
       "<style scoped>\n",
       "    .dataframe tbody tr th:only-of-type {\n",
       "        vertical-align: middle;\n",
       "    }\n",
       "\n",
       "    .dataframe tbody tr th {\n",
       "        vertical-align: top;\n",
       "    }\n",
       "\n",
       "    .dataframe thead th {\n",
       "        text-align: right;\n",
       "    }\n",
       "</style>\n",
       "<table border=\"1\" class=\"dataframe\">\n",
       "  <thead>\n",
       "    <tr style=\"text-align: right;\">\n",
       "      <th></th>\n",
       "      <th>Area</th>\n",
       "      <th>Production</th>\n",
       "      <th>Yield</th>\n",
       "    </tr>\n",
       "  </thead>\n",
       "  <tbody>\n",
       "    <tr>\n",
       "      <th>0</th>\n",
       "      <td>1254.0</td>\n",
       "      <td>2000.0</td>\n",
       "      <td>1.594896</td>\n",
       "    </tr>\n",
       "    <tr>\n",
       "      <th>1</th>\n",
       "      <td>2.0</td>\n",
       "      <td>1.0</td>\n",
       "      <td>0.500000</td>\n",
       "    </tr>\n",
       "    <tr>\n",
       "      <th>2</th>\n",
       "      <td>102.0</td>\n",
       "      <td>321.0</td>\n",
       "      <td>3.147059</td>\n",
       "    </tr>\n",
       "    <tr>\n",
       "      <th>3</th>\n",
       "      <td>176.0</td>\n",
       "      <td>641.0</td>\n",
       "      <td>3.642045</td>\n",
       "    </tr>\n",
       "    <tr>\n",
       "      <th>4</th>\n",
       "      <td>720.0</td>\n",
       "      <td>165.0</td>\n",
       "      <td>0.229167</td>\n",
       "    </tr>\n",
       "  </tbody>\n",
       "</table>\n",
       "</div>"
      ],
      "text/plain": [
       "     Area  Production     Yield\n",
       "0  1254.0      2000.0  1.594896\n",
       "1     2.0         1.0  0.500000\n",
       "2   102.0       321.0  3.147059\n",
       "3   176.0       641.0  3.642045\n",
       "4   720.0       165.0  0.229167"
      ]
     },
     "execution_count": 15,
     "metadata": {},
     "output_type": "execute_result"
    }
   ],
   "source": [
    "# Visualizing the float64 features \n",
    "cor_data = crop_data.loc[:,(crop_data.dtypes=='float64').values]\n",
    "cor_data.head()"
   ]
  },
  {
   "cell_type": "code",
   "execution_count": 16,
   "id": "8d589d64",
   "metadata": {},
   "outputs": [
    {
     "data": {
      "image/png": "[encoded data removed]",
      "text/plain": [
       "<Figure size 792x648 with 2 Axes>"
      ]
     },
     "metadata": {
      "needs_background": "light"
     },
     "output_type": "display_data"
    }
   ],
   "source": [
    "correlation_data=crop_data.select_dtypes(include=[np.number]).corr()\n",
    "\n",
    "mask = np.zeros_like(correlation_data, dtype=np.bool)\n",
    "mask[np.triu_indices_from(mask)] = True\n",
    "\n",
    "f, ax = plt.subplots(figsize=(11, 9))\n",
    "\n",
    "# Generate a custom diverging colormap\n",
    "cmap = sns.palette=\"vlag\"\n",
    "\n",
    "# Draw the heatmap with the mask and correct aspect ratio\n",
    "sns.heatmap(correlation_data, mask=mask, cmap=cmap, vmax=.3, center=0,\n",
    "            square=True, linewidths=.5, cbar_kws={\"shrink\": .5});"
   ]
  },
  {
   "cell_type": "code",
   "execution_count": 17,
   "id": "d6b95066",
   "metadata": {},
   "outputs": [],
   "source": [
    "# Dropping unnecessary columns\n",
    "data = crop_data.drop(['State_Name'], axis = 1)"
   ]
  },
  {
   "cell_type": "code",
   "execution_count": 18,
   "id": "77166cea",
   "metadata": {},
   "outputs": [
    {
     "data": {
      "text/html": [
       "<div>\n",
       "<style scoped>\n",
       "    .dataframe tbody tr th:only-of-type {\n",
       "        vertical-align: middle;\n",
       "    }\n",
       "\n",
       "    .dataframe tbody tr th {\n",
       "        vertical-align: top;\n",
       "    }\n",
       "\n",
       "    .dataframe thead th {\n",
       "        text-align: right;\n",
       "    }\n",
       "</style>\n",
       "<table border=\"1\" class=\"dataframe\">\n",
       "  <thead>\n",
       "    <tr style=\"text-align: right;\">\n",
       "      <th></th>\n",
       "      <th>Crop_Year</th>\n",
       "      <th>Area</th>\n",
       "      <th>Production</th>\n",
       "      <th>Yield</th>\n",
       "      <th>District_Name_24 PARAGANAS NORTH</th>\n",
       "      <th>District_Name_24 PARAGANAS SOUTH</th>\n",
       "      <th>District_Name_ADILABAD</th>\n",
       "      <th>District_Name_AGAR MALWA</th>\n",
       "      <th>District_Name_AGRA</th>\n",
       "      <th>District_Name_AHMADABAD</th>\n",
       "      <th>...</th>\n",
       "      <th>Crop_Turmeric</th>\n",
       "      <th>Crop_Turnip</th>\n",
       "      <th>Crop_Urad</th>\n",
       "      <th>Crop_Varagu</th>\n",
       "      <th>Crop_Water Melon</th>\n",
       "      <th>Crop_Wheat</th>\n",
       "      <th>Crop_Yam</th>\n",
       "      <th>Crop_other fibres</th>\n",
       "      <th>Crop_other misc. pulses</th>\n",
       "      <th>Crop_other oilseeds</th>\n",
       "    </tr>\n",
       "  </thead>\n",
       "  <tbody>\n",
       "    <tr>\n",
       "      <th>0</th>\n",
       "      <td>2000</td>\n",
       "      <td>1254.0</td>\n",
       "      <td>2000.0</td>\n",
       "      <td>1.594896</td>\n",
       "      <td>0</td>\n",
       "      <td>0</td>\n",
       "      <td>0</td>\n",
       "      <td>0</td>\n",
       "      <td>0</td>\n",
       "      <td>0</td>\n",
       "      <td>...</td>\n",
       "      <td>0</td>\n",
       "      <td>0</td>\n",
       "      <td>0</td>\n",
       "      <td>0</td>\n",
       "      <td>0</td>\n",
       "      <td>0</td>\n",
       "      <td>0</td>\n",
       "      <td>0</td>\n",
       "      <td>0</td>\n",
       "      <td>0</td>\n",
       "    </tr>\n",
       "    <tr>\n",
       "      <th>1</th>\n",
       "      <td>2000</td>\n",
       "      <td>2.0</td>\n",
       "      <td>1.0</td>\n",
       "      <td>0.500000</td>\n",
       "      <td>0</td>\n",
       "      <td>0</td>\n",
       "      <td>0</td>\n",
       "      <td>0</td>\n",
       "      <td>0</td>\n",
       "      <td>0</td>\n",
       "      <td>...</td>\n",
       "      <td>0</td>\n",
       "      <td>0</td>\n",
       "      <td>0</td>\n",
       "      <td>0</td>\n",
       "      <td>0</td>\n",
       "      <td>0</td>\n",
       "      <td>0</td>\n",
       "      <td>0</td>\n",
       "      <td>0</td>\n",
       "      <td>0</td>\n",
       "    </tr>\n",
       "    <tr>\n",
       "      <th>2</th>\n",
       "      <td>2000</td>\n",
       "      <td>102.0</td>\n",
       "      <td>321.0</td>\n",
       "      <td>3.147059</td>\n",
       "      <td>0</td>\n",
       "      <td>0</td>\n",
       "      <td>0</td>\n",
       "      <td>0</td>\n",
       "      <td>0</td>\n",
       "      <td>0</td>\n",
       "      <td>...</td>\n",
       "      <td>0</td>\n",
       "      <td>0</td>\n",
       "      <td>0</td>\n",
       "      <td>0</td>\n",
       "      <td>0</td>\n",
       "      <td>0</td>\n",
       "      <td>0</td>\n",
       "      <td>0</td>\n",
       "      <td>0</td>\n",
       "      <td>0</td>\n",
       "    </tr>\n",
       "    <tr>\n",
       "      <th>3</th>\n",
       "      <td>2000</td>\n",
       "      <td>176.0</td>\n",
       "      <td>641.0</td>\n",
       "      <td>3.642045</td>\n",
       "      <td>0</td>\n",
       "      <td>0</td>\n",
       "      <td>0</td>\n",
       "      <td>0</td>\n",
       "      <td>0</td>\n",
       "      <td>0</td>\n",
       "      <td>...</td>\n",
       "      <td>0</td>\n",
       "      <td>0</td>\n",
       "      <td>0</td>\n",
       "      <td>0</td>\n",
       "      <td>0</td>\n",
       "      <td>0</td>\n",
       "      <td>0</td>\n",
       "      <td>0</td>\n",
       "      <td>0</td>\n",
       "      <td>0</td>\n",
       "    </tr>\n",
       "    <tr>\n",
       "      <th>4</th>\n",
       "      <td>2000</td>\n",
       "      <td>720.0</td>\n",
       "      <td>165.0</td>\n",
       "      <td>0.229167</td>\n",
       "      <td>0</td>\n",
       "      <td>0</td>\n",
       "      <td>0</td>\n",
       "      <td>0</td>\n",
       "      <td>0</td>\n",
       "      <td>0</td>\n",
       "      <td>...</td>\n",
       "      <td>0</td>\n",
       "      <td>0</td>\n",
       "      <td>0</td>\n",
       "      <td>0</td>\n",
       "      <td>0</td>\n",
       "      <td>0</td>\n",
       "      <td>0</td>\n",
       "      <td>0</td>\n",
       "      <td>0</td>\n",
       "      <td>0</td>\n",
       "    </tr>\n",
       "    <tr>\n",
       "      <th>...</th>\n",
       "      <td>...</td>\n",
       "      <td>...</td>\n",
       "      <td>...</td>\n",
       "      <td>...</td>\n",
       "      <td>...</td>\n",
       "      <td>...</td>\n",
       "      <td>...</td>\n",
       "      <td>...</td>\n",
       "      <td>...</td>\n",
       "      <td>...</td>\n",
       "      <td>...</td>\n",
       "      <td>...</td>\n",
       "      <td>...</td>\n",
       "      <td>...</td>\n",
       "      <td>...</td>\n",
       "      <td>...</td>\n",
       "      <td>...</td>\n",
       "      <td>...</td>\n",
       "      <td>...</td>\n",
       "      <td>...</td>\n",
       "      <td>...</td>\n",
       "    </tr>\n",
       "    <tr>\n",
       "      <th>246086</th>\n",
       "      <td>2014</td>\n",
       "      <td>306.0</td>\n",
       "      <td>801.0</td>\n",
       "      <td>2.617647</td>\n",
       "      <td>0</td>\n",
       "      <td>0</td>\n",
       "      <td>0</td>\n",
       "      <td>0</td>\n",
       "      <td>0</td>\n",
       "      <td>0</td>\n",
       "      <td>...</td>\n",
       "      <td>0</td>\n",
       "      <td>0</td>\n",
       "      <td>0</td>\n",
       "      <td>0</td>\n",
       "      <td>0</td>\n",
       "      <td>0</td>\n",
       "      <td>0</td>\n",
       "      <td>0</td>\n",
       "      <td>0</td>\n",
       "      <td>0</td>\n",
       "    </tr>\n",
       "    <tr>\n",
       "      <th>246087</th>\n",
       "      <td>2014</td>\n",
       "      <td>627.0</td>\n",
       "      <td>463.0</td>\n",
       "      <td>0.738437</td>\n",
       "      <td>0</td>\n",
       "      <td>0</td>\n",
       "      <td>0</td>\n",
       "      <td>0</td>\n",
       "      <td>0</td>\n",
       "      <td>0</td>\n",
       "      <td>...</td>\n",
       "      <td>0</td>\n",
       "      <td>0</td>\n",
       "      <td>0</td>\n",
       "      <td>0</td>\n",
       "      <td>0</td>\n",
       "      <td>0</td>\n",
       "      <td>0</td>\n",
       "      <td>0</td>\n",
       "      <td>0</td>\n",
       "      <td>0</td>\n",
       "    </tr>\n",
       "    <tr>\n",
       "      <th>246088</th>\n",
       "      <td>2014</td>\n",
       "      <td>324.0</td>\n",
       "      <td>16250.0</td>\n",
       "      <td>50.154321</td>\n",
       "      <td>0</td>\n",
       "      <td>0</td>\n",
       "      <td>0</td>\n",
       "      <td>0</td>\n",
       "      <td>0</td>\n",
       "      <td>0</td>\n",
       "      <td>...</td>\n",
       "      <td>0</td>\n",
       "      <td>0</td>\n",
       "      <td>0</td>\n",
       "      <td>0</td>\n",
       "      <td>0</td>\n",
       "      <td>0</td>\n",
       "      <td>0</td>\n",
       "      <td>0</td>\n",
       "      <td>0</td>\n",
       "      <td>0</td>\n",
       "    </tr>\n",
       "    <tr>\n",
       "      <th>246089</th>\n",
       "      <td>2014</td>\n",
       "      <td>279151.0</td>\n",
       "      <td>597899.0</td>\n",
       "      <td>2.141848</td>\n",
       "      <td>0</td>\n",
       "      <td>0</td>\n",
       "      <td>0</td>\n",
       "      <td>0</td>\n",
       "      <td>0</td>\n",
       "      <td>0</td>\n",
       "      <td>...</td>\n",
       "      <td>0</td>\n",
       "      <td>0</td>\n",
       "      <td>0</td>\n",
       "      <td>0</td>\n",
       "      <td>0</td>\n",
       "      <td>0</td>\n",
       "      <td>0</td>\n",
       "      <td>0</td>\n",
       "      <td>0</td>\n",
       "      <td>0</td>\n",
       "    </tr>\n",
       "    <tr>\n",
       "      <th>246090</th>\n",
       "      <td>2014</td>\n",
       "      <td>175.0</td>\n",
       "      <td>88.0</td>\n",
       "      <td>0.502857</td>\n",
       "      <td>0</td>\n",
       "      <td>0</td>\n",
       "      <td>0</td>\n",
       "      <td>0</td>\n",
       "      <td>0</td>\n",
       "      <td>0</td>\n",
       "      <td>...</td>\n",
       "      <td>0</td>\n",
       "      <td>0</td>\n",
       "      <td>0</td>\n",
       "      <td>0</td>\n",
       "      <td>0</td>\n",
       "      <td>0</td>\n",
       "      <td>0</td>\n",
       "      <td>0</td>\n",
       "      <td>0</td>\n",
       "      <td>0</td>\n",
       "    </tr>\n",
       "  </tbody>\n",
       "</table>\n",
       "<p>242361 rows × 780 columns</p>\n",
       "</div>"
      ],
      "text/plain": [
       "        Crop_Year      Area  Production      Yield  \\\n",
       "0            2000    1254.0      2000.0   1.594896   \n",
       "1            2000       2.0         1.0   0.500000   \n",
       "2            2000     102.0       321.0   3.147059   \n",
       "3            2000     176.0       641.0   3.642045   \n",
       "4            2000     720.0       165.0   0.229167   \n",
       "...           ...       ...         ...        ...   \n",
       "246086       2014     306.0       801.0   2.617647   \n",
       "246087       2014     627.0       463.0   0.738437   \n",
       "246088       2014     324.0     16250.0  50.154321   \n",
       "246089       2014  279151.0    597899.0   2.141848   \n",
       "246090       2014     175.0        88.0   0.502857   \n",
       "\n",
       "        District_Name_24 PARAGANAS NORTH  District_Name_24 PARAGANAS SOUTH  \\\n",
       "0                                      0                                 0   \n",
       "1                                      0                                 0   \n",
       "2                                      0                                 0   \n",
       "3                                      0                                 0   \n",
       "4                                      0                                 0   \n",
       "...                                  ...                               ...   \n",
       "246086                                 0                                 0   \n",
       "246087                                 0                                 0   \n",
       "246088                                 0                                 0   \n",
       "246089                                 0                                 0   \n",
       "246090                                 0                                 0   \n",
       "\n",
       "        District_Name_ADILABAD  District_Name_AGAR MALWA  District_Name_AGRA  \\\n",
       "0                            0                         0                   0   \n",
       "1                            0                         0                   0   \n",
       "2                            0                         0                   0   \n",
       "3                            0                         0                   0   \n",
       "4                            0                         0                   0   \n",
       "...                        ...                       ...                 ...   \n",
       "246086                       0                         0                   0   \n",
       "246087                       0                         0                   0   \n",
       "246088                       0                         0                   0   \n",
       "246089                       0                         0                   0   \n",
       "246090                       0                         0                   0   \n",
       "\n",
       "        District_Name_AHMADABAD  ...  Crop_Turmeric  Crop_Turnip  Crop_Urad  \\\n",
       "0                             0  ...              0            0          0   \n",
       "1                             0  ...              0            0          0   \n",
       "2                             0  ...              0            0          0   \n",
       "3                             0  ...              0            0          0   \n",
       "4                             0  ...              0            0          0   \n",
       "...                         ...  ...            ...          ...        ...   \n",
       "246086                        0  ...              0            0          0   \n",
       "246087                        0  ...              0            0          0   \n",
       "246088                        0  ...              0            0          0   \n",
       "246089                        0  ...              0            0          0   \n",
       "246090                        0  ...              0            0          0   \n",
       "\n",
       "        Crop_Varagu  Crop_Water Melon  Crop_Wheat  Crop_Yam  \\\n",
       "0                 0                 0           0         0   \n",
       "1                 0                 0           0         0   \n",
       "2                 0                 0           0         0   \n",
       "3                 0                 0           0         0   \n",
       "4                 0                 0           0         0   \n",
       "...             ...               ...         ...       ...   \n",
       "246086            0                 0           0         0   \n",
       "246087            0                 0           0         0   \n",
       "246088            0                 0           0         0   \n",
       "246089            0                 0           0         0   \n",
       "246090            0                 0           0         0   \n",
       "\n",
       "        Crop_other fibres  Crop_other misc. pulses  Crop_other oilseeds  \n",
       "0                       0                        0                    0  \n",
       "1                       0                        0                    0  \n",
       "2                       0                        0                    0  \n",
       "3                       0                        0                    0  \n",
       "4                       0                        0                    0  \n",
       "...                   ...                      ...                  ...  \n",
       "246086                  0                        0                    0  \n",
       "246087                  0                        0                    0  \n",
       "246088                  0                        0                    0  \n",
       "246089                  0                        0                    0  \n",
       "246090                  0                        0                    0  \n",
       "\n",
       "[242361 rows x 780 columns]"
      ]
     },
     "execution_count": 18,
     "metadata": {},
     "output_type": "execute_result"
    }
   ],
   "source": [
    "dummy = pd.get_dummies(data)\n",
    "dummy"
   ]
  },
  {
   "cell_type": "markdown",
   "id": "1a335a3d",
   "metadata": {},
   "source": [
    "#### Splitting dataset into train and test dataset"
   ]
  },
  {
   "cell_type": "code",
   "execution_count": 19,
   "id": "4c707dcc",
   "metadata": {},
   "outputs": [
    {
     "name": "stdout",
     "output_type": "stream",
     "text": [
      "x_train : (181770, 778)\n",
      "x_test : (60591, 778)\n",
      "y_train : (181770,)\n",
      "y_test : (60591,)\n"
     ]
    }
   ],
   "source": [
    "from sklearn.model_selection import train_test_split\n",
    "\n",
    "x = dummy.drop([\"Production\",\"Yield\"], axis=1)\n",
    "y = dummy[\"Production\"]\n",
    "\n",
    "# Splitting data set - 25% test dataset and 75% \n",
    "\n",
    "x_train,x_test,y_train,y_test = train_test_split(x,y,test_size=0.25, random_state=5)\n",
    "\n",
    "print(\"x_train :\",x_train.shape)\n",
    "print(\"x_test :\",x_test.shape)\n",
    "print(\"y_train :\",y_train.shape)\n",
    "print(\"y_test :\",y_test.shape)"
   ]
  },
  {
   "cell_type": "markdown",
   "id": "8e7f655a",
   "metadata": {},
   "source": [
    "#### Build a Baseline Model: Linear Regression"
   ]
  },
  {
   "cell_type": "code",
   "execution_count": 20,
   "id": "a1dd3473",
   "metadata": {},
   "outputs": [
    {
     "data": {
      "text/plain": [
       "LinearRegression()"
      ]
     },
     "execution_count": 20,
     "metadata": {},
     "output_type": "execute_result"
    }
   ],
   "source": [
    "# Training the Simple Linear Regression model .\n",
    "\n",
    "from sklearn.linear_model import LinearRegression\n",
    "model = LinearRegression()\n",
    "model.fit(x_train,y_train)"
   ]
  },
  {
   "cell_type": "code",
   "execution_count": 21,
   "id": "58eed6e0",
   "metadata": {},
   "outputs": [
    {
     "data": {
      "text/plain": [
       "array([ -181489.171875 ,   489530.109375 , -1267951.8828125, ...,\n",
       "         140833.75     , -1730617.9921875,   363764.015625 ])"
      ]
     },
     "execution_count": 21,
     "metadata": {},
     "output_type": "execute_result"
    }
   ],
   "source": [
    "# Predicting the test Results \n",
    "\n",
    "lr_predict = model.predict(x_test)\n",
    "lr_predict"
   ]
  },
  {
   "cell_type": "code",
   "execution_count": 22,
   "id": "74a58413",
   "metadata": {},
   "outputs": [
    {
     "data": {
      "text/plain": [
       "-12663.421745320156"
      ]
     },
     "execution_count": 22,
     "metadata": {},
     "output_type": "execute_result"
    }
   ],
   "source": [
    "model.score(x_test,y_test)"
   ]
  },
  {
   "cell_type": "code",
   "execution_count": 23,
   "id": "30bffa1e",
   "metadata": {},
   "outputs": [
    {
     "name": "stdout",
     "output_type": "stream",
     "text": [
      "R2 score :  -12663.421745320156\n"
     ]
    }
   ],
   "source": [
    "from sklearn.metrics import r2_score\n",
    "r = r2_score(y_test,lr_predict)\n",
    "print(\"R2 score : \",r)"
   ]
  },
  {
   "cell_type": "code",
   "execution_count": 24,
   "id": "91654ceb",
   "metadata": {},
   "outputs": [
    {
     "data": {
      "text/plain": [
       "Text(0.5, 1.0, 'Linear Regression')"
      ]
     },
     "execution_count": 24,
     "metadata": {},
     "output_type": "execute_result"
    },
    {
     "data": {
      "image/png": "[encoded data removed]",
      "text/plain": [
       "<Figure size 432x288 with 1 Axes>"
      ]
     },
     "metadata": {
      "needs_background": "light"
     },
     "output_type": "display_data"
    }
   ],
   "source": [
    "plt.scatter(y_test,lr_predict)\n",
    "plt.xlabel('Actual')\n",
    "plt.ylabel('Predicted')\n",
    "plt.title('Linear Regression')"
   ]
  },
  {
   "cell_type": "markdown",
   "id": "c887a0e4",
   "metadata": {},
   "source": [
    "Clearly, linear regression model is not good for training the dataset.\n",
    "\n",
    "###### Assumptions of Linear Regression\n",
    "\n",
    "1. Linearity.\n",
    "\n",
    "2. Homoscedasticity\n",
    "\n",
    "3. Multivariate normality\n",
    "\n",
    "4. Lack of multicollinearity"
   ]
  },
  {
   "cell_type": "markdown",
   "id": "0067547c",
   "metadata": {},
   "source": [
    "#### Decision Tree"
   ]
  },
  {
   "cell_type": "code",
   "execution_count": 25,
   "id": "79d50c65",
   "metadata": {},
   "outputs": [],
   "source": [
    "# Feature Scaling\n",
    "\n",
    "from sklearn.preprocessing import StandardScaler\n",
    "sc = StandardScaler()\n",
    "x_train = sc.fit_transform(x_train)\n",
    "x_test = sc.fit_transform(x_test)"
   ]
  },
  {
   "cell_type": "code",
   "execution_count": 26,
   "id": "23d1540c",
   "metadata": {},
   "outputs": [
    {
     "data": {
      "text/plain": [
       "array([3900., 1100., 1756., ...,  248., 9656.,   22.])"
      ]
     },
     "execution_count": 26,
     "metadata": {},
     "output_type": "execute_result"
    }
   ],
   "source": [
    "# Training model \n",
    "from sklearn.tree import DecisionTreeRegressor\n",
    "regressor = DecisionTreeRegressor(random_state = 5)\n",
    "regressor.fit(x_train,y_train)\n",
    "\n",
    "# Predicting results\n",
    "decisiontree_predict = regressor.predict(x_test)\n",
    "decisiontree_predict"
   ]
  },
  {
   "cell_type": "code",
   "execution_count": 27,
   "id": "11b6e1eb",
   "metadata": {},
   "outputs": [
    {
     "data": {
      "text/plain": [
       "0.9585403357016204"
      ]
     },
     "execution_count": 27,
     "metadata": {},
     "output_type": "execute_result"
    }
   ],
   "source": [
    "regressor.score(x_test,y_test)"
   ]
  },
  {
   "cell_type": "code",
   "execution_count": 28,
   "id": "db4ecefd",
   "metadata": {},
   "outputs": [
    {
     "name": "stdout",
     "output_type": "stream",
     "text": [
      "R2 score :  0.9585403357016204\n"
     ]
    }
   ],
   "source": [
    "r2 = r2_score(y_test,decisiontree_predict)\n",
    "print(\"R2 score : \",r2)"
   ]
  },
  {
   "cell_type": "code",
   "execution_count": 29,
   "id": "271e00a1",
   "metadata": {},
   "outputs": [
    {
     "name": "stdout",
     "output_type": "stream",
     "text": [
      "Adj. R-Squared : -12828.153239298941\n"
     ]
    }
   ],
   "source": [
    "# Calculating Adj. R2 score: \n",
    "\n",
    "Adjr2_2 = 1 - (1-r)*(len(y_test)-1)/(len(y_test)-x_test.shape[1]-1)\n",
    "print(\"Adj. R-Squared : {}\".format(Adjr2_2))"
   ]
  },
  {
   "cell_type": "code",
   "execution_count": 30,
   "id": "add191bc",
   "metadata": {},
   "outputs": [
    {
     "data": {
      "text/plain": [
       "Text(0.5, 1.0, 'Decision Tree Regression')"
      ]
     },
     "execution_count": 30,
     "metadata": {},
     "output_type": "execute_result"
    },
    {
     "data": {
      "image/png": "[encoded data removed]",
      "text/plain": [
       "<Figure size 432x288 with 1 Axes>"
      ]
     },
     "metadata": {
      "needs_background": "light"
     },
     "output_type": "display_data"
    }
   ],
   "source": [
    "ax = sns.distplot(y_test, hist = False, color = \"r\", label = \"Actual value \")\n",
    "sns.distplot(decisiontree_predict, hist = False, color = \"b\", label = \"Predicted Values\", ax = ax)\n",
    "plt.title('Decision Tree Regression')"
   ]
  },
  {
   "cell_type": "markdown",
   "id": "a33a61c5",
   "metadata": {},
   "source": [
    "Decision Tree did not also give the desire results"
   ]
  },
  {
   "cell_type": "code",
   "execution_count": null,
   "id": "8e3def69",
   "metadata": {},
   "outputs": [],
   "source": []
  }
 ],
 "metadata": {
  "kernelspec": {
   "display_name": "Python 3 (ipykernel)",
   "language": "python",
   "name": "python3"
  },
  "language_info": {
   "codemirror_mode": {
    "name": "ipython",
    "version": 3
   },
   "file_extension": ".py",
   "mimetype": "text/x-python",
   "name": "python",
   "nbconvert_exporter": "python",
   "pygments_lexer": "ipython3",
   "version": "3.9.7"
  }
 },
 "nbformat": 4,
 "nbformat_minor": 5
}
